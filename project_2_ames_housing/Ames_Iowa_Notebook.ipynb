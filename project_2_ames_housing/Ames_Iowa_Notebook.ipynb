{
 "cells": [
  {
   "cell_type": "markdown",
   "metadata": {},
   "source": [
    "<img src=\"http://imgur.com/1ZcRyrc.png\" style=\"float: left; margin: 20px; height: 55px\">\n",
    "\n",
    "# Project 2: Ames Housing Data and Kaggle Challenge\n",
    "\n",
    "---"
   ]
  },
  {
   "cell_type": "markdown",
   "metadata": {},
   "source": [
    "### Contents:\n",
    "- [Background](#Background)\n",
    "- [Problem Statement](#Problem-Statement)\n",
    "- [Data Import & Cleaning](#Data-Import-and-Cleaning)\n",
    "- [Exploratory Data Analysis](#Exploratory-Data-Analysis)\n",
    "- [Dummify Who?](#Dummify-who?)\n",
    "- [Remove Outliers](#Remove-Outliers)\n",
    "- [Baseline Simple Model](#Baseline-Simple-Model)\n",
    "- [Make a Working Model](#Make-a-Working-Model)\n",
    "- [Conclusions and Recommendations](#Conclusions-and-Recommendations)"
   ]
  },
  {
   "cell_type": "markdown",
   "metadata": {},
   "source": [
    "## Background"
   ]
  },
  {
   "cell_type": "markdown",
   "metadata": {},
   "source": [
    "The Iowa State University and the Commerce Committee of the Iowa House of Representatives are looking into the community of Ames Iowa to understand home values in our region. The Real Estate Appraisers Coalition of Ames Iowa and I have taken on the task of creating a simplified model that will predict home values based of multiple qualities of the home. We will be looking at everything from the numbers of bedrooms and baths, locationality, quality and condition, squarefootage, and materials.\n",
    "\n",
    "We have a data set containing information from the Ames Assessor’s Office used in calculating the assessed values for individual residential properties sold in Ames, IA from 2006 to 2010. The detailed decription in the data documentaion is  here: ([DataDoc](http://jse.amstat.org/v19n3/decock/DataDocumentation.txt))\n",
    "\n",
    "\n",
    "We will be sorting through the eighty-two variables and identifying the most effect variables to include in our model. Then we will create our model and measure it's accuracy. "
   ]
  },
  {
   "cell_type": "markdown",
   "metadata": {},
   "source": [
    "## Problem Statement"
   ]
  },
  {
   "cell_type": "markdown",
   "metadata": {},
   "source": [
    "         I am a data scientist working for the Real Estate Apraisers Coalition of Ames Iowa. We have a lot of homes in the region that need to be quickly apraised for goverment and educational purposes.          \n",
    "         We have data from the Ames Iowa Assessor’s Office used in computing  values for individual residential properties sold in Ames, IA from 2006 to 2010. \n",
    "         We are going to create a model that predicts prices off home assesment data entries, and in doing so we will determine what factors make the most significant impacts on the model to make the model more effective.\n",
    "         Furthermore we will test and verify these results on a national data base (Keggle) and come to an anysis on how effective the model actually is. \n",
    "         \n",
    "Essentially we are asking the questions:\n",
    "1. How much is a house worth?\n",
    "2. What factors really matter in determining a fair market value?"
   ]
  },
  {
   "cell_type": "markdown",
   "metadata": {},
   "source": [
    "## Data Import and Cleaning"
   ]
  },
  {
   "cell_type": "markdown",
   "metadata": {},
   "source": [
    "1. Importing the tools I will use. \n",
    "2. Reading in the data and cleaning out the null values. \n",
    "3. Converting the ordinal values into a numerical ordered columns. "
   ]
  },
  {
   "cell_type": "code",
   "execution_count": 1,
   "metadata": {},
   "outputs": [],
   "source": [
    "import pandas as pd \n",
    "import numpy as np \n",
    "import seaborn as sns\n",
    "import matplotlib.pyplot as plt\n",
    "from sklearn.model_selection import train_test_split, cross_val_score, RepeatedKFold, GridSearchCV\n",
    "from sklearn.linear_model import LinearRegression, Ridge, RidgeCV\n",
    "from sklearn.metrics import r2_score, mean_squared_error\n",
    "from sklearn.preprocessing import StandardScaler, PolynomialFeatures\n",
    "from sklearn.neighbors import KNeighborsClassifier"
   ]
  },
  {
   "cell_type": "code",
   "execution_count": 2,
   "metadata": {},
   "outputs": [],
   "source": [
    "iowatrain = pd.read_csv('./datasets/train.csv')\n",
    "#Here we are reading the training set of data in"
   ]
  },
  {
   "cell_type": "code",
   "execution_count": 3,
   "metadata": {},
   "outputs": [
    {
     "data": {
      "text/html": [
       "<div>\n",
       "<style scoped>\n",
       "    .dataframe tbody tr th:only-of-type {\n",
       "        vertical-align: middle;\n",
       "    }\n",
       "\n",
       "    .dataframe tbody tr th {\n",
       "        vertical-align: top;\n",
       "    }\n",
       "\n",
       "    .dataframe thead th {\n",
       "        text-align: right;\n",
       "    }\n",
       "</style>\n",
       "<table border=\"1\" class=\"dataframe\">\n",
       "  <thead>\n",
       "    <tr style=\"text-align: right;\">\n",
       "      <th></th>\n",
       "      <th>Id</th>\n",
       "      <th>PID</th>\n",
       "      <th>MS SubClass</th>\n",
       "      <th>MS Zoning</th>\n",
       "      <th>Lot Frontage</th>\n",
       "      <th>Lot Area</th>\n",
       "      <th>Street</th>\n",
       "      <th>Alley</th>\n",
       "      <th>Lot Shape</th>\n",
       "      <th>Land Contour</th>\n",
       "      <th>...</th>\n",
       "      <th>Screen Porch</th>\n",
       "      <th>Pool Area</th>\n",
       "      <th>Pool QC</th>\n",
       "      <th>Fence</th>\n",
       "      <th>Misc Feature</th>\n",
       "      <th>Misc Val</th>\n",
       "      <th>Mo Sold</th>\n",
       "      <th>Yr Sold</th>\n",
       "      <th>Sale Type</th>\n",
       "      <th>SalePrice</th>\n",
       "    </tr>\n",
       "  </thead>\n",
       "  <tbody>\n",
       "    <tr>\n",
       "      <th>0</th>\n",
       "      <td>109</td>\n",
       "      <td>533352170</td>\n",
       "      <td>60</td>\n",
       "      <td>RL</td>\n",
       "      <td>NaN</td>\n",
       "      <td>13517</td>\n",
       "      <td>Pave</td>\n",
       "      <td>NaN</td>\n",
       "      <td>IR1</td>\n",
       "      <td>Lvl</td>\n",
       "      <td>...</td>\n",
       "      <td>0</td>\n",
       "      <td>0</td>\n",
       "      <td>NaN</td>\n",
       "      <td>NaN</td>\n",
       "      <td>NaN</td>\n",
       "      <td>0</td>\n",
       "      <td>3</td>\n",
       "      <td>2010</td>\n",
       "      <td>WD</td>\n",
       "      <td>130500</td>\n",
       "    </tr>\n",
       "    <tr>\n",
       "      <th>1</th>\n",
       "      <td>544</td>\n",
       "      <td>531379050</td>\n",
       "      <td>60</td>\n",
       "      <td>RL</td>\n",
       "      <td>43.0</td>\n",
       "      <td>11492</td>\n",
       "      <td>Pave</td>\n",
       "      <td>NaN</td>\n",
       "      <td>IR1</td>\n",
       "      <td>Lvl</td>\n",
       "      <td>...</td>\n",
       "      <td>0</td>\n",
       "      <td>0</td>\n",
       "      <td>NaN</td>\n",
       "      <td>NaN</td>\n",
       "      <td>NaN</td>\n",
       "      <td>0</td>\n",
       "      <td>4</td>\n",
       "      <td>2009</td>\n",
       "      <td>WD</td>\n",
       "      <td>220000</td>\n",
       "    </tr>\n",
       "    <tr>\n",
       "      <th>2</th>\n",
       "      <td>153</td>\n",
       "      <td>535304180</td>\n",
       "      <td>20</td>\n",
       "      <td>RL</td>\n",
       "      <td>68.0</td>\n",
       "      <td>7922</td>\n",
       "      <td>Pave</td>\n",
       "      <td>NaN</td>\n",
       "      <td>Reg</td>\n",
       "      <td>Lvl</td>\n",
       "      <td>...</td>\n",
       "      <td>0</td>\n",
       "      <td>0</td>\n",
       "      <td>NaN</td>\n",
       "      <td>NaN</td>\n",
       "      <td>NaN</td>\n",
       "      <td>0</td>\n",
       "      <td>1</td>\n",
       "      <td>2010</td>\n",
       "      <td>WD</td>\n",
       "      <td>109000</td>\n",
       "    </tr>\n",
       "    <tr>\n",
       "      <th>3</th>\n",
       "      <td>318</td>\n",
       "      <td>916386060</td>\n",
       "      <td>60</td>\n",
       "      <td>RL</td>\n",
       "      <td>73.0</td>\n",
       "      <td>9802</td>\n",
       "      <td>Pave</td>\n",
       "      <td>NaN</td>\n",
       "      <td>Reg</td>\n",
       "      <td>Lvl</td>\n",
       "      <td>...</td>\n",
       "      <td>0</td>\n",
       "      <td>0</td>\n",
       "      <td>NaN</td>\n",
       "      <td>NaN</td>\n",
       "      <td>NaN</td>\n",
       "      <td>0</td>\n",
       "      <td>4</td>\n",
       "      <td>2010</td>\n",
       "      <td>WD</td>\n",
       "      <td>174000</td>\n",
       "    </tr>\n",
       "    <tr>\n",
       "      <th>4</th>\n",
       "      <td>255</td>\n",
       "      <td>906425045</td>\n",
       "      <td>50</td>\n",
       "      <td>RL</td>\n",
       "      <td>82.0</td>\n",
       "      <td>14235</td>\n",
       "      <td>Pave</td>\n",
       "      <td>NaN</td>\n",
       "      <td>IR1</td>\n",
       "      <td>Lvl</td>\n",
       "      <td>...</td>\n",
       "      <td>0</td>\n",
       "      <td>0</td>\n",
       "      <td>NaN</td>\n",
       "      <td>NaN</td>\n",
       "      <td>NaN</td>\n",
       "      <td>0</td>\n",
       "      <td>3</td>\n",
       "      <td>2010</td>\n",
       "      <td>WD</td>\n",
       "      <td>138500</td>\n",
       "    </tr>\n",
       "  </tbody>\n",
       "</table>\n",
       "<p>5 rows × 81 columns</p>\n",
       "</div>"
      ],
      "text/plain": [
       "    Id        PID  MS SubClass MS Zoning  Lot Frontage  Lot Area Street Alley  \\\n",
       "0  109  533352170           60        RL           NaN     13517   Pave   NaN   \n",
       "1  544  531379050           60        RL          43.0     11492   Pave   NaN   \n",
       "2  153  535304180           20        RL          68.0      7922   Pave   NaN   \n",
       "3  318  916386060           60        RL          73.0      9802   Pave   NaN   \n",
       "4  255  906425045           50        RL          82.0     14235   Pave   NaN   \n",
       "\n",
       "  Lot Shape Land Contour  ... Screen Porch Pool Area Pool QC Fence  \\\n",
       "0       IR1          Lvl  ...            0         0     NaN   NaN   \n",
       "1       IR1          Lvl  ...            0         0     NaN   NaN   \n",
       "2       Reg          Lvl  ...            0         0     NaN   NaN   \n",
       "3       Reg          Lvl  ...            0         0     NaN   NaN   \n",
       "4       IR1          Lvl  ...            0         0     NaN   NaN   \n",
       "\n",
       "  Misc Feature Misc Val Mo Sold Yr Sold  Sale Type  SalePrice  \n",
       "0          NaN        0       3    2010        WD      130500  \n",
       "1          NaN        0       4    2009        WD      220000  \n",
       "2          NaN        0       1    2010        WD      109000  \n",
       "3          NaN        0       4    2010        WD      174000  \n",
       "4          NaN        0       3    2010        WD      138500  \n",
       "\n",
       "[5 rows x 81 columns]"
      ]
     },
     "execution_count": 3,
     "metadata": {},
     "output_type": "execute_result"
    }
   ],
   "source": [
    "iowatrain.head(5)"
   ]
  },
  {
   "cell_type": "code",
   "execution_count": 4,
   "metadata": {},
   "outputs": [
    {
     "data": {
      "text/plain": [
       "Id                0\n",
       "PID               0\n",
       "MS SubClass       0\n",
       "MS Zoning         0\n",
       "Lot Frontage    330\n",
       "               ... \n",
       "Misc Val          0\n",
       "Mo Sold           0\n",
       "Yr Sold           0\n",
       "Sale Type         0\n",
       "SalePrice         0\n",
       "Length: 81, dtype: int64"
      ]
     },
     "execution_count": 4,
     "metadata": {},
     "output_type": "execute_result"
    }
   ],
   "source": [
    "iowatrain.isnull().sum()"
   ]
  },
  {
   "cell_type": "code",
   "execution_count": 5,
   "metadata": {},
   "outputs": [],
   "source": [
    "iowatrain.describe().T;"
   ]
  },
  {
   "cell_type": "code",
   "execution_count": 6,
   "metadata": {},
   "outputs": [
    {
     "name": "stdout",
     "output_type": "stream",
     "text": [
      "<class 'pandas.core.frame.DataFrame'>\n",
      "RangeIndex: 2051 entries, 0 to 2050\n",
      "Data columns (total 81 columns):\n",
      " #   Column           Non-Null Count  Dtype  \n",
      "---  ------           --------------  -----  \n",
      " 0   Id               2051 non-null   int64  \n",
      " 1   PID              2051 non-null   int64  \n",
      " 2   MS SubClass      2051 non-null   int64  \n",
      " 3   MS Zoning        2051 non-null   object \n",
      " 4   Lot Frontage     1721 non-null   float64\n",
      " 5   Lot Area         2051 non-null   int64  \n",
      " 6   Street           2051 non-null   object \n",
      " 7   Alley            140 non-null    object \n",
      " 8   Lot Shape        2051 non-null   object \n",
      " 9   Land Contour     2051 non-null   object \n",
      " 10  Utilities        2051 non-null   object \n",
      " 11  Lot Config       2051 non-null   object \n",
      " 12  Land Slope       2051 non-null   object \n",
      " 13  Neighborhood     2051 non-null   object \n",
      " 14  Condition 1      2051 non-null   object \n",
      " 15  Condition 2      2051 non-null   object \n",
      " 16  Bldg Type        2051 non-null   object \n",
      " 17  House Style      2051 non-null   object \n",
      " 18  Overall Qual     2051 non-null   int64  \n",
      " 19  Overall Cond     2051 non-null   int64  \n",
      " 20  Year Built       2051 non-null   int64  \n",
      " 21  Year Remod/Add   2051 non-null   int64  \n",
      " 22  Roof Style       2051 non-null   object \n",
      " 23  Roof Matl        2051 non-null   object \n",
      " 24  Exterior 1st     2051 non-null   object \n",
      " 25  Exterior 2nd     2051 non-null   object \n",
      " 26  Mas Vnr Type     2029 non-null   object \n",
      " 27  Mas Vnr Area     2029 non-null   float64\n",
      " 28  Exter Qual       2051 non-null   object \n",
      " 29  Exter Cond       2051 non-null   object \n",
      " 30  Foundation       2051 non-null   object \n",
      " 31  Bsmt Qual        1996 non-null   object \n",
      " 32  Bsmt Cond        1996 non-null   object \n",
      " 33  Bsmt Exposure    1993 non-null   object \n",
      " 34  BsmtFin Type 1   1996 non-null   object \n",
      " 35  BsmtFin SF 1     2050 non-null   float64\n",
      " 36  BsmtFin Type 2   1995 non-null   object \n",
      " 37  BsmtFin SF 2     2050 non-null   float64\n",
      " 38  Bsmt Unf SF      2050 non-null   float64\n",
      " 39  Total Bsmt SF    2050 non-null   float64\n",
      " 40  Heating          2051 non-null   object \n",
      " 41  Heating QC       2051 non-null   object \n",
      " 42  Central Air      2051 non-null   object \n",
      " 43  Electrical       2051 non-null   object \n",
      " 44  1st Flr SF       2051 non-null   int64  \n",
      " 45  2nd Flr SF       2051 non-null   int64  \n",
      " 46  Low Qual Fin SF  2051 non-null   int64  \n",
      " 47  Gr Liv Area      2051 non-null   int64  \n",
      " 48  Bsmt Full Bath   2049 non-null   float64\n",
      " 49  Bsmt Half Bath   2049 non-null   float64\n",
      " 50  Full Bath        2051 non-null   int64  \n",
      " 51  Half Bath        2051 non-null   int64  \n",
      " 52  Bedroom AbvGr    2051 non-null   int64  \n",
      " 53  Kitchen AbvGr    2051 non-null   int64  \n",
      " 54  Kitchen Qual     2051 non-null   object \n",
      " 55  TotRms AbvGrd    2051 non-null   int64  \n",
      " 56  Functional       2051 non-null   object \n",
      " 57  Fireplaces       2051 non-null   int64  \n",
      " 58  Fireplace Qu     1051 non-null   object \n",
      " 59  Garage Type      1938 non-null   object \n",
      " 60  Garage Yr Blt    1937 non-null   float64\n",
      " 61  Garage Finish    1937 non-null   object \n",
      " 62  Garage Cars      2050 non-null   float64\n",
      " 63  Garage Area      2050 non-null   float64\n",
      " 64  Garage Qual      1937 non-null   object \n",
      " 65  Garage Cond      1937 non-null   object \n",
      " 66  Paved Drive      2051 non-null   object \n",
      " 67  Wood Deck SF     2051 non-null   int64  \n",
      " 68  Open Porch SF    2051 non-null   int64  \n",
      " 69  Enclosed Porch   2051 non-null   int64  \n",
      " 70  3Ssn Porch       2051 non-null   int64  \n",
      " 71  Screen Porch     2051 non-null   int64  \n",
      " 72  Pool Area        2051 non-null   int64  \n",
      " 73  Pool QC          9 non-null      object \n",
      " 74  Fence            400 non-null    object \n",
      " 75  Misc Feature     65 non-null     object \n",
      " 76  Misc Val         2051 non-null   int64  \n",
      " 77  Mo Sold          2051 non-null   int64  \n",
      " 78  Yr Sold          2051 non-null   int64  \n",
      " 79  Sale Type        2051 non-null   object \n",
      " 80  SalePrice        2051 non-null   int64  \n",
      "dtypes: float64(11), int64(28), object(42)\n",
      "memory usage: 1.3+ MB\n"
     ]
    }
   ],
   "source": [
    "iowatrain.info()\n",
    "# We have quite a few null values in columns Lot Frontage, Alley, \n",
    "# basements (all of them) and fence, etc... Lotta cleaning to be done. "
   ]
  },
  {
   "cell_type": "code",
   "execution_count": 7,
   "metadata": {},
   "outputs": [],
   "source": [
    "iowatrain.drop('Id', axis = 1, inplace=True) \n",
    "#Don't need this. We already have PID"
   ]
  },
  {
   "cell_type": "markdown",
   "metadata": {},
   "source": [
    "https://stackoverflow.com/questions/38913965/make-the-size-of-a-heatmap-bigger-with-seaborn\n",
    "This is a link that showed me how to get my heatmap bigger.\n",
    "Important to note that the heat map only shows corrrelations \n",
    "with numerical columns. \n",
    "I will use Dummify and I also need to make sure to remove outliners from ones I want"
   ]
  },
  {
   "cell_type": "code",
   "execution_count": 8,
   "metadata": {},
   "outputs": [],
   "source": [
    "# fig, ax = plt.subplots(figsize=(10,10))  # Sample figsize in inches\n",
    "\n",
    "# sns.heatmap(iowatrain.corr()[['SalePrice']].sort_values(\n",
    "#                                                         by='SalePrice', \n",
    "#                                                         ascending=False),\n",
    "#             annot=True, vmin=-1, vmax=1,\n",
    "#            cmap='coolwarm', ax=ax);\n"
   ]
  },
  {
   "cell_type": "code",
   "execution_count": 9,
   "metadata": {},
   "outputs": [],
   "source": [
    "iowatrain[\"Bsmt Cond\"].fillna('NA', inplace=True)\n",
    "iowatrain['Bsmt Qual'].fillna('NA', inplace=True)\n",
    "iowatrain['Bsmt Exposure'].fillna('NA', inplace=True)\n",
    "iowatrain['BsmtFin Type 1'].fillna('NA', inplace=True)\n",
    "iowatrain['BsmtFin Type 2'].fillna('NA', inplace=True)\n",
    "\n",
    "iowatrain['Fireplace Qu'].fillna('NA', inplace=True)\n",
    "iowatrain['Garage Finish'].fillna('NA', inplace=True)\n",
    "iowatrain['Garage Qual'].fillna('NA', inplace=True)\n",
    "iowatrain['Garage Cond'].fillna('NA', inplace=True)\n",
    "iowatrain['Pool QC'].fillna('NA', inplace=True)\n",
    "iowatrain['Fence'].fillna('NA', inplace=True)\n",
    "\n",
    "# Here I am cleaning the data so that all the columns that have the option of \n",
    "# having NA (not applicable) have all their null values as such. "
   ]
  },
  {
   "cell_type": "code",
   "execution_count": 10,
   "metadata": {},
   "outputs": [],
   "source": [
    "# How about we take all the ordinal variables and make them ranked! \n",
    "ordinalcols = [ 'Lot Shape', 'Utilities' , 'Land Slope', 'Exter Qual',\n",
    "               'Exter Cond', 'Bsmt Qual', 'Bsmt Cond', 'Bsmt Exposure', \n",
    "               'BsmtFin Type 1', 'BsmtFin Type 2' , 'Heating QC',\n",
    "               'Electrical', 'Kitchen Qual' , \"Functional\", \n",
    "               'Fireplace Qu', 'Garage Finish','Garage Qual', \n",
    "               'Garage Cond', 'Paved Drive', 'Pool QC', 'Fence' ]\n",
    "# ordinal_df = iowatrain[ordinalcols]\n",
    "\n",
    "# ordinal_df.columns = [x.lower() for x in ordinal_df.columns]\n",
    "# ordinal_df.columns = [x.strip().replace(' ', '_') for x in ordinal_df.columns]\n",
    "iowatrain.columns = [x.lower() for x in iowatrain.columns]\n",
    "iowatrain.columns = [x.strip().replace(' ', '_') for x in iowatrain.columns]\n",
    "ordinalcols = [x.lower() for x in ordinalcols]\n",
    "ordinalcols = [x.strip().replace(' ', '_') for x in ordinalcols]"
   ]
  },
  {
   "cell_type": "code",
   "execution_count": 11,
   "metadata": {},
   "outputs": [],
   "source": [
    "iowatrain.replace({\n",
    "            'lot_shape': {'Reg':4 , 'IR1':3 , 'IR2':2 , 'IR3':1 },\n",
    "            'utilities': {'AllPub':3, 'NoSeWa':2, 'NoSewr':1 },\n",
    "            'land_slope': {'Gtl':3,  'Mod':2, 'Sev':1},\n",
    "            'exter_qual': {'NA':0, 'Ex':5,'Gd':4, 'TA':3, 'Fa':2, 'Po':1},\n",
    "            'exter_cond': {'NA':0, 'Ex':5,'Gd':4, 'TA':3, 'Fa':2, 'Po':1},\n",
    "            'bsmt_qual':  {'NA':0, 'Ex':5,'Gd':4, 'TA':3, 'Fa':2, 'Po':1},\n",
    "            'bsmt_cond':  {'NA':0, 'Ex':5,'Gd':4, 'TA':3, 'Fa':2, 'Po':1},\n",
    "            'bsmt_exposure': {'NA': 0, 'Gd':4 , 'Av':3, 'Mn':2, 'No':1},\n",
    "            'bsmtfin_type_1': {'NA':0, 'GLQ':6, 'ALQ':5, 'BLQ':4,\n",
    "                                      'Rec':3, 'LwQ':2, 'Unf':1},\n",
    "            'bsmtfin_type_2': {'NA':0, 'GLQ':6, 'ALQ':5, 'BLQ':4,\n",
    "                                      'Rec':3, 'LwQ':2, 'Unf':1},\n",
    "            'heating_qc': {'NA':0, 'Ex':5,'Gd':4, 'TA':3, 'Fa':2, 'Po':1},\n",
    "            'electrical': {'SBrkr':5, 'FuseA':4, 'FuseF':3, 'FuseP':2, 'Mix':1},\n",
    "            'kitchen_qual':  {'NA':0, 'Ex':5,'Gd':4, 'TA':3, 'Fa':2, 'Po':1},\n",
    "            'functional':{'Typ':8, 'Min1':7, 'Min2':6, 'Mod':5, \n",
    "                                   'Maj1':4, 'Maj2':3, 'Sev':2, 'Sal':1 },\n",
    "            'fireplace_qu': {'NA':0, 'Ex':5,'Gd':4, 'TA':3, 'Fa':2, 'Po':1},\n",
    "            'garage_finish': {'NA':0, 'Fin':3, 'RFn':2, 'Unf':1},\n",
    "            'garage_qual':   {'NA':0, 'Ex':5,'Gd':4, 'TA':3, 'Fa':2, 'Po':1},\n",
    "            'garage_cond':    {'NA':0, 'Ex':5,'Gd':4, 'TA':3, 'Fa':2, 'Po':1},\n",
    "            'paved_drive':   {'Y':3, 'P':2, 'N':1},\n",
    "            'pool_qc':   {'NA':0, 'Ex':5,'Gd':4, 'TA':3, 'Fa':2, 'Po':1},\n",
    "            'fence':  {'NA':0, 'GdPrv':4, 'MnPrv':3, 'GdWo':2, 'MnWw':1}\n",
    "            }, inplace=True)\n",
    "#Okay The ordinal Values are now fixed and numbered!!!"
   ]
  },
  {
   "cell_type": "code",
   "execution_count": 12,
   "metadata": {},
   "outputs": [],
   "source": [
    "iowatrain['alley'].fillna('NA', inplace=True)\n",
    "iowatrain['mas_vnr_type'].fillna('NA', inplace=True)\n",
    "iowatrain['garage_type'].fillna('NA', inplace=True)\n",
    "iowatrain['misc_feature'].fillna('NA', inplace=True)\n",
    " #These are nominal values"
   ]
  },
  {
   "cell_type": "code",
   "execution_count": 13,
   "metadata": {},
   "outputs": [],
   "source": [
    "# HERE THERE IS ONLY ONE NULL VALUE FOR THESE, SO I'M USING THE MEAN SO NOT TO SQEW\n",
    "# THE DATA.\n",
    "iowatrain['garage_yr_blt'].fillna(iowatrain['garage_yr_blt'].mean(), inplace=True)\n",
    "iowatrain['bsmtfin_sf_1'].fillna(iowatrain['bsmtfin_sf_1'].mean(), inplace=True)\n",
    "iowatrain['bsmtfin_sf_2'].fillna(iowatrain['bsmtfin_sf_2'].mean(), inplace=True)\n",
    "iowatrain['mas_vnr_area'].fillna(iowatrain['mas_vnr_area'].mean(), inplace=True)\n",
    "iowatrain['bsmt_unf_sf'].fillna(iowatrain['bsmt_unf_sf'].mean(), inplace=True)\n",
    "iowatrain['total_bsmt_sf'].fillna(iowatrain['total_bsmt_sf'].mean(), inplace=True)\n",
    "iowatrain['bsmt_full_bath'].fillna(iowatrain['bsmt_full_bath'].mean(), inplace=True)\n",
    "iowatrain['bsmt_half_bath'].fillna(iowatrain['bsmt_half_bath'].mean(), inplace=True)\n",
    "iowatrain['garage_cars'].fillna(iowatrain['garage_cars'].mean(), inplace=True)\n",
    "iowatrain['garage_area'].fillna(iowatrain['garage_area'].mean(), inplace=True)\n",
    "# I don't know why there are no 0 values for lot_frontage, so I'm going to \n",
    "# assume that they have no lottage by a street. \n"
   ]
  },
  {
   "cell_type": "code",
   "execution_count": 14,
   "metadata": {},
   "outputs": [],
   "source": [
    "# numericalcols = [col for col in iowatrain.columns if iowatrain[col].dtype != 'O']\n",
    "#These are all the columsn that have numerical values. Now includind the\n",
    "# Ordinal and Continuous and Discrete numerically."
   ]
  },
  {
   "cell_type": "code",
   "execution_count": 15,
   "metadata": {},
   "outputs": [
    {
     "data": {
      "text/plain": [
       "0.3418424837268713"
      ]
     },
     "execution_count": 15,
     "metadata": {},
     "output_type": "execute_result"
    }
   ],
   "source": [
    "iowatrain['lot_frontage'].corr(iowatrain['saleprice'])"
   ]
  },
  {
   "cell_type": "code",
   "execution_count": 16,
   "metadata": {},
   "outputs": [
    {
     "data": {
      "text/plain": [
       "0.18145625081922262"
      ]
     },
     "execution_count": 16,
     "metadata": {},
     "output_type": "execute_result"
    }
   ],
   "source": [
    "iowatrain['lot_frontage'].fillna(0).corr(\n",
    "    iowatrain['saleprice'])"
   ]
  },
  {
   "cell_type": "code",
   "execution_count": 17,
   "metadata": {},
   "outputs": [
    {
     "data": {
      "text/plain": [
       "0.3258495122666743"
      ]
     },
     "execution_count": 17,
     "metadata": {},
     "output_type": "execute_result"
    }
   ],
   "source": [
    "iowatrain['lot_frontage'].fillna(\n",
    "    iowatrain['lot_frontage'].mean(),inplace=True)\n",
    "iowatrain['lot_frontage'].corr(iowatrain['saleprice'])\n",
    "# Going with changing the nulls to be the mean in this situation. \n",
    "# I detail why in the readme attached. "
   ]
  },
  {
   "cell_type": "code",
   "execution_count": 18,
   "metadata": {},
   "outputs": [
    {
     "data": {
      "text/plain": [
       "Index(['pid', 'ms_subclass', 'ms_zoning', 'lot_frontage', 'lot_area', 'street',\n",
       "       'alley', 'lot_shape', 'land_contour', 'utilities', 'lot_config',\n",
       "       'land_slope', 'neighborhood', 'condition_1', 'condition_2', 'bldg_type',\n",
       "       'house_style', 'overall_qual', 'overall_cond', 'year_built',\n",
       "       'year_remod/add', 'roof_style', 'roof_matl', 'exterior_1st',\n",
       "       'exterior_2nd', 'mas_vnr_type', 'mas_vnr_area', 'exter_qual',\n",
       "       'exter_cond', 'foundation', 'bsmt_qual', 'bsmt_cond', 'bsmt_exposure',\n",
       "       'bsmtfin_type_1', 'bsmtfin_sf_1', 'bsmtfin_type_2', 'bsmtfin_sf_2',\n",
       "       'bsmt_unf_sf', 'total_bsmt_sf', 'heating', 'heating_qc', 'central_air',\n",
       "       'electrical', '1st_flr_sf', '2nd_flr_sf', 'low_qual_fin_sf',\n",
       "       'gr_liv_area', 'bsmt_full_bath', 'bsmt_half_bath', 'full_bath',\n",
       "       'half_bath', 'bedroom_abvgr', 'kitchen_abvgr', 'kitchen_qual',\n",
       "       'totrms_abvgrd', 'functional', 'fireplaces', 'fireplace_qu',\n",
       "       'garage_type', 'garage_yr_blt', 'garage_finish', 'garage_cars',\n",
       "       'garage_area', 'garage_qual', 'garage_cond', 'paved_drive',\n",
       "       'wood_deck_sf', 'open_porch_sf', 'enclosed_porch', '3ssn_porch',\n",
       "       'screen_porch', 'pool_area', 'pool_qc', 'fence', 'misc_feature',\n",
       "       'misc_val', 'mo_sold', 'yr_sold', 'sale_type', 'saleprice'],\n",
       "      dtype='object')"
      ]
     },
     "execution_count": 18,
     "metadata": {},
     "output_type": "execute_result"
    }
   ],
   "source": [
    "iowatrain.columns"
   ]
  },
  {
   "cell_type": "markdown",
   "metadata": {},
   "source": [
    "## Exploratory Data Analysis\n"
   ]
  },
  {
   "cell_type": "code",
   "execution_count": 19,
   "metadata": {},
   "outputs": [
    {
     "data": {
      "image/png": "[encoded data removed]",
      "text/plain": [
       "<Figure size 720x1080 with 2 Axes>"
      ]
     },
     "metadata": {
      "needs_background": "light"
     },
     "output_type": "display_data"
    }
   ],
   "source": [
    "fig, ax = plt.subplots(figsize=(10,15))\n",
    "\n",
    "sns.heatmap(iowatrain.corr()[['saleprice']].sort_values(by='saleprice', ascending=False),\n",
    "            annot=True, vmin=-1, vmax=1,\n",
    "           cmap='coolwarm', ax=ax);\n",
    "# These indicate our initial Numerical columns correlation to price. \n",
    "# The stronger coorelated the more they impact price. "
   ]
  },
  {
   "cell_type": "markdown",
   "metadata": {},
   "source": [
    "    Okay let's dumify a few things and also lets bucket together a few things that relate so  some columns can be simplified and quantified numerically. \n",
    "\n",
    "    I've decided to bin together Neighborhoods into 3 classes (Great, No Influence, Bad) for if the coorelation is greater than or positive or negative 5%. \n"
   ]
  },
  {
   "cell_type": "code",
   "execution_count": 20,
   "metadata": {},
   "outputs": [],
   "source": [
    "iowatrain['ms_subclass'] = iowatrain['ms_subclass'].astype(str)"
   ]
  },
  {
   "cell_type": "code",
   "execution_count": 21,
   "metadata": {},
   "outputs": [
    {
     "data": {
      "text/plain": [
       "<matplotlib.axes._subplots.AxesSubplot at 0x21bfe408e80>"
      ]
     },
     "execution_count": 21,
     "metadata": {},
     "output_type": "execute_result"
    },
    {
     "data": {
      "image/png": "[encoded data removed]",
      "text/plain": [
       "<Figure size 720x720 with 2 Axes>"
      ]
     },
     "metadata": {
      "needs_background": "light"
     },
     "output_type": "display_data"
    }
   ],
   "source": [
    "dumheat = pd.get_dummies(iowatrain['neighborhood']) #BUCKET THE HOOD\n",
    "dumheat['saleprice'] = iowatrain['saleprice']\n",
    "\n",
    "fig, ax = plt.subplots(figsize=(10,10))\n",
    "\n",
    "sns.heatmap(dumheat.corr()[['saleprice']].sort_values(by='saleprice', ascending=False),\n",
    "           annot = True, cmap='coolwarm')\n",
    "\n",
    "# sns.heatmap(iowatrain.corr()[['saleprice']].sort_values(by='saleprice', ascending=False),\n",
    "#             annot=True, vmin=-1, vmax=1,\n",
    "#            cmap='coolwarm', ax=ax);"
   ]
  },
  {
   "cell_type": "code",
   "execution_count": 22,
   "metadata": {},
   "outputs": [],
   "source": [
    "dumheat.corr()[['saleprice']].sort_values(by='saleprice', ascending=False);\n",
    "#NEIGHBORHOOD BUCKET"
   ]
  },
  {
   "cell_type": "code",
   "execution_count": 23,
   "metadata": {},
   "outputs": [],
   "source": [
    "nicehood = ('NridgHt','NoRidge','StoneBr','Somerst',\n",
    "    'Timber','Veenker','CollgCr','Crawfor','ClearCr')\n",
    "okhood = ('Crawfor','ClearCr','GrnHill','NWAmes',\n",
    "          'Blmngtn','Gilbert','SawyerW','Greens',\n",
    "          'Landmrk','Blueste','Mitchel','NPkVill')\t\n",
    "badhood = ('SWISU','BrDale','MeadowV','Sawyer','BrkSide',\n",
    "           'Edwards','IDOTRR','NAmes','OldTown')\n",
    "# "
   ]
  },
  {
   "cell_type": "code",
   "execution_count": 24,
   "metadata": {},
   "outputs": [
    {
     "name": "stdout",
     "output_type": "stream",
     "text": [
      "0.16798675372099836 0.002234183929346371 -0.14585244112872237\n"
     ]
    }
   ],
   "source": [
    "nicehood_cor =[]\n",
    "okhood_cor = []\n",
    "badhood_cor = []\n",
    "for col in dumheat.columns:\n",
    "    if col != 'saleprice':\n",
    "        if dumheat[col].corr(dumheat['saleprice']) > 0.05:\n",
    "            nicehood_cor.append(dumheat[col].corr(dumheat['saleprice']))\n",
    "        elif dumheat[col].corr(dumheat['saleprice']) < -0.05:\n",
    "            badhood_cor.append(dumheat[col].corr(dumheat['saleprice']))\n",
    "        else:\n",
    "            okhood_cor.append(dumheat[col].corr(dumheat['saleprice']))\n",
    "\n",
    "print(\n",
    "    np.mean(nicehood_cor),\n",
    "    np.mean(okhood_cor),\n",
    "    np.mean(badhood_cor))\n"
   ]
  },
  {
   "cell_type": "code",
   "execution_count": 25,
   "metadata": {},
   "outputs": [
    {
     "data": {
      "text/plain": [
       "0       1\n",
       "1       2\n",
       "2       1\n",
       "3       3\n",
       "4       2\n",
       "       ..\n",
       "2046    3\n",
       "2047    1\n",
       "2048    3\n",
       "2049    1\n",
       "2050    2\n",
       "Name: neighborhood, Length: 2051, dtype: int64"
      ]
     },
     "execution_count": 25,
     "metadata": {},
     "output_type": "execute_result"
    }
   ],
   "source": [
    "[iowatrain['neighborhood'].replace(to_replace=col, value = 3, inplace=True) \n",
    " for col in iowatrain['neighborhood'] if col in nicehood]\n",
    "\n",
    "[iowatrain['neighborhood'].replace(to_replace=col, value = 2, inplace=True) \n",
    " for col in iowatrain['neighborhood'] if col in okhood]\n",
    "\n",
    "[iowatrain['neighborhood'].replace(to_replace=col, value = 1, inplace=True) \n",
    " for col in iowatrain['neighborhood'] if col in badhood]\n",
    "iowatrain['neighborhood']\n",
    "\n",
    "### I just made this a bucketed list (more organized than dummies)"
   ]
  },
  {
   "cell_type": "code",
   "execution_count": 26,
   "metadata": {},
   "outputs": [],
   "source": [
    "# # Now I should go through and change the Nominal Values to be Dummy and   \n",
    "# # make sure the Nominal values are not numerical unless dummied. \n",
    "# nominal = [ 'ms_subclass', 'ms_zoning', 'street', 'alley', 'land_contour', 'lot_config', \n",
    "#            'neighborhood', 'condition_1', 'condition_2', 'bldg_type', 'house_style',\n",
    "#            'roof_style', 'roof_matl', 'exterior_1st', 'exterior_2nd', 'mas_vnr_type',\n",
    "#            'foundation', 'heating', 'central_air', 'garage_type', 'misc_feature', 'sale_type' ]\n"
   ]
  },
  {
   "cell_type": "markdown",
   "metadata": {},
   "source": [
    "    Let's do the bucket method with the Exterior_1 and Sale Type as well, as they both also have a lot of variables of multiple ranges from negative to positive and they look pretty significant so they may be worth including in the model. "
   ]
  },
  {
   "cell_type": "code",
   "execution_count": 27,
   "metadata": {},
   "outputs": [
    {
     "data": {
      "image/png": "[encoded data removed]",
      "text/plain": [
       "<Figure size 432x288 with 2 Axes>"
      ]
     },
     "metadata": {
      "needs_background": "light"
     },
     "output_type": "display_data"
    }
   ],
   "source": [
    "dumheat = pd.get_dummies(iowatrain['exterior_1st']) #Bucket the Exterior_1\n",
    "dumheat['saleprice'] = iowatrain['saleprice']\n",
    "\n",
    "sns.heatmap(dumheat.corr()[['saleprice']].sort_values(by='saleprice', ascending=False),\n",
    "           annot = True, cmap='coolwarm');"
   ]
  },
  {
   "cell_type": "code",
   "execution_count": 28,
   "metadata": {},
   "outputs": [],
   "source": [
    "good_ext = ('VinylSd','CemntBd')\n",
    "ok_etr = ('Stone', 'BrkFace','ImStucc','BrkComm','PreCast',\n",
    "          'AsphShn','CBlock','Plywood','WdShing','Stucco')\n",
    "bad_ext = ('HdBoard', 'AsbShng', 'MetalSd','Wd Sdng')\n"
   ]
  },
  {
   "cell_type": "code",
   "execution_count": 29,
   "metadata": {},
   "outputs": [],
   "source": [
    "[iowatrain['exterior_1st'].replace(to_replace=col, value = 3, inplace=True) \n",
    " for col in iowatrain['exterior_1st'] if col in good_ext]\n",
    "\n",
    "[iowatrain['exterior_1st'].replace(to_replace=col, value = 2, inplace=True) \n",
    " for col in iowatrain['exterior_1st'] if col in ok_etr]\n",
    "\n",
    "[iowatrain['exterior_1st'].replace(to_replace=col, value = 1, inplace=True) \n",
    " for col in iowatrain['exterior_1st'] if col in bad_ext]\n",
    "# WE JUST MADE ANOTHER BUCKET! \n",
    "iowatrain['exterior_1st'];"
   ]
  },
  {
   "cell_type": "code",
   "execution_count": 30,
   "metadata": {},
   "outputs": [
    {
     "data": {
      "text/html": [
       "<div>\n",
       "<style scoped>\n",
       "    .dataframe tbody tr th:only-of-type {\n",
       "        vertical-align: middle;\n",
       "    }\n",
       "\n",
       "    .dataframe tbody tr th {\n",
       "        vertical-align: top;\n",
       "    }\n",
       "\n",
       "    .dataframe thead th {\n",
       "        text-align: right;\n",
       "    }\n",
       "</style>\n",
       "<table border=\"1\" class=\"dataframe\">\n",
       "  <thead>\n",
       "    <tr style=\"text-align: right;\">\n",
       "      <th></th>\n",
       "      <th>saleprice</th>\n",
       "    </tr>\n",
       "  </thead>\n",
       "  <tbody>\n",
       "    <tr>\n",
       "      <th>saleprice</th>\n",
       "      <td>1.000000</td>\n",
       "    </tr>\n",
       "    <tr>\n",
       "      <th>New</th>\n",
       "      <td>0.358102</td>\n",
       "    </tr>\n",
       "    <tr>\n",
       "      <th>Con</th>\n",
       "      <td>0.033660</td>\n",
       "    </tr>\n",
       "    <tr>\n",
       "      <th>ConLI</th>\n",
       "      <td>0.019588</td>\n",
       "    </tr>\n",
       "    <tr>\n",
       "      <th>CWD</th>\n",
       "      <td>0.004563</td>\n",
       "    </tr>\n",
       "    <tr>\n",
       "      <th>Oth</th>\n",
       "      <td>-0.030109</td>\n",
       "    </tr>\n",
       "    <tr>\n",
       "      <th>ConLw</th>\n",
       "      <td>-0.035479</td>\n",
       "    </tr>\n",
       "    <tr>\n",
       "      <th>ConLD</th>\n",
       "      <td>-0.060431</td>\n",
       "    </tr>\n",
       "    <tr>\n",
       "      <th>COD</th>\n",
       "      <td>-0.107600</td>\n",
       "    </tr>\n",
       "    <tr>\n",
       "      <th>WD</th>\n",
       "      <td>-0.212542</td>\n",
       "    </tr>\n",
       "  </tbody>\n",
       "</table>\n",
       "</div>"
      ],
      "text/plain": [
       "           saleprice\n",
       "saleprice   1.000000\n",
       "New         0.358102\n",
       "Con         0.033660\n",
       "ConLI       0.019588\n",
       "CWD         0.004563\n",
       "Oth        -0.030109\n",
       "ConLw      -0.035479\n",
       "ConLD      -0.060431\n",
       "COD        -0.107600\n",
       "WD         -0.212542"
      ]
     },
     "execution_count": 30,
     "metadata": {},
     "output_type": "execute_result"
    }
   ],
   "source": [
    "dumheat = pd.get_dummies(iowatrain['sale_type']) # Bucket the sale Type\n",
    "dumheat['saleprice'] = iowatrain['saleprice']\n",
    "dumheat.corr()[['saleprice']].sort_values(by='saleprice', ascending=False)\n",
    "# Sale Type"
   ]
  },
  {
   "cell_type": "code",
   "execution_count": 31,
   "metadata": {},
   "outputs": [
    {
     "data": {
      "text/plain": [
       "0       1\n",
       "1       1\n",
       "2       1\n",
       "3       1\n",
       "4       1\n",
       "       ..\n",
       "2046    1\n",
       "2047    1\n",
       "2048    1\n",
       "2049    1\n",
       "2050    1\n",
       "Name: sale_type, Length: 2051, dtype: int64"
      ]
     },
     "execution_count": 31,
     "metadata": {},
     "output_type": "execute_result"
    }
   ],
   "source": [
    "garagemap = iowatrain['sale_type'].map( \n",
    "    {'WD ' : 1, 'New':3,'COD':1,'NA':2,'ConLD':2,'CWD':2, 'ConLI':2,'ConLw':2,'Oth':2,'Con' :2 })\n",
    "iowatrain['sale_type']= garagemap\n",
    "iowatrain['sale_type']"
   ]
  },
  {
   "cell_type": "markdown",
   "metadata": {},
   "source": [
    "## Dummify who?"
   ]
  },
  {
   "cell_type": "code",
   "execution_count": 32,
   "metadata": {},
   "outputs": [
    {
     "data": {
      "image/png": "[encoded data removed]",
      "text/plain": [
       "<Figure size 432x288 with 2 Axes>"
      ]
     },
     "metadata": {
      "needs_background": "light"
     },
     "output_type": "display_data"
    }
   ],
   "source": [
    "dumheat = pd.get_dummies(iowatrain['central_air']) #Dummy of importance\n",
    "dumheat['saleprice'] = iowatrain['saleprice']\n",
    "\n",
    "sns.heatmap(dumheat.corr()[['saleprice']].sort_values(by='saleprice', ascending=False),\n",
    "           annot = True, cmap='coolwarm');"
   ]
  },
  {
   "cell_type": "code",
   "execution_count": 33,
   "metadata": {},
   "outputs": [
    {
     "data": {
      "image/png": "[encoded data removed]",
      "text/plain": [
       "<Figure size 432x288 with 2 Axes>"
      ]
     },
     "metadata": {
      "needs_background": "light"
     },
     "output_type": "display_data"
    }
   ],
   "source": [
    "dumheat = pd.get_dummies(iowatrain['roof_style'])  #Dummy of importance\n",
    "dumheat['saleprice'] = iowatrain['saleprice']\n",
    "\n",
    "sns.heatmap(dumheat.corr()[['saleprice']].sort_values(by='saleprice', ascending=False),\n",
    "           annot = True, cmap='coolwarm');"
   ]
  },
  {
   "cell_type": "code",
   "execution_count": 34,
   "metadata": {},
   "outputs": [
    {
     "data": {
      "image/png": "[encoded data removed]",
      "text/plain": [
       "<Figure size 432x288 with 2 Axes>"
      ]
     },
     "metadata": {
      "needs_background": "light"
     },
     "output_type": "display_data"
    }
   ],
   "source": [
    "dumheat = pd.get_dummies(iowatrain['house_style'])  #Dummy of importance\n",
    "dumheat['saleprice'] = iowatrain['saleprice']\n",
    "\n",
    "sns.heatmap(dumheat.corr()[['saleprice']].sort_values(by='saleprice', ascending=False),\n",
    "           annot = True, cmap='coolwarm');"
   ]
  },
  {
   "cell_type": "code",
   "execution_count": 35,
   "metadata": {},
   "outputs": [
    {
     "data": {
      "image/png": "[encoded data removed]",
      "text/plain": [
       "<Figure size 432x288 with 2 Axes>"
      ]
     },
     "metadata": {
      "needs_background": "light"
     },
     "output_type": "display_data"
    }
   ],
   "source": [
    "dumheat = pd.get_dummies(iowatrain['mas_vnr_type'])  #Dummy of importance\n",
    "dumheat['saleprice'] = iowatrain['saleprice']\n",
    "\n",
    "sns.heatmap(dumheat.corr()[['saleprice']].sort_values(by='saleprice', ascending=False),\n",
    "           annot = True, cmap='coolwarm');"
   ]
  },
  {
   "cell_type": "code",
   "execution_count": 36,
   "metadata": {},
   "outputs": [
    {
     "data": {
      "image/png": "[encoded data removed]",
      "text/plain": [
       "<Figure size 432x288 with 2 Axes>"
      ]
     },
     "metadata": {
      "needs_background": "light"
     },
     "output_type": "display_data"
    }
   ],
   "source": [
    "dumheat = pd.get_dummies(iowatrain['foundation'])  #Dummy of importance\n",
    "dumheat['saleprice'] = iowatrain['saleprice']\n",
    "\n",
    "sns.heatmap(dumheat.corr()[['saleprice']].sort_values(by='saleprice', ascending=False),\n",
    "           annot = True, cmap='coolwarm');"
   ]
  },
  {
   "cell_type": "markdown",
   "metadata": {},
   "source": [
    " |'central_air'| 'house_style'| 'roof_style'|\n",
    "|'mas_vnr_type'|'foundation'|"
   ]
  },
  {
   "cell_type": "code",
   "execution_count": 37,
   "metadata": {},
   "outputs": [],
   "source": [
    "#Items to dummify because they actually kinda matter! # DUMMIES!!!!\n",
    "pleasedummifyme = ('central_air', 'house_style', 'roof_style',\n",
    "                   'foundation', 'mas_vnr_type')"
   ]
  },
  {
   "cell_type": "code",
   "execution_count": 38,
   "metadata": {},
   "outputs": [],
   "source": [
    "dummified_dflist = [pd.get_dummies(iowatrain[i]) for i in iowatrain.columns \n",
    "                    if i in pleasedummifyme ]\n",
    "dummified_dflist = pd.concat(dummified_dflist,axis = 1)\n"
   ]
  },
  {
   "cell_type": "markdown",
   "metadata": {},
   "source": [
    "    Okay cool , so we have the dummified columns and we have fixed all the ordinal as well as make 3 buckets. \n",
    "\n",
    "    We still need to check the numerical columns and select the largest influencers, then we must also check for outliars. \n",
    "\n",
    "    Then we will make a DF with all the columns we care about. "
   ]
  },
  {
   "cell_type": "code",
   "execution_count": null,
   "metadata": {},
   "outputs": [],
   "source": []
  },
  {
   "cell_type": "markdown",
   "metadata": {},
   "source": [
    "    Let's combine gr_liv_area with bs_sq_ft minus the unfinished basment area. This will give us the total living area and that seems to be of most importance. \n",
    "    (Credit to Alyssia Oh for having this brilliant idea)"
   ]
  },
  {
   "cell_type": "code",
   "execution_count": 39,
   "metadata": {},
   "outputs": [],
   "source": [
    "iowatrain['tot_liv_area'] = iowatrain['gr_liv_area'] + iowatrain['total_bsmt_sf'] - iowatrain['bsmt_unf_sf']"
   ]
  },
  {
   "cell_type": "code",
   "execution_count": 40,
   "metadata": {},
   "outputs": [
    {
     "data": {
      "text/html": [
       "<div>\n",
       "<style scoped>\n",
       "    .dataframe tbody tr th:only-of-type {\n",
       "        vertical-align: middle;\n",
       "    }\n",
       "\n",
       "    .dataframe tbody tr th {\n",
       "        vertical-align: top;\n",
       "    }\n",
       "\n",
       "    .dataframe thead th {\n",
       "        text-align: right;\n",
       "    }\n",
       "</style>\n",
       "<table border=\"1\" class=\"dataframe\">\n",
       "  <thead>\n",
       "    <tr style=\"text-align: right;\">\n",
       "      <th></th>\n",
       "      <th>saleprice</th>\n",
       "    </tr>\n",
       "  </thead>\n",
       "  <tbody>\n",
       "    <tr>\n",
       "      <th>saleprice</th>\n",
       "      <td>1.000000</td>\n",
       "    </tr>\n",
       "    <tr>\n",
       "      <th>overall_qual</th>\n",
       "      <td>0.800207</td>\n",
       "    </tr>\n",
       "    <tr>\n",
       "      <th>tot_liv_area</th>\n",
       "      <td>0.716558</td>\n",
       "    </tr>\n",
       "    <tr>\n",
       "      <th>exter_qual</th>\n",
       "      <td>0.712146</td>\n",
       "    </tr>\n",
       "    <tr>\n",
       "      <th>gr_liv_area</th>\n",
       "      <td>0.697038</td>\n",
       "    </tr>\n",
       "    <tr>\n",
       "      <th>kitchen_qual</th>\n",
       "      <td>0.692336</td>\n",
       "    </tr>\n",
       "    <tr>\n",
       "      <th>garage_area</th>\n",
       "      <td>0.650246</td>\n",
       "    </tr>\n",
       "    <tr>\n",
       "      <th>neighborhood</th>\n",
       "      <td>0.648311</td>\n",
       "    </tr>\n",
       "    <tr>\n",
       "      <th>garage_cars</th>\n",
       "      <td>0.648197</td>\n",
       "    </tr>\n",
       "    <tr>\n",
       "      <th>total_bsmt_sf</th>\n",
       "      <td>0.628668</td>\n",
       "    </tr>\n",
       "    <tr>\n",
       "      <th>1st_flr_sf</th>\n",
       "      <td>0.618486</td>\n",
       "    </tr>\n",
       "    <tr>\n",
       "      <th>bsmt_qual</th>\n",
       "      <td>0.612188</td>\n",
       "    </tr>\n",
       "    <tr>\n",
       "      <th>year_built</th>\n",
       "      <td>0.571849</td>\n",
       "    </tr>\n",
       "    <tr>\n",
       "      <th>garage_finish</th>\n",
       "      <td>0.557839</td>\n",
       "    </tr>\n",
       "    <tr>\n",
       "      <th>year_remod/add</th>\n",
       "      <td>0.550370</td>\n",
       "    </tr>\n",
       "    <tr>\n",
       "      <th>fireplace_qu</th>\n",
       "      <td>0.538925</td>\n",
       "    </tr>\n",
       "    <tr>\n",
       "      <th>full_bath</th>\n",
       "      <td>0.537969</td>\n",
       "    </tr>\n",
       "    <tr>\n",
       "      <th>garage_yr_blt</th>\n",
       "      <td>0.516738</td>\n",
       "    </tr>\n",
       "    <tr>\n",
       "      <th>mas_vnr_area</th>\n",
       "      <td>0.508602</td>\n",
       "    </tr>\n",
       "    <tr>\n",
       "      <th>totrms_abvgrd</th>\n",
       "      <td>0.504014</td>\n",
       "    </tr>\n",
       "    <tr>\n",
       "      <th>fireplaces</th>\n",
       "      <td>0.471093</td>\n",
       "    </tr>\n",
       "    <tr>\n",
       "      <th>heating_qc</th>\n",
       "      <td>0.458354</td>\n",
       "    </tr>\n",
       "    <tr>\n",
       "      <th>bsmt_exposure</th>\n",
       "      <td>0.424863</td>\n",
       "    </tr>\n",
       "    <tr>\n",
       "      <th>bsmtfin_sf_1</th>\n",
       "      <td>0.423346</td>\n",
       "    </tr>\n",
       "    <tr>\n",
       "      <th>exterior_1st</th>\n",
       "      <td>0.406061</td>\n",
       "    </tr>\n",
       "    <tr>\n",
       "      <th>bsmtfin_type_1</th>\n",
       "      <td>0.350362</td>\n",
       "    </tr>\n",
       "    <tr>\n",
       "      <th>sale_type</th>\n",
       "      <td>0.338783</td>\n",
       "    </tr>\n",
       "    <tr>\n",
       "      <th>open_porch_sf</th>\n",
       "      <td>0.333476</td>\n",
       "    </tr>\n",
       "    <tr>\n",
       "      <th>wood_deck_sf</th>\n",
       "      <td>0.326490</td>\n",
       "    </tr>\n",
       "    <tr>\n",
       "      <th>lot_frontage</th>\n",
       "      <td>0.325850</td>\n",
       "    </tr>\n",
       "    <tr>\n",
       "      <th>lot_area</th>\n",
       "      <td>0.296566</td>\n",
       "    </tr>\n",
       "    <tr>\n",
       "      <th>paved_drive</th>\n",
       "      <td>0.290472</td>\n",
       "    </tr>\n",
       "    <tr>\n",
       "      <th>garage_qual</th>\n",
       "      <td>0.285281</td>\n",
       "    </tr>\n",
       "    <tr>\n",
       "      <th>bsmt_full_bath</th>\n",
       "      <td>0.283429</td>\n",
       "    </tr>\n",
       "    <tr>\n",
       "      <th>half_bath</th>\n",
       "      <td>0.283001</td>\n",
       "    </tr>\n",
       "    <tr>\n",
       "      <th>garage_cond</th>\n",
       "      <td>0.265021</td>\n",
       "    </tr>\n",
       "    <tr>\n",
       "      <th>2nd_flr_sf</th>\n",
       "      <td>0.248452</td>\n",
       "    </tr>\n",
       "    <tr>\n",
       "      <th>electrical</th>\n",
       "      <td>0.247842</td>\n",
       "    </tr>\n",
       "    <tr>\n",
       "      <th>bsmt_cond</th>\n",
       "      <td>0.225075</td>\n",
       "    </tr>\n",
       "    <tr>\n",
       "      <th>bsmt_unf_sf</th>\n",
       "      <td>0.190132</td>\n",
       "    </tr>\n",
       "  </tbody>\n",
       "</table>\n",
       "</div>"
      ],
      "text/plain": [
       "                saleprice\n",
       "saleprice        1.000000\n",
       "overall_qual     0.800207\n",
       "tot_liv_area     0.716558\n",
       "exter_qual       0.712146\n",
       "gr_liv_area      0.697038\n",
       "kitchen_qual     0.692336\n",
       "garage_area      0.650246\n",
       "neighborhood     0.648311\n",
       "garage_cars      0.648197\n",
       "total_bsmt_sf    0.628668\n",
       "1st_flr_sf       0.618486\n",
       "bsmt_qual        0.612188\n",
       "year_built       0.571849\n",
       "garage_finish    0.557839\n",
       "year_remod/add   0.550370\n",
       "fireplace_qu     0.538925\n",
       "full_bath        0.537969\n",
       "garage_yr_blt    0.516738\n",
       "mas_vnr_area     0.508602\n",
       "totrms_abvgrd    0.504014\n",
       "fireplaces       0.471093\n",
       "heating_qc       0.458354\n",
       "bsmt_exposure    0.424863\n",
       "bsmtfin_sf_1     0.423346\n",
       "exterior_1st     0.406061\n",
       "bsmtfin_type_1   0.350362\n",
       "sale_type        0.338783\n",
       "open_porch_sf    0.333476\n",
       "wood_deck_sf     0.326490\n",
       "lot_frontage     0.325850\n",
       "lot_area         0.296566\n",
       "paved_drive      0.290472\n",
       "garage_qual      0.285281\n",
       "bsmt_full_bath   0.283429\n",
       "half_bath        0.283001\n",
       "garage_cond      0.265021\n",
       "2nd_flr_sf       0.248452\n",
       "electrical       0.247842\n",
       "bsmt_cond        0.225075\n",
       "bsmt_unf_sf      0.190132"
      ]
     },
     "execution_count": 40,
     "metadata": {},
     "output_type": "execute_result"
    }
   ],
   "source": [
    "iowatrain.corr()[['saleprice']].sort_values(by='saleprice', ascending=False).head(40)"
   ]
  },
  {
   "cell_type": "markdown",
   "metadata": {},
   "source": [
    "DATA COLUMNS I AM INCLUDING IN MY TEST ! TAKING OFF THE REDUNDANT ONES.\n",
    "\n",
    "    # 'overall_qual'\t0.800207 Discrete\n",
    "    # tot_liv_area\t    0.763165\n",
    "    # 'exter_qual'\t    0.712146 Discrete\n",
    "    # 'gr_liv_area'  \t0.697038 REDUNDANT WITH TOTAL LIVING AREA\n",
    "    # 'kitchen_qual'\t0.692336 Discrete\n",
    "    # 'garage_area'\t    0.650246\n",
    "    # 'neighborhood'\t0.648311 THIS IS MY BUCKET!!\n",
    "    # 'garage_cars' \t0.648197 Discrete / REDUNDANT W GARAGE AREA\n",
    "    # 'total_bsmt_sf'\t0.628668 REDUNDANT WITH TOTAL LIVING AREA\n",
    "    # '1st_flr_sf'  \t0.618486 REDUNDANT WITH TOTAL LIVING AREA\n",
    "    # 'bsmt_qual'   \t0.612188 Discrete\n",
    "    # 'year_built'  \t0.571849 Discrete / REDUNDANT W YEAR_REMODEL\n",
    "    # 'garage_finish'\t0.557839 Discrete / Redudant w garage_area\n",
    "    # 'year_remod/add'\t0.550370 Discrete\n",
    "    # 'fireplace_qu'\t0.538925 Discrete\n",
    "    # 'full_bath'   \t0.537969 Discrete\n",
    "    # 'garage_yr_blt'\t0.516738 Discrete / Redudant w garage_area\n",
    "    # 'mas_vnr_area'\t0.508602          / Redudant w mas_vnr_type\n",
    "    # 'totrms_abvgrd'\t0.504014 Discrete\n",
    "    # 'fireplaces'  \t0.471093 Disctete / Redudant wi fire_qual\n",
    "    # 'heating_qc'  \t0.458354 Discrete\n",
    "\n",
    "    # ['central_air', 'house_style', 'roof_style', 'mas_vnr_type','foundation'] \n",
    "#dummies\n",
    "\n",
    "\n",
    "    # ['sale_type', 'exterior_1st', 'neighborhood'] \n",
    "#buckets"
   ]
  },
  {
   "cell_type": "markdown",
   "metadata": {},
   "source": [
    "## Remove Outliers"
   ]
  },
  {
   "cell_type": "code",
   "execution_count": 41,
   "metadata": {},
   "outputs": [
    {
     "data": {
      "image/png": "[encoded data removed]",
      "text/plain": [
       "<Figure size 360x360 with 1 Axes>"
      ]
     },
     "metadata": {
      "needs_background": "light"
     },
     "output_type": "display_data"
    }
   ],
   "source": [
    "sns.lmplot(x = 'tot_liv_area', y = 'saleprice', data = iowatrain, ci = False, order = 2);\n",
    "plt.title('Total Living Area (sf) vs Sale Price($) before Outlier Removal');"
   ]
  },
  {
   "cell_type": "code",
   "execution_count": 42,
   "metadata": {},
   "outputs": [
    {
     "data": {
      "image/png": "[encoded data removed]",
      "text/plain": [
       "<Figure size 432x288 with 1 Axes>"
      ]
     },
     "metadata": {
      "needs_background": "light"
     },
     "output_type": "display_data"
    }
   ],
   "source": [
    "plt.scatter(x=iowatrain['tot_liv_area'], y=iowatrain['saleprice']);"
   ]
  },
  {
   "cell_type": "markdown",
   "metadata": {},
   "source": [
    "  remove outliners over 5000! gr_liv_area, total_bsmt_sf.\n",
    "  \n",
    "remove outliners over 3500! 1st_flr_sf"
   ]
  },
  {
   "cell_type": "code",
   "execution_count": 43,
   "metadata": {},
   "outputs": [
    {
     "name": "stdout",
     "output_type": "stream",
     "text": [
      "960\n",
      "1885\n"
     ]
    }
   ],
   "source": [
    "for i in iowatrain.index:\n",
    "    if iowatrain['gr_liv_area'][i]>5000:\n",
    "        print(i)"
   ]
  },
  {
   "cell_type": "code",
   "execution_count": 44,
   "metadata": {},
   "outputs": [
    {
     "name": "stdout",
     "output_type": "stream",
     "text": [
      "960\n",
      "1885\n"
     ]
    }
   ],
   "source": [
    "for i in iowatrain.index:\n",
    "    if iowatrain['total_bsmt_sf'][i]>5000:\n",
    "        print(i)"
   ]
  },
  {
   "cell_type": "code",
   "execution_count": 45,
   "metadata": {},
   "outputs": [
    {
     "name": "stdout",
     "output_type": "stream",
     "text": [
      "616\n",
      "960\n",
      "1885\n"
     ]
    }
   ],
   "source": [
    "for i in iowatrain.index:\n",
    "    if iowatrain['1st_flr_sf'][i]>3500:\n",
    "        print(i)"
   ]
  },
  {
   "cell_type": "code",
   "execution_count": 46,
   "metadata": {},
   "outputs": [
    {
     "data": {
      "text/html": [
       "<div>\n",
       "<style scoped>\n",
       "    .dataframe tbody tr th:only-of-type {\n",
       "        vertical-align: middle;\n",
       "    }\n",
       "\n",
       "    .dataframe tbody tr th {\n",
       "        vertical-align: top;\n",
       "    }\n",
       "\n",
       "    .dataframe thead th {\n",
       "        text-align: right;\n",
       "    }\n",
       "</style>\n",
       "<table border=\"1\" class=\"dataframe\">\n",
       "  <thead>\n",
       "    <tr style=\"text-align: right;\">\n",
       "      <th></th>\n",
       "      <th>index</th>\n",
       "      <th>1.5Fin</th>\n",
       "      <th>1.5Unf</th>\n",
       "      <th>1Story</th>\n",
       "      <th>2.5Fin</th>\n",
       "      <th>2.5Unf</th>\n",
       "      <th>2Story</th>\n",
       "      <th>SFoyer</th>\n",
       "      <th>SLvl</th>\n",
       "      <th>Flat</th>\n",
       "      <th>...</th>\n",
       "      <th>None</th>\n",
       "      <th>Stone</th>\n",
       "      <th>BrkTil</th>\n",
       "      <th>CBlock</th>\n",
       "      <th>PConc</th>\n",
       "      <th>Slab</th>\n",
       "      <th>Stone</th>\n",
       "      <th>Wood</th>\n",
       "      <th>N</th>\n",
       "      <th>Y</th>\n",
       "    </tr>\n",
       "  </thead>\n",
       "  <tbody>\n",
       "    <tr>\n",
       "      <th>0</th>\n",
       "      <td>0</td>\n",
       "      <td>0</td>\n",
       "      <td>0</td>\n",
       "      <td>0</td>\n",
       "      <td>0</td>\n",
       "      <td>0</td>\n",
       "      <td>1</td>\n",
       "      <td>0</td>\n",
       "      <td>0</td>\n",
       "      <td>0</td>\n",
       "      <td>...</td>\n",
       "      <td>0</td>\n",
       "      <td>0</td>\n",
       "      <td>0</td>\n",
       "      <td>1</td>\n",
       "      <td>0</td>\n",
       "      <td>0</td>\n",
       "      <td>0</td>\n",
       "      <td>0</td>\n",
       "      <td>0</td>\n",
       "      <td>1</td>\n",
       "    </tr>\n",
       "    <tr>\n",
       "      <th>1</th>\n",
       "      <td>1</td>\n",
       "      <td>0</td>\n",
       "      <td>0</td>\n",
       "      <td>0</td>\n",
       "      <td>0</td>\n",
       "      <td>0</td>\n",
       "      <td>1</td>\n",
       "      <td>0</td>\n",
       "      <td>0</td>\n",
       "      <td>0</td>\n",
       "      <td>...</td>\n",
       "      <td>0</td>\n",
       "      <td>0</td>\n",
       "      <td>0</td>\n",
       "      <td>0</td>\n",
       "      <td>1</td>\n",
       "      <td>0</td>\n",
       "      <td>0</td>\n",
       "      <td>0</td>\n",
       "      <td>0</td>\n",
       "      <td>1</td>\n",
       "    </tr>\n",
       "    <tr>\n",
       "      <th>2</th>\n",
       "      <td>2</td>\n",
       "      <td>0</td>\n",
       "      <td>0</td>\n",
       "      <td>1</td>\n",
       "      <td>0</td>\n",
       "      <td>0</td>\n",
       "      <td>0</td>\n",
       "      <td>0</td>\n",
       "      <td>0</td>\n",
       "      <td>0</td>\n",
       "      <td>...</td>\n",
       "      <td>1</td>\n",
       "      <td>0</td>\n",
       "      <td>0</td>\n",
       "      <td>1</td>\n",
       "      <td>0</td>\n",
       "      <td>0</td>\n",
       "      <td>0</td>\n",
       "      <td>0</td>\n",
       "      <td>0</td>\n",
       "      <td>1</td>\n",
       "    </tr>\n",
       "    <tr>\n",
       "      <th>3</th>\n",
       "      <td>3</td>\n",
       "      <td>0</td>\n",
       "      <td>0</td>\n",
       "      <td>0</td>\n",
       "      <td>0</td>\n",
       "      <td>0</td>\n",
       "      <td>1</td>\n",
       "      <td>0</td>\n",
       "      <td>0</td>\n",
       "      <td>0</td>\n",
       "      <td>...</td>\n",
       "      <td>1</td>\n",
       "      <td>0</td>\n",
       "      <td>0</td>\n",
       "      <td>0</td>\n",
       "      <td>1</td>\n",
       "      <td>0</td>\n",
       "      <td>0</td>\n",
       "      <td>0</td>\n",
       "      <td>0</td>\n",
       "      <td>1</td>\n",
       "    </tr>\n",
       "    <tr>\n",
       "      <th>4</th>\n",
       "      <td>4</td>\n",
       "      <td>1</td>\n",
       "      <td>0</td>\n",
       "      <td>0</td>\n",
       "      <td>0</td>\n",
       "      <td>0</td>\n",
       "      <td>0</td>\n",
       "      <td>0</td>\n",
       "      <td>0</td>\n",
       "      <td>0</td>\n",
       "      <td>...</td>\n",
       "      <td>1</td>\n",
       "      <td>0</td>\n",
       "      <td>0</td>\n",
       "      <td>0</td>\n",
       "      <td>1</td>\n",
       "      <td>0</td>\n",
       "      <td>0</td>\n",
       "      <td>0</td>\n",
       "      <td>0</td>\n",
       "      <td>1</td>\n",
       "    </tr>\n",
       "    <tr>\n",
       "      <th>...</th>\n",
       "      <td>...</td>\n",
       "      <td>...</td>\n",
       "      <td>...</td>\n",
       "      <td>...</td>\n",
       "      <td>...</td>\n",
       "      <td>...</td>\n",
       "      <td>...</td>\n",
       "      <td>...</td>\n",
       "      <td>...</td>\n",
       "      <td>...</td>\n",
       "      <td>...</td>\n",
       "      <td>...</td>\n",
       "      <td>...</td>\n",
       "      <td>...</td>\n",
       "      <td>...</td>\n",
       "      <td>...</td>\n",
       "      <td>...</td>\n",
       "      <td>...</td>\n",
       "      <td>...</td>\n",
       "      <td>...</td>\n",
       "      <td>...</td>\n",
       "    </tr>\n",
       "    <tr>\n",
       "      <th>2043</th>\n",
       "      <td>2046</td>\n",
       "      <td>0</td>\n",
       "      <td>0</td>\n",
       "      <td>1</td>\n",
       "      <td>0</td>\n",
       "      <td>0</td>\n",
       "      <td>0</td>\n",
       "      <td>0</td>\n",
       "      <td>0</td>\n",
       "      <td>0</td>\n",
       "      <td>...</td>\n",
       "      <td>1</td>\n",
       "      <td>0</td>\n",
       "      <td>0</td>\n",
       "      <td>0</td>\n",
       "      <td>1</td>\n",
       "      <td>0</td>\n",
       "      <td>0</td>\n",
       "      <td>0</td>\n",
       "      <td>0</td>\n",
       "      <td>1</td>\n",
       "    </tr>\n",
       "    <tr>\n",
       "      <th>2044</th>\n",
       "      <td>2047</td>\n",
       "      <td>0</td>\n",
       "      <td>0</td>\n",
       "      <td>1</td>\n",
       "      <td>0</td>\n",
       "      <td>0</td>\n",
       "      <td>0</td>\n",
       "      <td>0</td>\n",
       "      <td>0</td>\n",
       "      <td>0</td>\n",
       "      <td>...</td>\n",
       "      <td>1</td>\n",
       "      <td>0</td>\n",
       "      <td>0</td>\n",
       "      <td>1</td>\n",
       "      <td>0</td>\n",
       "      <td>0</td>\n",
       "      <td>0</td>\n",
       "      <td>0</td>\n",
       "      <td>0</td>\n",
       "      <td>1</td>\n",
       "    </tr>\n",
       "    <tr>\n",
       "      <th>2045</th>\n",
       "      <td>2048</td>\n",
       "      <td>1</td>\n",
       "      <td>0</td>\n",
       "      <td>0</td>\n",
       "      <td>0</td>\n",
       "      <td>0</td>\n",
       "      <td>0</td>\n",
       "      <td>0</td>\n",
       "      <td>0</td>\n",
       "      <td>0</td>\n",
       "      <td>...</td>\n",
       "      <td>1</td>\n",
       "      <td>0</td>\n",
       "      <td>1</td>\n",
       "      <td>0</td>\n",
       "      <td>0</td>\n",
       "      <td>0</td>\n",
       "      <td>0</td>\n",
       "      <td>0</td>\n",
       "      <td>0</td>\n",
       "      <td>1</td>\n",
       "    </tr>\n",
       "    <tr>\n",
       "      <th>2046</th>\n",
       "      <td>2049</td>\n",
       "      <td>0</td>\n",
       "      <td>0</td>\n",
       "      <td>1</td>\n",
       "      <td>0</td>\n",
       "      <td>0</td>\n",
       "      <td>0</td>\n",
       "      <td>0</td>\n",
       "      <td>0</td>\n",
       "      <td>0</td>\n",
       "      <td>...</td>\n",
       "      <td>1</td>\n",
       "      <td>0</td>\n",
       "      <td>0</td>\n",
       "      <td>1</td>\n",
       "      <td>0</td>\n",
       "      <td>0</td>\n",
       "      <td>0</td>\n",
       "      <td>0</td>\n",
       "      <td>0</td>\n",
       "      <td>1</td>\n",
       "    </tr>\n",
       "    <tr>\n",
       "      <th>2047</th>\n",
       "      <td>2050</td>\n",
       "      <td>0</td>\n",
       "      <td>0</td>\n",
       "      <td>0</td>\n",
       "      <td>0</td>\n",
       "      <td>0</td>\n",
       "      <td>1</td>\n",
       "      <td>0</td>\n",
       "      <td>0</td>\n",
       "      <td>0</td>\n",
       "      <td>...</td>\n",
       "      <td>1</td>\n",
       "      <td>0</td>\n",
       "      <td>0</td>\n",
       "      <td>0</td>\n",
       "      <td>1</td>\n",
       "      <td>0</td>\n",
       "      <td>0</td>\n",
       "      <td>0</td>\n",
       "      <td>0</td>\n",
       "      <td>1</td>\n",
       "    </tr>\n",
       "  </tbody>\n",
       "</table>\n",
       "<p>2048 rows × 28 columns</p>\n",
       "</div>"
      ],
      "text/plain": [
       "      index  1.5Fin  1.5Unf  1Story  2.5Fin  2.5Unf  2Story  SFoyer  SLvl  \\\n",
       "0         0       0       0       0       0       0       1       0     0   \n",
       "1         1       0       0       0       0       0       1       0     0   \n",
       "2         2       0       0       1       0       0       0       0     0   \n",
       "3         3       0       0       0       0       0       1       0     0   \n",
       "4         4       1       0       0       0       0       0       0     0   \n",
       "...     ...     ...     ...     ...     ...     ...     ...     ...   ...   \n",
       "2043   2046       0       0       1       0       0       0       0     0   \n",
       "2044   2047       0       0       1       0       0       0       0     0   \n",
       "2045   2048       1       0       0       0       0       0       0     0   \n",
       "2046   2049       0       0       1       0       0       0       0     0   \n",
       "2047   2050       0       0       0       0       0       1       0     0   \n",
       "\n",
       "      Flat  ...  None  Stone  BrkTil  CBlock  PConc  Slab  Stone  Wood  N  Y  \n",
       "0        0  ...     0      0       0       1      0     0      0     0  0  1  \n",
       "1        0  ...     0      0       0       0      1     0      0     0  0  1  \n",
       "2        0  ...     1      0       0       1      0     0      0     0  0  1  \n",
       "3        0  ...     1      0       0       0      1     0      0     0  0  1  \n",
       "4        0  ...     1      0       0       0      1     0      0     0  0  1  \n",
       "...    ...  ...   ...    ...     ...     ...    ...   ...    ...   ... .. ..  \n",
       "2043     0  ...     1      0       0       0      1     0      0     0  0  1  \n",
       "2044     0  ...     1      0       0       1      0     0      0     0  0  1  \n",
       "2045     0  ...     1      0       1       0      0     0      0     0  0  1  \n",
       "2046     0  ...     1      0       0       1      0     0      0     0  0  1  \n",
       "2047     0  ...     1      0       0       0      1     0      0     0  0  1  \n",
       "\n",
       "[2048 rows x 28 columns]"
      ]
     },
     "execution_count": 46,
     "metadata": {},
     "output_type": "execute_result"
    }
   ],
   "source": [
    "iowatrain = iowatrain.drop(index= [616,960,1885], axis = 0)\n",
    "iowatrain.reset_index()\n",
    "dummified_dflist = dummified_dflist.drop(index= [616,960,1885], axis = 0)\n",
    "dummified_dflist.reset_index()"
   ]
  },
  {
   "cell_type": "markdown",
   "metadata": {},
   "source": [
    "    lets see how the total squarefootage graph has improved without outliars. "
   ]
  },
  {
   "cell_type": "code",
   "execution_count": 47,
   "metadata": {},
   "outputs": [
    {
     "data": {
      "image/png": "[encoded data removed]",
      "text/plain": [
       "<Figure size 360x360 with 1 Axes>"
      ]
     },
     "metadata": {
      "needs_background": "light"
     },
     "output_type": "display_data"
    }
   ],
   "source": [
    "sns.lmplot(x = 'tot_liv_area', y = 'saleprice', data = iowatrain, ci = False, order = 2);\n",
    "plt.title('Total Living Area (sf) vs Sale Price($) after Outlier Removal');"
   ]
  },
  {
   "cell_type": "code",
   "execution_count": 48,
   "metadata": {},
   "outputs": [],
   "source": [
    "includedcolumns = ['overall_qual','tot_liv_area','exter_qual', 'kitchen_qual',\n",
    "                   'garage_area', 'bsmt_qual','year_remod/add',\n",
    "                   'fireplace_qu', 'full_bath', 'totrms_abvgrd','heating_qc',\n",
    "                   'sale_type', 'exterior_1st', 'neighborhood'] \n",
    "#Removed the redudant ones and made sure to include the buckets! \n",
    "\n",
    "# ['central_air', 'house_style', 'roof_style', 'mas_vnr_type','foundation'] \n",
    "# Are the dummies. Don't worry we will include them as well. \n"
   ]
  },
  {
   "cell_type": "code",
   "execution_count": 49,
   "metadata": {},
   "outputs": [
    {
     "data": {
      "text/plain": [
       "(2048, 14)"
      ]
     },
     "execution_count": 49,
     "metadata": {},
     "output_type": "execute_result"
    }
   ],
   "source": [
    "iowatrain_clean = iowatrain[includedcolumns]\n",
    "iowatrain_clean.shape"
   ]
  },
  {
   "cell_type": "code",
   "execution_count": 50,
   "metadata": {},
   "outputs": [
    {
     "data": {
      "text/plain": [
       "(2048, 27)"
      ]
     },
     "execution_count": 50,
     "metadata": {},
     "output_type": "execute_result"
    }
   ],
   "source": [
    "dummified_dflist.shape"
   ]
  },
  {
   "cell_type": "code",
   "execution_count": 51,
   "metadata": {},
   "outputs": [
    {
     "data": {
      "text/plain": [
       "(2048, 81)"
      ]
     },
     "execution_count": 51,
     "metadata": {},
     "output_type": "execute_result"
    }
   ],
   "source": [
    "iowatrain.shape"
   ]
  },
  {
   "cell_type": "code",
   "execution_count": 52,
   "metadata": {},
   "outputs": [],
   "source": [
    "iowatrain_clean = pd.concat([iowatrain_clean, dummified_dflist],axis=1, join='outer')\n",
    "iowatrain_full = pd.concat([iowatrain, dummified_dflist],axis=1, join='outer')"
   ]
  },
  {
   "cell_type": "code",
   "execution_count": 53,
   "metadata": {},
   "outputs": [],
   "source": [
    "iowatrain_clean.to_csv('./datasets/iowatrain_clean.csv')\n",
    "iowatrain_full.to_csv('./datasets/iowatrain_full_clean.csv')"
   ]
  },
  {
   "cell_type": "code",
   "execution_count": 55,
   "metadata": {},
   "outputs": [
    {
     "data": {
      "text/html": [
       "<div>\n",
       "<style scoped>\n",
       "    .dataframe tbody tr th:only-of-type {\n",
       "        vertical-align: middle;\n",
       "    }\n",
       "\n",
       "    .dataframe tbody tr th {\n",
       "        vertical-align: top;\n",
       "    }\n",
       "\n",
       "    .dataframe thead th {\n",
       "        text-align: right;\n",
       "    }\n",
       "</style>\n",
       "<table border=\"1\" class=\"dataframe\">\n",
       "  <thead>\n",
       "    <tr style=\"text-align: right;\">\n",
       "      <th></th>\n",
       "      <th>overall_qual</th>\n",
       "      <th>tot_liv_area</th>\n",
       "      <th>exter_qual</th>\n",
       "      <th>kitchen_qual</th>\n",
       "      <th>garage_area</th>\n",
       "      <th>bsmt_qual</th>\n",
       "      <th>year_remod/add</th>\n",
       "      <th>fireplace_qu</th>\n",
       "      <th>full_bath</th>\n",
       "      <th>totrms_abvgrd</th>\n",
       "      <th>...</th>\n",
       "      <th>None</th>\n",
       "      <th>Stone</th>\n",
       "      <th>BrkTil</th>\n",
       "      <th>CBlock</th>\n",
       "      <th>PConc</th>\n",
       "      <th>Slab</th>\n",
       "      <th>Stone</th>\n",
       "      <th>Wood</th>\n",
       "      <th>N</th>\n",
       "      <th>Y</th>\n",
       "    </tr>\n",
       "  </thead>\n",
       "  <tbody>\n",
       "    <tr>\n",
       "      <th>0</th>\n",
       "      <td>6</td>\n",
       "      <td>2012.0</td>\n",
       "      <td>4</td>\n",
       "      <td>4</td>\n",
       "      <td>475.0</td>\n",
       "      <td>3</td>\n",
       "      <td>2005</td>\n",
       "      <td>0</td>\n",
       "      <td>2</td>\n",
       "      <td>6</td>\n",
       "      <td>...</td>\n",
       "      <td>0</td>\n",
       "      <td>0</td>\n",
       "      <td>0</td>\n",
       "      <td>1</td>\n",
       "      <td>0</td>\n",
       "      <td>0</td>\n",
       "      <td>0</td>\n",
       "      <td>0</td>\n",
       "      <td>0</td>\n",
       "      <td>1</td>\n",
       "    </tr>\n",
       "    <tr>\n",
       "      <th>1</th>\n",
       "      <td>7</td>\n",
       "      <td>2759.0</td>\n",
       "      <td>4</td>\n",
       "      <td>4</td>\n",
       "      <td>559.0</td>\n",
       "      <td>4</td>\n",
       "      <td>1997</td>\n",
       "      <td>3</td>\n",
       "      <td>2</td>\n",
       "      <td>8</td>\n",
       "      <td>...</td>\n",
       "      <td>0</td>\n",
       "      <td>0</td>\n",
       "      <td>0</td>\n",
       "      <td>0</td>\n",
       "      <td>1</td>\n",
       "      <td>0</td>\n",
       "      <td>0</td>\n",
       "      <td>0</td>\n",
       "      <td>0</td>\n",
       "      <td>1</td>\n",
       "    </tr>\n",
       "    <tr>\n",
       "      <th>2</th>\n",
       "      <td>5</td>\n",
       "      <td>1788.0</td>\n",
       "      <td>3</td>\n",
       "      <td>4</td>\n",
       "      <td>246.0</td>\n",
       "      <td>3</td>\n",
       "      <td>2007</td>\n",
       "      <td>0</td>\n",
       "      <td>1</td>\n",
       "      <td>5</td>\n",
       "      <td>...</td>\n",
       "      <td>1</td>\n",
       "      <td>0</td>\n",
       "      <td>0</td>\n",
       "      <td>1</td>\n",
       "      <td>0</td>\n",
       "      <td>0</td>\n",
       "      <td>0</td>\n",
       "      <td>0</td>\n",
       "      <td>0</td>\n",
       "      <td>1</td>\n",
       "    </tr>\n",
       "    <tr>\n",
       "      <th>3</th>\n",
       "      <td>5</td>\n",
       "      <td>1444.0</td>\n",
       "      <td>3</td>\n",
       "      <td>3</td>\n",
       "      <td>400.0</td>\n",
       "      <td>4</td>\n",
       "      <td>2007</td>\n",
       "      <td>0</td>\n",
       "      <td>2</td>\n",
       "      <td>7</td>\n",
       "      <td>...</td>\n",
       "      <td>1</td>\n",
       "      <td>0</td>\n",
       "      <td>0</td>\n",
       "      <td>0</td>\n",
       "      <td>1</td>\n",
       "      <td>0</td>\n",
       "      <td>0</td>\n",
       "      <td>0</td>\n",
       "      <td>0</td>\n",
       "      <td>1</td>\n",
       "    </tr>\n",
       "    <tr>\n",
       "      <th>4</th>\n",
       "      <td>6</td>\n",
       "      <td>1445.0</td>\n",
       "      <td>3</td>\n",
       "      <td>3</td>\n",
       "      <td>484.0</td>\n",
       "      <td>2</td>\n",
       "      <td>1993</td>\n",
       "      <td>0</td>\n",
       "      <td>2</td>\n",
       "      <td>6</td>\n",
       "      <td>...</td>\n",
       "      <td>1</td>\n",
       "      <td>0</td>\n",
       "      <td>0</td>\n",
       "      <td>0</td>\n",
       "      <td>1</td>\n",
       "      <td>0</td>\n",
       "      <td>0</td>\n",
       "      <td>0</td>\n",
       "      <td>0</td>\n",
       "      <td>1</td>\n",
       "    </tr>\n",
       "    <tr>\n",
       "      <th>...</th>\n",
       "      <td>...</td>\n",
       "      <td>...</td>\n",
       "      <td>...</td>\n",
       "      <td>...</td>\n",
       "      <td>...</td>\n",
       "      <td>...</td>\n",
       "      <td>...</td>\n",
       "      <td>...</td>\n",
       "      <td>...</td>\n",
       "      <td>...</td>\n",
       "      <td>...</td>\n",
       "      <td>...</td>\n",
       "      <td>...</td>\n",
       "      <td>...</td>\n",
       "      <td>...</td>\n",
       "      <td>...</td>\n",
       "      <td>...</td>\n",
       "      <td>...</td>\n",
       "      <td>...</td>\n",
       "      <td>...</td>\n",
       "      <td>...</td>\n",
       "    </tr>\n",
       "    <tr>\n",
       "      <th>2046</th>\n",
       "      <td>8</td>\n",
       "      <td>2739.0</td>\n",
       "      <td>4</td>\n",
       "      <td>4</td>\n",
       "      <td>520.0</td>\n",
       "      <td>4</td>\n",
       "      <td>2007</td>\n",
       "      <td>4</td>\n",
       "      <td>2</td>\n",
       "      <td>7</td>\n",
       "      <td>...</td>\n",
       "      <td>1</td>\n",
       "      <td>0</td>\n",
       "      <td>0</td>\n",
       "      <td>0</td>\n",
       "      <td>1</td>\n",
       "      <td>0</td>\n",
       "      <td>0</td>\n",
       "      <td>0</td>\n",
       "      <td>0</td>\n",
       "      <td>1</td>\n",
       "    </tr>\n",
       "    <tr>\n",
       "      <th>2047</th>\n",
       "      <td>4</td>\n",
       "      <td>1123.0</td>\n",
       "      <td>3</td>\n",
       "      <td>3</td>\n",
       "      <td>539.0</td>\n",
       "      <td>3</td>\n",
       "      <td>1950</td>\n",
       "      <td>0</td>\n",
       "      <td>1</td>\n",
       "      <td>4</td>\n",
       "      <td>...</td>\n",
       "      <td>1</td>\n",
       "      <td>0</td>\n",
       "      <td>0</td>\n",
       "      <td>1</td>\n",
       "      <td>0</td>\n",
       "      <td>0</td>\n",
       "      <td>0</td>\n",
       "      <td>0</td>\n",
       "      <td>0</td>\n",
       "      <td>1</td>\n",
       "    </tr>\n",
       "    <tr>\n",
       "      <th>2048</th>\n",
       "      <td>6</td>\n",
       "      <td>1913.0</td>\n",
       "      <td>3</td>\n",
       "      <td>3</td>\n",
       "      <td>342.0</td>\n",
       "      <td>3</td>\n",
       "      <td>1950</td>\n",
       "      <td>3</td>\n",
       "      <td>1</td>\n",
       "      <td>9</td>\n",
       "      <td>...</td>\n",
       "      <td>1</td>\n",
       "      <td>0</td>\n",
       "      <td>1</td>\n",
       "      <td>0</td>\n",
       "      <td>0</td>\n",
       "      <td>0</td>\n",
       "      <td>0</td>\n",
       "      <td>0</td>\n",
       "      <td>0</td>\n",
       "      <td>1</td>\n",
       "    </tr>\n",
       "    <tr>\n",
       "      <th>2049</th>\n",
       "      <td>4</td>\n",
       "      <td>2105.0</td>\n",
       "      <td>3</td>\n",
       "      <td>3</td>\n",
       "      <td>294.0</td>\n",
       "      <td>3</td>\n",
       "      <td>1956</td>\n",
       "      <td>4</td>\n",
       "      <td>1</td>\n",
       "      <td>6</td>\n",
       "      <td>...</td>\n",
       "      <td>1</td>\n",
       "      <td>0</td>\n",
       "      <td>0</td>\n",
       "      <td>1</td>\n",
       "      <td>0</td>\n",
       "      <td>0</td>\n",
       "      <td>0</td>\n",
       "      <td>0</td>\n",
       "      <td>0</td>\n",
       "      <td>1</td>\n",
       "    </tr>\n",
       "    <tr>\n",
       "      <th>2050</th>\n",
       "      <td>7</td>\n",
       "      <td>1804.0</td>\n",
       "      <td>3</td>\n",
       "      <td>4</td>\n",
       "      <td>442.0</td>\n",
       "      <td>3</td>\n",
       "      <td>1999</td>\n",
       "      <td>3</td>\n",
       "      <td>2</td>\n",
       "      <td>7</td>\n",
       "      <td>...</td>\n",
       "      <td>1</td>\n",
       "      <td>0</td>\n",
       "      <td>0</td>\n",
       "      <td>0</td>\n",
       "      <td>1</td>\n",
       "      <td>0</td>\n",
       "      <td>0</td>\n",
       "      <td>0</td>\n",
       "      <td>0</td>\n",
       "      <td>1</td>\n",
       "    </tr>\n",
       "  </tbody>\n",
       "</table>\n",
       "<p>2048 rows × 41 columns</p>\n",
       "</div>"
      ],
      "text/plain": [
       "      overall_qual  tot_liv_area  exter_qual  kitchen_qual  garage_area  \\\n",
       "0                6        2012.0           4             4        475.0   \n",
       "1                7        2759.0           4             4        559.0   \n",
       "2                5        1788.0           3             4        246.0   \n",
       "3                5        1444.0           3             3        400.0   \n",
       "4                6        1445.0           3             3        484.0   \n",
       "...            ...           ...         ...           ...          ...   \n",
       "2046             8        2739.0           4             4        520.0   \n",
       "2047             4        1123.0           3             3        539.0   \n",
       "2048             6        1913.0           3             3        342.0   \n",
       "2049             4        2105.0           3             3        294.0   \n",
       "2050             7        1804.0           3             4        442.0   \n",
       "\n",
       "      bsmt_qual  year_remod/add  fireplace_qu  full_bath  totrms_abvgrd  ...  \\\n",
       "0             3            2005             0          2              6  ...   \n",
       "1             4            1997             3          2              8  ...   \n",
       "2             3            2007             0          1              5  ...   \n",
       "3             4            2007             0          2              7  ...   \n",
       "4             2            1993             0          2              6  ...   \n",
       "...         ...             ...           ...        ...            ...  ...   \n",
       "2046          4            2007             4          2              7  ...   \n",
       "2047          3            1950             0          1              4  ...   \n",
       "2048          3            1950             3          1              9  ...   \n",
       "2049          3            1956             4          1              6  ...   \n",
       "2050          3            1999             3          2              7  ...   \n",
       "\n",
       "      None  Stone  BrkTil  CBlock  PConc  Slab  Stone  Wood  N  Y  \n",
       "0        0      0       0       1      0     0      0     0  0  1  \n",
       "1        0      0       0       0      1     0      0     0  0  1  \n",
       "2        1      0       0       1      0     0      0     0  0  1  \n",
       "3        1      0       0       0      1     0      0     0  0  1  \n",
       "4        1      0       0       0      1     0      0     0  0  1  \n",
       "...    ...    ...     ...     ...    ...   ...    ...   ... .. ..  \n",
       "2046     1      0       0       0      1     0      0     0  0  1  \n",
       "2047     1      0       0       1      0     0      0     0  0  1  \n",
       "2048     1      0       1       0      0     0      0     0  0  1  \n",
       "2049     1      0       0       1      0     0      0     0  0  1  \n",
       "2050     1      0       0       0      1     0      0     0  0  1  \n",
       "\n",
       "[2048 rows x 41 columns]"
      ]
     },
     "execution_count": 55,
     "metadata": {},
     "output_type": "execute_result"
    }
   ],
   "source": [
    "\n",
    "iowatrain_clean"
   ]
  },
  {
   "cell_type": "markdown",
   "metadata": {},
   "source": [
    "## After the outliners removed "
   ]
  },
  {
   "cell_type": "code",
   "execution_count": 49,
   "metadata": {},
   "outputs": [
    {
     "data": {
      "image/png": "[encoded data removed]",
      "text/plain": [
       "<Figure size 360x360 with 1 Axes>"
      ]
     },
     "metadata": {
      "needs_background": "light"
     },
     "output_type": "display_data"
    }
   ],
   "source": [
    "sns.lmplot(x = 'total_bsmt_sf', y = 'saleprice', data = iowatrain_full, ci = False, order = 2);\n",
    "plt.title('Basement Square Footage vs Sale Price');"
   ]
  },
  {
   "cell_type": "code",
   "execution_count": null,
   "metadata": {},
   "outputs": [],
   "source": []
  },
  {
   "cell_type": "code",
   "execution_count": null,
   "metadata": {},
   "outputs": [],
   "source": []
  },
  {
   "cell_type": "markdown",
   "metadata": {},
   "source": [
    "## Baseline Simple Model"
   ]
  },
  {
   "cell_type": "markdown",
   "metadata": {},
   "source": [
    "    LETS DO A SIMPLE SIMPLE MODEL AS A BASELINE TO COMPARE. ALSO I\"M CURIOUS, HOW GOOD A MODEL CAN BE IF WE JUST USE THE 5 HIGHEST CORRELATED VARIABLES IN A LINEAR REGRESSION MODEL. "
   ]
  },
  {
   "cell_type": "code",
   "execution_count": 133,
   "metadata": {},
   "outputs": [
    {
     "data": {
      "text/plain": [
       "['overall_qual',\n",
       " 'tot_liv_area',\n",
       " 'exter_qual',\n",
       " 'kitchen_qual',\n",
       " 'garage_area',\n",
       " 'bsmt_qual',\n",
       " 'year_remod/add',\n",
       " 'fireplace_qu',\n",
       " 'full_bath',\n",
       " 'totrms_abvgrd',\n",
       " 'heating_qc',\n",
       " 'sale_type',\n",
       " 'exterior_1st',\n",
       " 'neighborhood']"
      ]
     },
     "execution_count": 133,
     "metadata": {},
     "output_type": "execute_result"
    }
   ],
   "source": [
    "includedcolumns"
   ]
  },
  {
   "cell_type": "code",
   "execution_count": 139,
   "metadata": {},
   "outputs": [
    {
     "data": {
      "text/plain": [
       "0.8455201985733172"
      ]
     },
     "execution_count": 139,
     "metadata": {},
     "output_type": "execute_result"
    }
   ],
   "source": [
    "lr = LinearRegression()\n",
    "sc = StandardScaler()\n",
    "features = ['overall_qual','tot_liv_area','exter_qual','kitchen_qual', 'garage_area']\n",
    "X = iowatrain_clean[features]\n",
    "y = iowatrain_full['saleprice']\n",
    "\n",
    "X_train, X_test, y_train, y_test = train_test_split(X, y,\n",
    "                                                    test_size = 0.2, random_state =42)\n",
    "Z_train = sc.fit_transform(X_train)\n",
    "Z_test = sc.transform(X_test)\n",
    "\n",
    "lr.fit(Z_train, y_train)\n",
    "\n",
    "lr.score(Z_train, y_train)"
   ]
  },
  {
   "cell_type": "code",
   "execution_count": 140,
   "metadata": {},
   "outputs": [
    {
     "data": {
      "text/plain": [
       "0.8326510171649426"
      ]
     },
     "execution_count": 140,
     "metadata": {},
     "output_type": "execute_result"
    }
   ],
   "source": [
    "lr.score(Z_test, y_test)"
   ]
  },
  {
   "cell_type": "markdown",
   "metadata": {},
   "source": [
    "Our baseline model only including the top 5 correlated items in the data set actually give a relativly high score of 83.2% accuracy on our split test. "
   ]
  },
  {
   "cell_type": "code",
   "execution_count": 56,
   "metadata": {},
   "outputs": [],
   "source": []
  },
  {
   "cell_type": "markdown",
   "metadata": {},
   "source": [
    "## Make a Working Model"
   ]
  },
  {
   "cell_type": "code",
   "execution_count": 57,
   "metadata": {},
   "outputs": [
    {
     "data": {
      "text/plain": [
       "(2048, 41)"
      ]
     },
     "execution_count": 57,
     "metadata": {},
     "output_type": "execute_result"
    }
   ],
   "source": [
    "# Let's do this model\n",
    "\n",
    "X = iowatrain_clean\n",
    "\n",
    "y = iowatrain['saleprice']\n",
    "X.shape"
   ]
  },
  {
   "cell_type": "code",
   "execution_count": 58,
   "metadata": {},
   "outputs": [],
   "source": [
    "# lr = LinearRegression()\n",
    "sc = StandardScaler()\n",
    "poly = PolynomialFeatures(degree=2, interaction_only=False, include_bias=False )\n",
    "X_overfit = poly.fit_transform(X)"
   ]
  },
  {
   "cell_type": "code",
   "execution_count": 59,
   "metadata": {},
   "outputs": [],
   "source": [
    "sc = StandardScaler()\n",
    "X_train, X_test, y_train, y_test = train_test_split(X_overfit\n",
    "                                                    , y, test_size=0.2, random_state=42)\n",
    "Z_train = sc.fit_transform(X_train)\n",
    "Z_test = sc.transform(X_test)"
   ]
  },
  {
   "cell_type": "code",
   "execution_count": 60,
   "metadata": {},
   "outputs": [
    {
     "name": "stdout",
     "output_type": "stream",
     "text": [
      "14\n"
     ]
    }
   ],
   "source": [
    "# https://www.statology.org/ridge-regression-in-python/#:~:text=%20Ridge%20Regression%20in%20Python%20%28Step-by-Step%29%20%201,to%20Make%20Predictions.%20Lastly%2C%20we%20can...%20More%20\n",
    "# I got the model idea from here, I tried a bit of different models.\n",
    "\n",
    "#Defining the cross-validation to evaluate model\n",
    "cv = RepeatedKFold(n_splits =10, n_repeats = 3, random_state = 42)\n",
    "#defining model\n",
    "model = RidgeCV(alphas=range(0,15,1), cv=cv)\n",
    "#fit model\n",
    "model.fit(Z_train, y_train)\n",
    "#display lambda that produced the lowest test r2 score. optimal alpha.\n",
    "print(model.alpha_)"
   ]
  },
  {
   "cell_type": "code",
   "execution_count": 61,
   "metadata": {},
   "outputs": [
    {
     "name": "stdout",
     "output_type": "stream",
     "text": [
      "0.9360051058299448\n",
      "0.8764313085221062\n"
     ]
    }
   ],
   "source": [
    "print(model.score(Z_train, y_train))\n",
    "print(model.score(Z_test, y_test))"
   ]
  },
  {
   "cell_type": "markdown",
   "metadata": {},
   "source": [
    "    Below were some failed attempts at other models below. I tried a few others but they are lost in the scrap notebooks."
   ]
  },
  {
   "cell_type": "code",
   "execution_count": 62,
   "metadata": {},
   "outputs": [],
   "source": [
    "# knn_params = {\n",
    "#     'n_neighbors': range(1,51,10),\n",
    "#     'metric':['euclidean', 'manhattan']\n",
    "# }\n",
    "\n",
    "# knn_gridsearch = GridSearchCV(KNeighborsClassifier(),\n",
    "#                              knn_params,\n",
    "#                              cv=5,\n",
    "#                              verbose=1)\n",
    "\n",
    "# knn_gridsearch.fit(Z_train, y_train)\n",
    "\n",
    "# knn_gridsearch.best_score_\n",
    "\n",
    "# knn_gridsearch.score(Z_test, y_test)\n",
    "\n",
    "\n",
    "\n",
    "# Instantiate.\n",
    "# ridge_model = Ridge(alpha=10)\n",
    "\n",
    "# # Fit.\n",
    "# ridge_model.fit(Z_train, y_train)\n",
    "\n",
    "# # Evaluate model using R2.\n",
    "# print(ridge_model.score(Z_train, y_train))\n",
    "# print(ridge_model.score(Z_test, y_test))\n",
    "\n",
    "# print(Z_train.shape)\n",
    "# print(Z_test.shape)\n",
    "\n",
    "# lr.fit(Z_train, y_train)\n",
    "# lr.score(Z_test, y_test)\n",
    "# lr.score(Z_train, y_train)\n",
    "\n"
   ]
  },
  {
   "cell_type": "code",
   "execution_count": null,
   "metadata": {},
   "outputs": [],
   "source": []
  },
  {
   "cell_type": "code",
   "execution_count": 63,
   "metadata": {},
   "outputs": [],
   "source": [
    "#################################################################################################################################"
   ]
  },
  {
   "cell_type": "markdown",
   "metadata": {},
   "source": [
    "### Now we shall use the model on our Test Data"
   ]
  },
  {
   "cell_type": "code",
   "execution_count": 92,
   "metadata": {},
   "outputs": [],
   "source": [
    "iowatest = pd.read_csv('./datasets/test.csv')"
   ]
  },
  {
   "cell_type": "code",
   "execution_count": 93,
   "metadata": {},
   "outputs": [
    {
     "data": {
      "text/plain": [
       "Id                0\n",
       "PID               0\n",
       "MS SubClass       0\n",
       "MS Zoning         0\n",
       "Lot Frontage    160\n",
       "               ... \n",
       "Misc Feature    837\n",
       "Misc Val          0\n",
       "Mo Sold           0\n",
       "Yr Sold           0\n",
       "Sale Type         0\n",
       "Length: 80, dtype: int64"
      ]
     },
     "execution_count": 93,
     "metadata": {},
     "output_type": "execute_result"
    }
   ],
   "source": [
    "iowatest.isnull().sum()"
   ]
  },
  {
   "cell_type": "code",
   "execution_count": 94,
   "metadata": {},
   "outputs": [],
   "source": [
    "iowatest[\"Bsmt Cond\"].fillna('NA', inplace=True)\n",
    "iowatest['Bsmt Qual'].fillna('NA', inplace=True)\n",
    "iowatest['Bsmt Exposure'].fillna('NA', inplace=True)\n",
    "iowatest['BsmtFin Type 1'].fillna('NA', inplace=True)\n",
    "iowatest['BsmtFin Type 2'].fillna('NA', inplace=True)\n",
    "iowatest['Electrical'].fillna(0, inplace=True)\n",
    "iowatest['Fireplace Qu'].fillna('NA', inplace=True)\n",
    "iowatest['Garage Finish'].fillna('NA', inplace=True)\n",
    "iowatest['Garage Qual'].fillna('NA', inplace=True)\n",
    "iowatest['Garage Cond'].fillna('NA', inplace=True)\n",
    "iowatest['Pool QC'].fillna('NA', inplace=True)\n",
    "iowatest['Fence'].fillna('NA', inplace=True)\n",
    "\n",
    "iowatest.columns = [x.lower() for x in iowatest.columns]\n",
    "iowatest.columns = [x.strip().replace(' ', '_') for x in iowatest.columns]\n",
    "\n",
    "iowatest['ms_subclass'] = iowatest['ms_subclass'].astype(str)\n",
    "\n",
    "iowatest.replace({\n",
    "            'lot_shape': {'Reg':4 , 'IR1':3 , 'IR2':2 , 'IR3':1 },\n",
    "            'utilities': {'AllPub':3, 'NoSeWa':2, 'NoSewr':1 },\n",
    "            'land_slope': {'Gtl':3,  'Mod':2, 'Sev':1},\n",
    "            'exter_qual': {'NA':0, 'Ex':5,'Gd':4, 'TA':3, 'Fa':2, 'Po':1},\n",
    "            'exter_cond': {'NA':0, 'Ex':5,'Gd':4, 'TA':3, 'Fa':2, 'Po':1},\n",
    "            'bsmt_qual':  {'NA':0, 'Ex':5,'Gd':4, 'TA':3, 'Fa':2, 'Po':1},\n",
    "            'bsmt_cond':  {'NA':0, 'Ex':5,'Gd':4, 'TA':3, 'Fa':2, 'Po':1},\n",
    "            'bsmt_exposure': {'NA': 0, 'Gd':4 , 'Av':3, 'Mn':2, 'No':1},\n",
    "            'bsmtfin_type_1': {'NA':0, 'GLQ':6, 'ALQ':5, 'BLQ':4,\n",
    "                                      'Rec':3, 'LwQ':2, 'Unf':1},\n",
    "            'bsmtfin_type_2': {'NA':0, 'GLQ':6, 'ALQ':5, 'BLQ':4,\n",
    "                                      'Rec':3, 'LwQ':2, 'Unf':1},\n",
    "            'heating_qc': {'NA':0, 'Ex':5,'Gd':4, 'TA':3, 'Fa':2, 'Po':1},\n",
    "            'electrical': {'SBrkr':5, 'FuseA':4, 'FuseF':3, 'FuseP':2, 'Mix':1},\n",
    "            'kitchen_qual':  {'NA':0, 'Ex':5,'Gd':4, 'TA':3, 'Fa':2, 'Po':1},\n",
    "            'functional':{'Typ':8, 'Min1':7, 'Min2':6, 'Mod':5, \n",
    "                                   'Maj1':4, 'Maj2':3, 'Sev':2, 'Sal':1 },\n",
    "            'fireplace_qu': {'NA':0, 'Ex':5,'Gd':4, 'TA':3, 'Fa':2, 'Po':1},\n",
    "            'garage_finish': {'NA':0, 'Fin':3, 'RFn':2, 'Unf':1},\n",
    "            'garage_qual':   {'NA':0, 'Ex':5,'Gd':4, 'TA':3, 'Fa':2, 'Po':1},\n",
    "            'garage_cond':    {'NA':0, 'Ex':5,'Gd':4, 'TA':3, 'Fa':2, 'Po':1},\n",
    "            'paved_drive':   {'Y':3, 'P':2, 'N':1},\n",
    "            'pool_qc':   {'NA':0, 'Ex':5,'Gd':4, 'TA':3, 'Fa':2, 'Po':1},\n",
    "            'fence':  {'NA':0, 'GdPrv':4, 'MnPrv':3, 'GdWo':2, 'MnWw':1}\n",
    "            }, inplace=True)"
   ]
  },
  {
   "cell_type": "code",
   "execution_count": 95,
   "metadata": {},
   "outputs": [
    {
     "data": {
      "text/html": [
       "<div>\n",
       "<style scoped>\n",
       "    .dataframe tbody tr th:only-of-type {\n",
       "        vertical-align: middle;\n",
       "    }\n",
       "\n",
       "    .dataframe tbody tr th {\n",
       "        vertical-align: top;\n",
       "    }\n",
       "\n",
       "    .dataframe thead th {\n",
       "        text-align: right;\n",
       "    }\n",
       "</style>\n",
       "<table border=\"1\" class=\"dataframe\">\n",
       "  <thead>\n",
       "    <tr style=\"text-align: right;\">\n",
       "      <th></th>\n",
       "      <th>id</th>\n",
       "      <th>pid</th>\n",
       "      <th>ms_subclass</th>\n",
       "      <th>ms_zoning</th>\n",
       "      <th>lot_frontage</th>\n",
       "      <th>lot_area</th>\n",
       "      <th>street</th>\n",
       "      <th>alley</th>\n",
       "      <th>lot_shape</th>\n",
       "      <th>land_contour</th>\n",
       "      <th>...</th>\n",
       "      <th>3ssn_porch</th>\n",
       "      <th>screen_porch</th>\n",
       "      <th>pool_area</th>\n",
       "      <th>pool_qc</th>\n",
       "      <th>fence</th>\n",
       "      <th>misc_feature</th>\n",
       "      <th>misc_val</th>\n",
       "      <th>mo_sold</th>\n",
       "      <th>yr_sold</th>\n",
       "      <th>sale_type</th>\n",
       "    </tr>\n",
       "  </thead>\n",
       "  <tbody>\n",
       "    <tr>\n",
       "      <th>0</th>\n",
       "      <td>2658</td>\n",
       "      <td>902301120</td>\n",
       "      <td>190</td>\n",
       "      <td>RM</td>\n",
       "      <td>69.0</td>\n",
       "      <td>9142</td>\n",
       "      <td>Pave</td>\n",
       "      <td>Grvl</td>\n",
       "      <td>4</td>\n",
       "      <td>Lvl</td>\n",
       "      <td>...</td>\n",
       "      <td>0</td>\n",
       "      <td>0</td>\n",
       "      <td>0</td>\n",
       "      <td>0</td>\n",
       "      <td>0</td>\n",
       "      <td>NaN</td>\n",
       "      <td>0</td>\n",
       "      <td>4</td>\n",
       "      <td>2006</td>\n",
       "      <td>WD</td>\n",
       "    </tr>\n",
       "    <tr>\n",
       "      <th>1</th>\n",
       "      <td>2718</td>\n",
       "      <td>905108090</td>\n",
       "      <td>90</td>\n",
       "      <td>RL</td>\n",
       "      <td>NaN</td>\n",
       "      <td>9662</td>\n",
       "      <td>Pave</td>\n",
       "      <td>NaN</td>\n",
       "      <td>3</td>\n",
       "      <td>Lvl</td>\n",
       "      <td>...</td>\n",
       "      <td>0</td>\n",
       "      <td>0</td>\n",
       "      <td>0</td>\n",
       "      <td>0</td>\n",
       "      <td>0</td>\n",
       "      <td>NaN</td>\n",
       "      <td>0</td>\n",
       "      <td>8</td>\n",
       "      <td>2006</td>\n",
       "      <td>WD</td>\n",
       "    </tr>\n",
       "    <tr>\n",
       "      <th>2</th>\n",
       "      <td>2414</td>\n",
       "      <td>528218130</td>\n",
       "      <td>60</td>\n",
       "      <td>RL</td>\n",
       "      <td>58.0</td>\n",
       "      <td>17104</td>\n",
       "      <td>Pave</td>\n",
       "      <td>NaN</td>\n",
       "      <td>3</td>\n",
       "      <td>Lvl</td>\n",
       "      <td>...</td>\n",
       "      <td>0</td>\n",
       "      <td>0</td>\n",
       "      <td>0</td>\n",
       "      <td>0</td>\n",
       "      <td>0</td>\n",
       "      <td>NaN</td>\n",
       "      <td>0</td>\n",
       "      <td>9</td>\n",
       "      <td>2006</td>\n",
       "      <td>New</td>\n",
       "    </tr>\n",
       "    <tr>\n",
       "      <th>3</th>\n",
       "      <td>1989</td>\n",
       "      <td>902207150</td>\n",
       "      <td>30</td>\n",
       "      <td>RM</td>\n",
       "      <td>60.0</td>\n",
       "      <td>8520</td>\n",
       "      <td>Pave</td>\n",
       "      <td>NaN</td>\n",
       "      <td>4</td>\n",
       "      <td>Lvl</td>\n",
       "      <td>...</td>\n",
       "      <td>0</td>\n",
       "      <td>0</td>\n",
       "      <td>0</td>\n",
       "      <td>0</td>\n",
       "      <td>0</td>\n",
       "      <td>NaN</td>\n",
       "      <td>0</td>\n",
       "      <td>7</td>\n",
       "      <td>2007</td>\n",
       "      <td>WD</td>\n",
       "    </tr>\n",
       "    <tr>\n",
       "      <th>4</th>\n",
       "      <td>625</td>\n",
       "      <td>535105100</td>\n",
       "      <td>20</td>\n",
       "      <td>RL</td>\n",
       "      <td>NaN</td>\n",
       "      <td>9500</td>\n",
       "      <td>Pave</td>\n",
       "      <td>NaN</td>\n",
       "      <td>3</td>\n",
       "      <td>Lvl</td>\n",
       "      <td>...</td>\n",
       "      <td>0</td>\n",
       "      <td>185</td>\n",
       "      <td>0</td>\n",
       "      <td>0</td>\n",
       "      <td>0</td>\n",
       "      <td>NaN</td>\n",
       "      <td>0</td>\n",
       "      <td>7</td>\n",
       "      <td>2009</td>\n",
       "      <td>WD</td>\n",
       "    </tr>\n",
       "    <tr>\n",
       "      <th>...</th>\n",
       "      <td>...</td>\n",
       "      <td>...</td>\n",
       "      <td>...</td>\n",
       "      <td>...</td>\n",
       "      <td>...</td>\n",
       "      <td>...</td>\n",
       "      <td>...</td>\n",
       "      <td>...</td>\n",
       "      <td>...</td>\n",
       "      <td>...</td>\n",
       "      <td>...</td>\n",
       "      <td>...</td>\n",
       "      <td>...</td>\n",
       "      <td>...</td>\n",
       "      <td>...</td>\n",
       "      <td>...</td>\n",
       "      <td>...</td>\n",
       "      <td>...</td>\n",
       "      <td>...</td>\n",
       "      <td>...</td>\n",
       "      <td>...</td>\n",
       "    </tr>\n",
       "    <tr>\n",
       "      <th>873</th>\n",
       "      <td>1662</td>\n",
       "      <td>527377110</td>\n",
       "      <td>60</td>\n",
       "      <td>RL</td>\n",
       "      <td>80.0</td>\n",
       "      <td>8000</td>\n",
       "      <td>Pave</td>\n",
       "      <td>NaN</td>\n",
       "      <td>4</td>\n",
       "      <td>Lvl</td>\n",
       "      <td>...</td>\n",
       "      <td>0</td>\n",
       "      <td>0</td>\n",
       "      <td>0</td>\n",
       "      <td>0</td>\n",
       "      <td>0</td>\n",
       "      <td>NaN</td>\n",
       "      <td>0</td>\n",
       "      <td>11</td>\n",
       "      <td>2007</td>\n",
       "      <td>WD</td>\n",
       "    </tr>\n",
       "    <tr>\n",
       "      <th>874</th>\n",
       "      <td>1234</td>\n",
       "      <td>535126140</td>\n",
       "      <td>60</td>\n",
       "      <td>RL</td>\n",
       "      <td>90.0</td>\n",
       "      <td>14670</td>\n",
       "      <td>Pave</td>\n",
       "      <td>NaN</td>\n",
       "      <td>4</td>\n",
       "      <td>Lvl</td>\n",
       "      <td>...</td>\n",
       "      <td>0</td>\n",
       "      <td>0</td>\n",
       "      <td>0</td>\n",
       "      <td>0</td>\n",
       "      <td>3</td>\n",
       "      <td>NaN</td>\n",
       "      <td>0</td>\n",
       "      <td>8</td>\n",
       "      <td>2008</td>\n",
       "      <td>WD</td>\n",
       "    </tr>\n",
       "    <tr>\n",
       "      <th>875</th>\n",
       "      <td>1373</td>\n",
       "      <td>904100040</td>\n",
       "      <td>20</td>\n",
       "      <td>RL</td>\n",
       "      <td>55.0</td>\n",
       "      <td>8250</td>\n",
       "      <td>Pave</td>\n",
       "      <td>NaN</td>\n",
       "      <td>4</td>\n",
       "      <td>Lvl</td>\n",
       "      <td>...</td>\n",
       "      <td>0</td>\n",
       "      <td>0</td>\n",
       "      <td>0</td>\n",
       "      <td>0</td>\n",
       "      <td>0</td>\n",
       "      <td>NaN</td>\n",
       "      <td>0</td>\n",
       "      <td>8</td>\n",
       "      <td>2008</td>\n",
       "      <td>WD</td>\n",
       "    </tr>\n",
       "    <tr>\n",
       "      <th>876</th>\n",
       "      <td>1672</td>\n",
       "      <td>527425140</td>\n",
       "      <td>20</td>\n",
       "      <td>RL</td>\n",
       "      <td>60.0</td>\n",
       "      <td>9000</td>\n",
       "      <td>Pave</td>\n",
       "      <td>NaN</td>\n",
       "      <td>4</td>\n",
       "      <td>Lvl</td>\n",
       "      <td>...</td>\n",
       "      <td>0</td>\n",
       "      <td>0</td>\n",
       "      <td>0</td>\n",
       "      <td>0</td>\n",
       "      <td>2</td>\n",
       "      <td>NaN</td>\n",
       "      <td>0</td>\n",
       "      <td>5</td>\n",
       "      <td>2007</td>\n",
       "      <td>WD</td>\n",
       "    </tr>\n",
       "    <tr>\n",
       "      <th>877</th>\n",
       "      <td>1939</td>\n",
       "      <td>535327160</td>\n",
       "      <td>20</td>\n",
       "      <td>RL</td>\n",
       "      <td>70.0</td>\n",
       "      <td>8400</td>\n",
       "      <td>Pave</td>\n",
       "      <td>NaN</td>\n",
       "      <td>4</td>\n",
       "      <td>Lvl</td>\n",
       "      <td>...</td>\n",
       "      <td>0</td>\n",
       "      <td>0</td>\n",
       "      <td>0</td>\n",
       "      <td>0</td>\n",
       "      <td>2</td>\n",
       "      <td>NaN</td>\n",
       "      <td>0</td>\n",
       "      <td>3</td>\n",
       "      <td>2007</td>\n",
       "      <td>WD</td>\n",
       "    </tr>\n",
       "  </tbody>\n",
       "</table>\n",
       "<p>878 rows × 80 columns</p>\n",
       "</div>"
      ],
      "text/plain": [
       "       id        pid ms_subclass ms_zoning  lot_frontage  lot_area street  \\\n",
       "0    2658  902301120         190        RM          69.0      9142   Pave   \n",
       "1    2718  905108090          90        RL           NaN      9662   Pave   \n",
       "2    2414  528218130          60        RL          58.0     17104   Pave   \n",
       "3    1989  902207150          30        RM          60.0      8520   Pave   \n",
       "4     625  535105100          20        RL           NaN      9500   Pave   \n",
       "..    ...        ...         ...       ...           ...       ...    ...   \n",
       "873  1662  527377110          60        RL          80.0      8000   Pave   \n",
       "874  1234  535126140          60        RL          90.0     14670   Pave   \n",
       "875  1373  904100040          20        RL          55.0      8250   Pave   \n",
       "876  1672  527425140          20        RL          60.0      9000   Pave   \n",
       "877  1939  535327160          20        RL          70.0      8400   Pave   \n",
       "\n",
       "    alley  lot_shape land_contour  ...  3ssn_porch screen_porch  pool_area  \\\n",
       "0    Grvl          4          Lvl  ...           0            0          0   \n",
       "1     NaN          3          Lvl  ...           0            0          0   \n",
       "2     NaN          3          Lvl  ...           0            0          0   \n",
       "3     NaN          4          Lvl  ...           0            0          0   \n",
       "4     NaN          3          Lvl  ...           0          185          0   \n",
       "..    ...        ...          ...  ...         ...          ...        ...   \n",
       "873   NaN          4          Lvl  ...           0            0          0   \n",
       "874   NaN          4          Lvl  ...           0            0          0   \n",
       "875   NaN          4          Lvl  ...           0            0          0   \n",
       "876   NaN          4          Lvl  ...           0            0          0   \n",
       "877   NaN          4          Lvl  ...           0            0          0   \n",
       "\n",
       "    pool_qc fence misc_feature misc_val mo_sold  yr_sold  sale_type  \n",
       "0         0     0          NaN        0       4     2006        WD   \n",
       "1         0     0          NaN        0       8     2006        WD   \n",
       "2         0     0          NaN        0       9     2006        New  \n",
       "3         0     0          NaN        0       7     2007        WD   \n",
       "4         0     0          NaN        0       7     2009        WD   \n",
       "..      ...   ...          ...      ...     ...      ...        ...  \n",
       "873       0     0          NaN        0      11     2007        WD   \n",
       "874       0     3          NaN        0       8     2008        WD   \n",
       "875       0     0          NaN        0       8     2008        WD   \n",
       "876       0     2          NaN        0       5     2007        WD   \n",
       "877       0     2          NaN        0       3     2007        WD   \n",
       "\n",
       "[878 rows x 80 columns]"
      ]
     },
     "execution_count": 95,
     "metadata": {},
     "output_type": "execute_result"
    }
   ],
   "source": [
    "iowatest"
   ]
  },
  {
   "cell_type": "code",
   "execution_count": 96,
   "metadata": {},
   "outputs": [],
   "source": [
    "#BUCKET THE HOOD\n",
    "[iowatest['neighborhood'].replace(to_replace=col, value = 3, inplace=True) \n",
    " for col in iowatest['neighborhood'] if col in nicehood]\n",
    "\n",
    "[iowatest['neighborhood'].replace(to_replace=col, value = 2, inplace=True) \n",
    " for col in iowatest['neighborhood'] if col in okhood]\n",
    "\n",
    "[iowatest['neighborhood'].replace(to_replace=col, value = 1, inplace=True) \n",
    " for col in iowatest['neighborhood'] if col in badhood]\n",
    "\n",
    "# BUCKET THE EXTERIOR\n",
    "[iowatest['exterior_1st'].replace(to_replace=col, value = 3, inplace=True) \n",
    " for col in iowatest['exterior_1st'] if col in good_ext]\n",
    "\n",
    "[iowatest['exterior_1st'].replace(to_replace=col, value = 2, inplace=True) \n",
    " for col in iowatest['exterior_1st'] if col in ok_etr]\n",
    "\n",
    "[iowatest['exterior_1st'].replace(to_replace=col, value = 1, inplace=True) \n",
    " for col in iowatest['exterior_1st'] if col in bad_ext]\n",
    "\n",
    "#BUCKET THE SALE TYPE\n",
    "iowatest['sale_type'] = iowatest['sale_type'].map( \n",
    "    {'WD ' : 1, 'WD' : 1, 'New':3,'COD':1,'NA':2,'ConLD':2,\n",
    "     'CWD':2, 'ConLI':2,'ConLw':2,'Oth':2,'Con' :2, 'VWD':2 })\n"
   ]
  },
  {
   "cell_type": "code",
   "execution_count": 97,
   "metadata": {},
   "outputs": [
    {
     "data": {
      "text/plain": [
       "1    395\n",
       "3    299\n",
       "2    184\n",
       "Name: neighborhood, dtype: int64"
      ]
     },
     "execution_count": 97,
     "metadata": {},
     "output_type": "execute_result"
    }
   ],
   "source": [
    "# WE JUST MADE ANOTHER BUCKET! hoods\n",
    "iowatest['neighborhood'].value_counts()"
   ]
  },
  {
   "cell_type": "code",
   "execution_count": 98,
   "metadata": {},
   "outputs": [
    {
     "data": {
      "text/plain": [
       "1    416\n",
       "3    337\n",
       "2    125\n",
       "Name: exterior_1st, dtype: int64"
      ]
     },
     "execution_count": 98,
     "metadata": {},
     "output_type": "execute_result"
    }
   ],
   "source": [
    "# WE JUST MADE ANOTHER BUCKET! ext-1\n",
    "iowatest['exterior_1st'].value_counts()"
   ]
  },
  {
   "cell_type": "code",
   "execution_count": 100,
   "metadata": {},
   "outputs": [
    {
     "data": {
      "text/plain": [
       "1    779\n",
       "3     78\n",
       "2     21\n",
       "Name: sale_type, dtype: int64"
      ]
     },
     "execution_count": 100,
     "metadata": {},
     "output_type": "execute_result"
    }
   ],
   "source": [
    "# WE JUST MADE ANOTHER BUCKET! SALE TYPE\n",
    "iowatest['sale_type'].value_counts()"
   ]
  },
  {
   "cell_type": "markdown",
   "metadata": {},
   "source": [
    "    Now we dummify."
   ]
  },
  {
   "cell_type": "code",
   "execution_count": 102,
   "metadata": {},
   "outputs": [],
   "source": [
    "dummified_TEST = [pd.get_dummies(iowatest[i]) for i in iowatest.columns \n",
    "                    if i in pleasedummifyme ]\n",
    "dummified_TEST = pd.concat(dummified_TEST,axis = 1)"
   ]
  },
  {
   "cell_type": "markdown",
   "metadata": {},
   "source": [
    "    can't forget our new column total living area"
   ]
  },
  {
   "cell_type": "code",
   "execution_count": 104,
   "metadata": {},
   "outputs": [],
   "source": [
    "iowatest['tot_liv_area'] = iowatest['gr_liv_area'] + iowatest['total_bsmt_sf'] - iowatest['bsmt_unf_sf']"
   ]
  },
  {
   "cell_type": "markdown",
   "metadata": {},
   "source": [
    "     Now to get the columns we are interested in! "
   ]
  },
  {
   "cell_type": "code",
   "execution_count": 105,
   "metadata": {},
   "outputs": [
    {
     "data": {
      "text/plain": [
       "(878, 14)"
      ]
     },
     "execution_count": 105,
     "metadata": {},
     "output_type": "execute_result"
    }
   ],
   "source": [
    "iowatest_clean = iowatest[includedcolumns]\n",
    "iowatest_clean.shape"
   ]
  },
  {
   "cell_type": "code",
   "execution_count": 106,
   "metadata": {},
   "outputs": [
    {
     "data": {
      "text/plain": [
       "(878, 27)"
      ]
     },
     "execution_count": 106,
     "metadata": {},
     "output_type": "execute_result"
    }
   ],
   "source": [
    "dummified_TEST.shape"
   ]
  },
  {
   "cell_type": "code",
   "execution_count": 107,
   "metadata": {},
   "outputs": [],
   "source": [
    "iowatest_clean = pd.concat([iowatest_clean, dummified_TEST],\n",
    "                          axis=1, join='outer')"
   ]
  },
  {
   "cell_type": "code",
   "execution_count": 111,
   "metadata": {},
   "outputs": [
    {
     "data": {
      "text/plain": [
       "(878, 41)"
      ]
     },
     "execution_count": 111,
     "metadata": {},
     "output_type": "execute_result"
    }
   ],
   "source": [
    "iowatest_clean.shape"
   ]
  },
  {
   "cell_type": "code",
   "execution_count": 110,
   "metadata": {},
   "outputs": [
    {
     "data": {
      "text/plain": [
       "(2048, 41)"
      ]
     },
     "execution_count": 110,
     "metadata": {},
     "output_type": "execute_result"
    }
   ],
   "source": [
    "X.shape"
   ]
  },
  {
   "cell_type": "markdown",
   "metadata": {},
   "source": [
    "     HELL YEA OUR MATRICIES MATCH! I have a good feeling"
   ]
  },
  {
   "cell_type": "code",
   "execution_count": 112,
   "metadata": {},
   "outputs": [],
   "source": [
    "XX = iowatest_clean"
   ]
  },
  {
   "cell_type": "code",
   "execution_count": 113,
   "metadata": {},
   "outputs": [],
   "source": [
    "XX_poly = poly.transform(XX)"
   ]
  },
  {
   "cell_type": "code",
   "execution_count": 114,
   "metadata": {},
   "outputs": [],
   "source": [
    "ZZ_test = sc.transform(XX_poly)"
   ]
  },
  {
   "cell_type": "code",
   "execution_count": 115,
   "metadata": {},
   "outputs": [],
   "source": [
    "model.predict(ZZ_test);"
   ]
  },
  {
   "cell_type": "code",
   "execution_count": 116,
   "metadata": {},
   "outputs": [
    {
     "data": {
      "text/plain": [
       "False"
      ]
     },
     "execution_count": 116,
     "metadata": {},
     "output_type": "execute_result"
    }
   ],
   "source": [
    "np.any(np.isnan(XX))\n"
   ]
  },
  {
   "cell_type": "code",
   "execution_count": 117,
   "metadata": {},
   "outputs": [],
   "source": [
    "iowatest['saleprice'] = model.predict(ZZ_test)"
   ]
  },
  {
   "cell_type": "code",
   "execution_count": 118,
   "metadata": {},
   "outputs": [],
   "source": [
    "submission = iowatest[['id', 'saleprice']].copy()"
   ]
  },
  {
   "cell_type": "code",
   "execution_count": 119,
   "metadata": {},
   "outputs": [
    {
     "data": {
      "text/html": [
       "<div>\n",
       "<style scoped>\n",
       "    .dataframe tbody tr th:only-of-type {\n",
       "        vertical-align: middle;\n",
       "    }\n",
       "\n",
       "    .dataframe tbody tr th {\n",
       "        vertical-align: top;\n",
       "    }\n",
       "\n",
       "    .dataframe thead th {\n",
       "        text-align: right;\n",
       "    }\n",
       "</style>\n",
       "<table border=\"1\" class=\"dataframe\">\n",
       "  <thead>\n",
       "    <tr style=\"text-align: right;\">\n",
       "      <th></th>\n",
       "      <th>id</th>\n",
       "      <th>saleprice</th>\n",
       "    </tr>\n",
       "  </thead>\n",
       "  <tbody>\n",
       "    <tr>\n",
       "      <th>0</th>\n",
       "      <td>2658</td>\n",
       "      <td>143362.243889</td>\n",
       "    </tr>\n",
       "    <tr>\n",
       "      <th>1</th>\n",
       "      <td>2718</td>\n",
       "      <td>146780.738401</td>\n",
       "    </tr>\n",
       "    <tr>\n",
       "      <th>2</th>\n",
       "      <td>2414</td>\n",
       "      <td>206189.071828</td>\n",
       "    </tr>\n",
       "    <tr>\n",
       "      <th>3</th>\n",
       "      <td>1989</td>\n",
       "      <td>108074.049537</td>\n",
       "    </tr>\n",
       "    <tr>\n",
       "      <th>4</th>\n",
       "      <td>625</td>\n",
       "      <td>173647.834750</td>\n",
       "    </tr>\n",
       "    <tr>\n",
       "      <th>...</th>\n",
       "      <td>...</td>\n",
       "      <td>...</td>\n",
       "    </tr>\n",
       "    <tr>\n",
       "      <th>873</th>\n",
       "      <td>1662</td>\n",
       "      <td>200994.981163</td>\n",
       "    </tr>\n",
       "    <tr>\n",
       "      <th>874</th>\n",
       "      <td>1234</td>\n",
       "      <td>199849.213151</td>\n",
       "    </tr>\n",
       "    <tr>\n",
       "      <th>875</th>\n",
       "      <td>1373</td>\n",
       "      <td>136599.910523</td>\n",
       "    </tr>\n",
       "    <tr>\n",
       "      <th>876</th>\n",
       "      <td>1672</td>\n",
       "      <td>115901.030985</td>\n",
       "    </tr>\n",
       "    <tr>\n",
       "      <th>877</th>\n",
       "      <td>1939</td>\n",
       "      <td>129922.297301</td>\n",
       "    </tr>\n",
       "  </tbody>\n",
       "</table>\n",
       "<p>878 rows × 2 columns</p>\n",
       "</div>"
      ],
      "text/plain": [
       "       id      saleprice\n",
       "0    2658  143362.243889\n",
       "1    2718  146780.738401\n",
       "2    2414  206189.071828\n",
       "3    1989  108074.049537\n",
       "4     625  173647.834750\n",
       "..    ...            ...\n",
       "873  1662  200994.981163\n",
       "874  1234  199849.213151\n",
       "875  1373  136599.910523\n",
       "876  1672  115901.030985\n",
       "877  1939  129922.297301\n",
       "\n",
       "[878 rows x 2 columns]"
      ]
     },
     "execution_count": 119,
     "metadata": {},
     "output_type": "execute_result"
    }
   ],
   "source": [
    "submission"
   ]
  },
  {
   "cell_type": "code",
   "execution_count": 121,
   "metadata": {},
   "outputs": [],
   "source": [
    "submission.to_csv('./datasets/submission_00.csv', index=False)"
   ]
  },
  {
   "cell_type": "markdown",
   "metadata": {},
   "source": [
    "## Conclusions and Recommendations"
   ]
  },
  {
   "cell_type": "markdown",
   "metadata": {},
   "source": [
    "We can say with confidence that the overall quality, total living area , exterior quality, kitchen area and garage area have significant impacts on the price of the house. Going from 5 variables to 19 variables and using a more rubust model we only gained 4.3% accuracy. \n",
    "\n",
    "I would like to dig further into methods of fitting and tranforming the data. I'd like to see if we analyze more what columns can should be included and what models could increase the accuracy without overfitting the data. "
   ]
  },
  {
   "cell_type": "code",
   "execution_count": null,
   "metadata": {},
   "outputs": [],
   "source": []
  }
 ],
 "metadata": {
  "kernelspec": {
   "display_name": "Python 3",
   "language": "python",
   "name": "python3"
  },
  "language_info": {
   "codemirror_mode": {
    "name": "ipython",
    "version": 3
   },
   "file_extension": ".py",
   "mimetype": "text/x-python",
   "name": "python",
   "nbconvert_exporter": "python",
   "pygments_lexer": "ipython3",
   "version": "3.8.3"
  }
 },
 "nbformat": 4,
 "nbformat_minor": 4
}
