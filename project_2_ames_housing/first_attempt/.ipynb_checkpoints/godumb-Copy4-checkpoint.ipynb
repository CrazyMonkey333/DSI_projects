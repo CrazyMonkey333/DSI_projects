{
 "cells": [
  {
   "cell_type": "code",
   "execution_count": 1,
   "metadata": {},
   "outputs": [],
   "source": [
    "import pandas as pd \n",
    "import numpy as np \n",
    "import seaborn as sns\n",
    "import matplotlib.pyplot as plt\n",
    "from sklearn.model_selection import train_test_split, cross_val_score\n",
    "from sklearn.linear_model import LinearRegression, Ridge\n",
    "from sklearn.metrics import r2_score, mean_squared_error\n",
    "from sklearn.preprocessing import StandardScaler, PolynomialFeatures\n",
    "from sklearn.neighbors import KNeighborsClassifier"
   ]
  },
  {
   "cell_type": "code",
   "execution_count": 2,
   "metadata": {},
   "outputs": [],
   "source": [
    "iowatrain = pd.read_csv('./datasets/train.csv')"
   ]
  },
  {
   "cell_type": "code",
   "execution_count": 3,
   "metadata": {},
   "outputs": [],
   "source": [
    "iowatrain.head();"
   ]
  },
  {
   "cell_type": "code",
   "execution_count": 4,
   "metadata": {},
   "outputs": [],
   "source": [
    "iowatrain.isnull().sum();"
   ]
  },
  {
   "cell_type": "code",
   "execution_count": 5,
   "metadata": {},
   "outputs": [],
   "source": [
    "iowatrain.describe().T;"
   ]
  },
  {
   "cell_type": "code",
   "execution_count": 6,
   "metadata": {},
   "outputs": [
    {
     "name": "stdout",
     "output_type": "stream",
     "text": [
      "<class 'pandas.core.frame.DataFrame'>\n",
      "RangeIndex: 2051 entries, 0 to 2050\n",
      "Data columns (total 81 columns):\n",
      " #   Column           Non-Null Count  Dtype  \n",
      "---  ------           --------------  -----  \n",
      " 0   Id               2051 non-null   int64  \n",
      " 1   PID              2051 non-null   int64  \n",
      " 2   MS SubClass      2051 non-null   int64  \n",
      " 3   MS Zoning        2051 non-null   object \n",
      " 4   Lot Frontage     1721 non-null   float64\n",
      " 5   Lot Area         2051 non-null   int64  \n",
      " 6   Street           2051 non-null   object \n",
      " 7   Alley            140 non-null    object \n",
      " 8   Lot Shape        2051 non-null   object \n",
      " 9   Land Contour     2051 non-null   object \n",
      " 10  Utilities        2051 non-null   object \n",
      " 11  Lot Config       2051 non-null   object \n",
      " 12  Land Slope       2051 non-null   object \n",
      " 13  Neighborhood     2051 non-null   object \n",
      " 14  Condition 1      2051 non-null   object \n",
      " 15  Condition 2      2051 non-null   object \n",
      " 16  Bldg Type        2051 non-null   object \n",
      " 17  House Style      2051 non-null   object \n",
      " 18  Overall Qual     2051 non-null   int64  \n",
      " 19  Overall Cond     2051 non-null   int64  \n",
      " 20  Year Built       2051 non-null   int64  \n",
      " 21  Year Remod/Add   2051 non-null   int64  \n",
      " 22  Roof Style       2051 non-null   object \n",
      " 23  Roof Matl        2051 non-null   object \n",
      " 24  Exterior 1st     2051 non-null   object \n",
      " 25  Exterior 2nd     2051 non-null   object \n",
      " 26  Mas Vnr Type     2029 non-null   object \n",
      " 27  Mas Vnr Area     2029 non-null   float64\n",
      " 28  Exter Qual       2051 non-null   object \n",
      " 29  Exter Cond       2051 non-null   object \n",
      " 30  Foundation       2051 non-null   object \n",
      " 31  Bsmt Qual        1996 non-null   object \n",
      " 32  Bsmt Cond        1996 non-null   object \n",
      " 33  Bsmt Exposure    1993 non-null   object \n",
      " 34  BsmtFin Type 1   1996 non-null   object \n",
      " 35  BsmtFin SF 1     2050 non-null   float64\n",
      " 36  BsmtFin Type 2   1995 non-null   object \n",
      " 37  BsmtFin SF 2     2050 non-null   float64\n",
      " 38  Bsmt Unf SF      2050 non-null   float64\n",
      " 39  Total Bsmt SF    2050 non-null   float64\n",
      " 40  Heating          2051 non-null   object \n",
      " 41  Heating QC       2051 non-null   object \n",
      " 42  Central Air      2051 non-null   object \n",
      " 43  Electrical       2051 non-null   object \n",
      " 44  1st Flr SF       2051 non-null   int64  \n",
      " 45  2nd Flr SF       2051 non-null   int64  \n",
      " 46  Low Qual Fin SF  2051 non-null   int64  \n",
      " 47  Gr Liv Area      2051 non-null   int64  \n",
      " 48  Bsmt Full Bath   2049 non-null   float64\n",
      " 49  Bsmt Half Bath   2049 non-null   float64\n",
      " 50  Full Bath        2051 non-null   int64  \n",
      " 51  Half Bath        2051 non-null   int64  \n",
      " 52  Bedroom AbvGr    2051 non-null   int64  \n",
      " 53  Kitchen AbvGr    2051 non-null   int64  \n",
      " 54  Kitchen Qual     2051 non-null   object \n",
      " 55  TotRms AbvGrd    2051 non-null   int64  \n",
      " 56  Functional       2051 non-null   object \n",
      " 57  Fireplaces       2051 non-null   int64  \n",
      " 58  Fireplace Qu     1051 non-null   object \n",
      " 59  Garage Type      1938 non-null   object \n",
      " 60  Garage Yr Blt    1937 non-null   float64\n",
      " 61  Garage Finish    1937 non-null   object \n",
      " 62  Garage Cars      2050 non-null   float64\n",
      " 63  Garage Area      2050 non-null   float64\n",
      " 64  Garage Qual      1937 non-null   object \n",
      " 65  Garage Cond      1937 non-null   object \n",
      " 66  Paved Drive      2051 non-null   object \n",
      " 67  Wood Deck SF     2051 non-null   int64  \n",
      " 68  Open Porch SF    2051 non-null   int64  \n",
      " 69  Enclosed Porch   2051 non-null   int64  \n",
      " 70  3Ssn Porch       2051 non-null   int64  \n",
      " 71  Screen Porch     2051 non-null   int64  \n",
      " 72  Pool Area        2051 non-null   int64  \n",
      " 73  Pool QC          9 non-null      object \n",
      " 74  Fence            400 non-null    object \n",
      " 75  Misc Feature     65 non-null     object \n",
      " 76  Misc Val         2051 non-null   int64  \n",
      " 77  Mo Sold          2051 non-null   int64  \n",
      " 78  Yr Sold          2051 non-null   int64  \n",
      " 79  Sale Type        2051 non-null   object \n",
      " 80  SalePrice        2051 non-null   int64  \n",
      "dtypes: float64(11), int64(28), object(42)\n",
      "memory usage: 1.3+ MB\n"
     ]
    }
   ],
   "source": [
    "iowatrain.info()"
   ]
  },
  {
   "cell_type": "code",
   "execution_count": 7,
   "metadata": {},
   "outputs": [],
   "source": [
    "iowatrain.drop('Id', axis = 1, inplace=True) #Don't need this. "
   ]
  },
  {
   "cell_type": "code",
   "execution_count": 8,
   "metadata": {},
   "outputs": [
    {
     "data": {
      "image/png": "[encoded data removed]",
      "text/plain": [
       "<Figure size 720x720 with 2 Axes>"
      ]
     },
     "metadata": {
      "needs_background": "light"
     },
     "output_type": "display_data"
    }
   ],
   "source": [
    "fig, ax = plt.subplots(figsize=(10,10))  # Sample figsize in inches\n",
    "\n",
    "sns.heatmap(iowatrain.corr()[['SalePrice']].sort_values(\n",
    "                                                        by='SalePrice', \n",
    "                                                        ascending=False),\n",
    "            annot=True, vmin=-1, vmax=1,\n",
    "           cmap='coolwarm', ax=ax);\n",
    "\n",
    "# https://stackoverflow.com/questions/38913965/make-the-size-of-a-heatmap-bigger-with-seaborn\n",
    "# This is a link that showed me how to get my heatmap bigger!\n",
    "\n",
    "# Important to note that the heat map only shows corrrelations \n",
    "# with numerical columns. \n",
    "\n",
    "# I\"MA HAVE TO GET DUMB!! I also need to make sure to remove outliners from ones I want"
   ]
  },
  {
   "cell_type": "code",
   "execution_count": 9,
   "metadata": {},
   "outputs": [],
   "source": [
    "iowatrain[\"Bsmt Cond\"].fillna('NA', inplace=True)\n",
    "iowatrain['Bsmt Qual'].fillna('NA', inplace=True)\n",
    "iowatrain['Bsmt Exposure'].fillna('NA', inplace=True)\n",
    "iowatrain['BsmtFin Type 1'].fillna('NA', inplace=True)\n",
    "iowatrain['BsmtFin Type 2'].fillna('NA', inplace=True)\n",
    "\n",
    "iowatrain['Fireplace Qu'].fillna('NA', inplace=True)\n",
    "iowatrain['Garage Finish'].fillna('NA', inplace=True)\n",
    "iowatrain['Garage Qual'].fillna('NA', inplace=True)\n",
    "iowatrain['Garage Cond'].fillna('NA', inplace=True)\n",
    "iowatrain['Pool QC'].fillna('NA', inplace=True)\n",
    "iowatrain['Fence'].fillna('NA', inplace=True)"
   ]
  },
  {
   "cell_type": "code",
   "execution_count": 10,
   "metadata": {},
   "outputs": [],
   "source": [
    "# This is a reeeeeeeeeeeeallllly big data set. Let's rethink this.\n",
    "# How about we take all the ordinal variables and make them ranked! \n",
    "ordinalcols = [ 'Lot Shape', 'Utilities' , 'Land Slope', 'Exter Qual',\n",
    "               'Exter Cond', 'Bsmt Qual', 'Bsmt Cond', 'Bsmt Exposure', \n",
    "               'BsmtFin Type 1', 'BsmtFin Type 2' , 'Heating QC',\n",
    "               'Electrical', 'Kitchen Qual' , \"Functional\", \n",
    "               'Fireplace Qu', 'Garage Finish','Garage Qual', \n",
    "               'Garage Cond', 'Paved Drive', 'Pool QC', 'Fence' ]\n",
    "# ordinal_df = iowatrain[ordinalcols]\n",
    "\n",
    "# ordinal_df.columns = [x.lower() for x in ordinal_df.columns]\n",
    "# ordinal_df.columns = [x.strip().replace(' ', '_') for x in ordinal_df.columns]\n",
    "iowatrain.columns = [x.lower() for x in iowatrain.columns]\n",
    "iowatrain.columns = [x.strip().replace(' ', '_') for x in iowatrain.columns]\n",
    "ordinalcols = [x.lower() for x in ordinalcols]\n",
    "ordinalcols = [x.strip().replace(' ', '_') for x in ordinalcols]"
   ]
  },
  {
   "cell_type": "code",
   "execution_count": 11,
   "metadata": {},
   "outputs": [],
   "source": [
    "# # I'm organizing these from good to bad, as best as I know. I'm not a realitor but hey -_O_-\n",
    "# replist01 = ['Reg', 'IR1', 'IR2', 'IR3'] #LotShape\n",
    "# replist02 = ['AllPub', 'NoSeWa', 'NoSewr'] #Utilities\n",
    "# replist03 = ['Gtl',  'Mod', 'Sev'] #LandSlope\n",
    "# replist04 = ['NA', 'Ex','Gd', 'TA', 'Fa', 'Po'] #ExtQual, ExtrCond, BsmtQual, BsmtCond,,HeatingQC, KitchenQual:\n",
    "#                                                #FireplaceQu, GarageQual, GarageCond, PoolQC,  \n",
    "# replist05 = ['Gd', 'Av', 'Mn', 'No', 'NA'] #Bsmt Exposure\n",
    "# replist06 = ['NA', 'GLQ', 'ALQ', 'BLQ', 'Rec', 'LwQ', 'Unf'] #BsmtFinType1&2, \n",
    "# replist07 = ['SBrkr', 'FuseA', 'FuseF', 'FuseP', 'Mix'] #Electrical\n",
    "# replist08 = ['Typ', 'Min1', 'Min2', 'Mod', 'Maj1', 'Maj2', 'Sev', 'Sal'] #Functional(Home), \n",
    "# replist09 = ['NA', 'Fin', 'RFn', 'Unf'] # GarageFinish, \n",
    "# replist10 = ['Y', 'P', 'N'] #Paved Drive\n",
    "# replist11 = ['NA', 'GdPrv', 'MnPrv', 'GdWo', 'MnWw'] #Fence"
   ]
  },
  {
   "cell_type": "code",
   "execution_count": 12,
   "metadata": {},
   "outputs": [],
   "source": [
    "iowatrain.replace({\n",
    "            'lot_shape': {'Reg':4 , 'IR1':3 , 'IR2':2 , 'IR3':1 },\n",
    "            'utilities': {'AllPub':3, 'NoSeWa':2, 'NoSewr':1 },\n",
    "            'land_slope': {'Gtl':3,  'Mod':2, 'Sev':1},\n",
    "            'exter_qual': {'NA':0, 'Ex':5,'Gd':4, 'TA':3, 'Fa':2, 'Po':1},\n",
    "            'exter_cond': {'NA':0, 'Ex':5,'Gd':4, 'TA':3, 'Fa':2, 'Po':1},\n",
    "            'bsmt_qual':  {'NA':0, 'Ex':5,'Gd':4, 'TA':3, 'Fa':2, 'Po':1},\n",
    "            'bsmt_cond':  {'NA':0, 'Ex':5,'Gd':4, 'TA':3, 'Fa':2, 'Po':1},\n",
    "            'bsmt_exposure': {'NA': 0, 'Gd':4 , 'Av':3, 'Mn':2, 'No':1},\n",
    "            'bsmtfin_type_1': {'NA':0, 'GLQ':6, 'ALQ':5, 'BLQ':4,\n",
    "                                      'Rec':3, 'LwQ':2, 'Unf':1},\n",
    "            'bsmtfin_type_2': {'NA':0, 'GLQ':6, 'ALQ':5, 'BLQ':4,\n",
    "                                      'Rec':3, 'LwQ':2, 'Unf':1},\n",
    "            'heating_qc': {'NA':0, 'Ex':5,'Gd':4, 'TA':3, 'Fa':2, 'Po':1},\n",
    "            'electrical': {'SBrkr':5, 'FuseA':4, 'FuseF':3, 'FuseP':2, 'Mix':1},\n",
    "            'kitchen_qual':  {'NA':0, 'Ex':5,'Gd':4, 'TA':3, 'Fa':2, 'Po':1},\n",
    "            'functional':{'Typ':8, 'Min1':7, 'Min2':6, 'Mod':5, \n",
    "                                   'Maj1':4, 'Maj2':3, 'Sev':2, 'Sal':1 },\n",
    "            'fireplace_qu': {'NA':0, 'Ex':5,'Gd':4, 'TA':3, 'Fa':2, 'Po':1},\n",
    "            'garage_finish': {'NA':0, 'Fin':3, 'RFn':2, 'Unf':1},\n",
    "            'garage_qual':   {'NA':0, 'Ex':5,'Gd':4, 'TA':3, 'Fa':2, 'Po':1},\n",
    "            'garage_cond':    {'NA':0, 'Ex':5,'Gd':4, 'TA':3, 'Fa':2, 'Po':1},\n",
    "            'paved_drive':   {'Y':3, 'P':2, 'N':1},\n",
    "            'pool_qc':   {'NA':0, 'Ex':5,'Gd':4, 'TA':3, 'Fa':2, 'Po':1},\n",
    "            'fence':  {'NA':0, 'GdPrv':4, 'MnPrv':3, 'GdWo':2, 'MnWw':1}\n",
    "            }, inplace=True)\n",
    "#Okay The ordinal Values are now fixed and numbered!!!"
   ]
  },
  {
   "cell_type": "code",
   "execution_count": 13,
   "metadata": {},
   "outputs": [],
   "source": [
    "iowatrain['alley'].fillna('NA', inplace=True)\n",
    "iowatrain['mas_vnr_type'].fillna('NA', inplace=True)\n",
    "iowatrain['garage_type'].fillna('NA', inplace=True)\n",
    "iowatrain['misc_feature'].fillna('NA', inplace=True)\n",
    "\n",
    "# HERE THERE IS ONLY ONE NULL VALUE FOR THESE, SO I'M USING THE MEAN SO NOT TO SQEW\n",
    "# THE DATA.\n",
    "iowatrain['garage_yr_blt'].fillna(iowatrain['garage_yr_blt'].mean(), inplace=True)\n",
    "iowatrain['bsmtfin_sf_1'].fillna(iowatrain['bsmtfin_sf_1'].mean(), inplace=True)\n",
    "iowatrain['bsmtfin_sf_2'].fillna(iowatrain['bsmtfin_sf_2'].mean(), inplace=True)\n",
    "iowatrain['mas_vnr_area'].fillna(iowatrain['mas_vnr_area'].mean(), inplace=True)\n",
    "iowatrain['bsmt_unf_sf'].fillna(iowatrain['bsmt_unf_sf'].mean(), inplace=True)\n",
    "iowatrain['total_bsmt_sf'].fillna(iowatrain['total_bsmt_sf'].mean(), inplace=True)\n",
    "iowatrain['bsmt_full_bath'].fillna(iowatrain['bsmt_full_bath'].mean(), inplace=True)\n",
    "iowatrain['bsmt_half_bath'].fillna(iowatrain['bsmt_half_bath'].mean(), inplace=True)\n",
    "iowatrain['garage_cars'].fillna(iowatrain['garage_cars'].mean(), inplace=True)\n",
    "iowatrain['garage_area'].fillna(iowatrain['garage_area'].mean(), inplace=True)\n",
    "# I don't know why there are no 0 values for lot_frontage, so I'm going to \n",
    "# assume that they have no lottage by a street. \n",
    "iowatrain['lot_frontage'].fillna(0, inplace= True)"
   ]
  },
  {
   "cell_type": "code",
   "execution_count": 14,
   "metadata": {},
   "outputs": [],
   "source": [
    "numericalcols = [col for col in iowatrain.columns if iowatrain[col].dtype != 'O']\n",
    "#These are all the columsn that have numerical values. Now includind the\n",
    "# Ordinal and Continuous and Discrete numerically."
   ]
  },
  {
   "cell_type": "code",
   "execution_count": 15,
   "metadata": {},
   "outputs": [
    {
     "name": "stdout",
     "output_type": "stream",
     "text": [
      "<class 'pandas.core.frame.DataFrame'>\n",
      "RangeIndex: 2051 entries, 0 to 2050\n",
      "Data columns (total 59 columns):\n",
      " #   Column           Non-Null Count  Dtype  \n",
      "---  ------           --------------  -----  \n",
      " 0   pid              2051 non-null   int64  \n",
      " 1   ms_subclass      2051 non-null   int64  \n",
      " 2   lot_frontage     2051 non-null   float64\n",
      " 3   lot_area         2051 non-null   int64  \n",
      " 4   lot_shape        2051 non-null   int64  \n",
      " 5   utilities        2051 non-null   int64  \n",
      " 6   land_slope       2051 non-null   int64  \n",
      " 7   overall_qual     2051 non-null   int64  \n",
      " 8   overall_cond     2051 non-null   int64  \n",
      " 9   year_built       2051 non-null   int64  \n",
      " 10  year_remod/add   2051 non-null   int64  \n",
      " 11  mas_vnr_area     2051 non-null   float64\n",
      " 12  exter_qual       2051 non-null   int64  \n",
      " 13  exter_cond       2051 non-null   int64  \n",
      " 14  bsmt_qual        2051 non-null   int64  \n",
      " 15  bsmt_cond        2051 non-null   int64  \n",
      " 16  bsmt_exposure    2051 non-null   int64  \n",
      " 17  bsmtfin_type_1   2051 non-null   int64  \n",
      " 18  bsmtfin_sf_1     2051 non-null   float64\n",
      " 19  bsmtfin_type_2   2051 non-null   int64  \n",
      " 20  bsmtfin_sf_2     2051 non-null   float64\n",
      " 21  bsmt_unf_sf      2051 non-null   float64\n",
      " 22  total_bsmt_sf    2051 non-null   float64\n",
      " 23  heating_qc       2051 non-null   int64  \n",
      " 24  electrical       2051 non-null   int64  \n",
      " 25  1st_flr_sf       2051 non-null   int64  \n",
      " 26  2nd_flr_sf       2051 non-null   int64  \n",
      " 27  low_qual_fin_sf  2051 non-null   int64  \n",
      " 28  gr_liv_area      2051 non-null   int64  \n",
      " 29  bsmt_full_bath   2051 non-null   float64\n",
      " 30  bsmt_half_bath   2051 non-null   float64\n",
      " 31  full_bath        2051 non-null   int64  \n",
      " 32  half_bath        2051 non-null   int64  \n",
      " 33  bedroom_abvgr    2051 non-null   int64  \n",
      " 34  kitchen_abvgr    2051 non-null   int64  \n",
      " 35  kitchen_qual     2051 non-null   int64  \n",
      " 36  totrms_abvgrd    2051 non-null   int64  \n",
      " 37  functional       2051 non-null   int64  \n",
      " 38  fireplaces       2051 non-null   int64  \n",
      " 39  fireplace_qu     2051 non-null   int64  \n",
      " 40  garage_yr_blt    2051 non-null   float64\n",
      " 41  garage_finish    2051 non-null   int64  \n",
      " 42  garage_cars      2051 non-null   float64\n",
      " 43  garage_area      2051 non-null   float64\n",
      " 44  garage_qual      2051 non-null   int64  \n",
      " 45  garage_cond      2051 non-null   int64  \n",
      " 46  paved_drive      2051 non-null   int64  \n",
      " 47  wood_deck_sf     2051 non-null   int64  \n",
      " 48  open_porch_sf    2051 non-null   int64  \n",
      " 49  enclosed_porch   2051 non-null   int64  \n",
      " 50  3ssn_porch       2051 non-null   int64  \n",
      " 51  screen_porch     2051 non-null   int64  \n",
      " 52  pool_area        2051 non-null   int64  \n",
      " 53  pool_qc          2051 non-null   int64  \n",
      " 54  fence            2051 non-null   int64  \n",
      " 55  misc_val         2051 non-null   int64  \n",
      " 56  mo_sold          2051 non-null   int64  \n",
      " 57  yr_sold          2051 non-null   int64  \n",
      " 58  saleprice        2051 non-null   int64  \n",
      "dtypes: float64(11), int64(48)\n",
      "memory usage: 945.5 KB\n"
     ]
    }
   ],
   "source": [
    "iowatrain[numericalcols].info()"
   ]
  },
  {
   "cell_type": "code",
   "execution_count": 16,
   "metadata": {},
   "outputs": [],
   "source": [
    "iowatrain.columns;"
   ]
  },
  {
   "cell_type": "code",
   "execution_count": 17,
   "metadata": {},
   "outputs": [
    {
     "data": {
      "image/png": "[encoded data removed]",
      "text/plain": [
       "<Figure size 720x1080 with 2 Axes>"
      ]
     },
     "metadata": {
      "needs_background": "light"
     },
     "output_type": "display_data"
    }
   ],
   "source": [
    "fig, ax = plt.subplots(figsize=(10,15))\n",
    "\n",
    "sns.heatmap(iowatrain.corr()[['saleprice']].sort_values(by='saleprice', ascending=False),\n",
    "            annot=True, vmin=-1, vmax=1,\n",
    "           cmap='coolwarm', ax=ax);"
   ]
  },
  {
   "cell_type": "code",
   "execution_count": 18,
   "metadata": {},
   "outputs": [],
   "source": [
    "iowatrain['ms_subclass'] = iowatrain['ms_subclass'].astype(str)"
   ]
  },
  {
   "cell_type": "code",
   "execution_count": 48,
   "metadata": {},
   "outputs": [],
   "source": [
    "# # Now I should go through and change the Nominal Values to be Dummy and   \n",
    "# # make sure the Nominal values are not numerical unless dummied. \n",
    "# nominal = [ 'ms_subclass', 'ms_zoning', 'street', 'alley', 'land_contour', 'lot_config', \n",
    "#            'neighborhood', 'condition_1', 'condition_2', 'bldg_type', 'house_style',\n",
    "#            'roof_style', 'roof_matl', 'exterior_1st', 'exterior_2nd', 'mas_vnr_type',\n",
    "#            'foundation', 'heating', 'central_air', 'garage_type', 'misc_feature', 'sale_type' ]\n"
   ]
  },
  {
   "cell_type": "code",
   "execution_count": 49,
   "metadata": {},
   "outputs": [],
   "source": [
    "# iowatrain_dummy = pd.get_dummies(iowatrain[nominal], drop_first=True)"
   ]
  },
  {
   "cell_type": "code",
   "execution_count": 50,
   "metadata": {},
   "outputs": [],
   "source": [
    "# for col in iowatrain_dummy.columns:\n",
    "#     if iowatrain_dummy[col].isnull().sum() >0:\n",
    "#         print(col) \n",
    "# # no nulls. \n",
    "# iowatrain_dummy.head()"
   ]
  },
  {
   "cell_type": "code",
   "execution_count": 51,
   "metadata": {},
   "outputs": [],
   "source": [
    "# numerical_iowa = iowatrain.drop(nominal, axis = 1) # Getting only the numerical values!                                           "
   ]
  },
  {
   "cell_type": "code",
   "execution_count": 52,
   "metadata": {},
   "outputs": [],
   "source": [
    "# Here I am poly fit transforming, to see if some of these have dependencies on each other. \n",
    "# poly = PolynomialFeatures(degree=2, interaction_only=False, include_bias=False )\n",
    "# numiowa_train_overfit = poly.fit_transform(numerical_iowatrain)\n",
    "# polyfit_num_train = pd.DataFrame(numiowa_train_overfit)\n",
    "# polyfit_num_train.shape"
   ]
  },
  {
   "cell_type": "code",
   "execution_count": 53,
   "metadata": {},
   "outputs": [],
   "source": [
    "# iowatrain_clean = pd.concat([numerical_iowa , iowatrain_dummy], axis=1)"
   ]
  },
  {
   "cell_type": "code",
   "execution_count": 54,
   "metadata": {},
   "outputs": [],
   "source": [
    "# iowatrain_clean.to_csv('./datasets/iowatrain_clean3.csv')"
   ]
  },
  {
   "cell_type": "markdown",
   "metadata": {},
   "source": [
    "OK LETS RE-EVALUATE. WE ONLY NEED SOME DUMMIES. BUT WITCH ONES??"
   ]
  },
  {
   "cell_type": "code",
   "execution_count": 55,
   "metadata": {},
   "outputs": [],
   "source": [
    "# for col in iowatrain_clean.columns:\n",
    "#     if iowatrain_clean[col].isnull().sum() >0:\n",
    "#         print(col) "
   ]
  },
  {
   "cell_type": "code",
   "execution_count": 56,
   "metadata": {},
   "outputs": [],
   "source": [
    "# plt.scatter(x = iowatrain_clean['gr_liv_area'], y= iowatrain_clean['saleprice'])\n",
    "#got to go and drop the outliners! gUNNA SORT OUT THE NUMERICALS AFTER i CLEAN THE DUMMYS. "
   ]
  },
  {
   "cell_type": "code",
   "execution_count": 34,
   "metadata": {},
   "outputs": [
    {
     "data": {
      "text/plain": [
       "<matplotlib.axes._subplots.AxesSubplot at 0x2c445960700>"
      ]
     },
     "execution_count": 34,
     "metadata": {},
     "output_type": "execute_result"
    },
    {
     "data": {
      "image/png": "[encoded data removed]",
      "text/plain": [
       "<Figure size 432x288 with 2 Axes>"
      ]
     },
     "metadata": {
      "needs_background": "light"
     },
     "output_type": "display_data"
    }
   ],
   "source": [
    "dumheat = pd.get_dummies(iowatrain['neighborhood']) #BUCKET THE HOOD\n",
    "dumheat['saleprice'] = iowatrain['saleprice']\n",
    "\n",
    "sns.heatmap(dumheat.corr()[['saleprice']].sort_values(by='saleprice', ascending=False),\n",
    "           annot = True, cmap='coolwarm')\n",
    "\n",
    "# sns.heatmap(iowatrain.corr()[['saleprice']].sort_values(by='saleprice', ascending=False),\n",
    "#             annot=True, vmin=-1, vmax=1,\n",
    "#            cmap='coolwarm', ax=ax);"
   ]
  },
  {
   "cell_type": "code",
   "execution_count": 28,
   "metadata": {},
   "outputs": [],
   "source": [
    "dumheat.corr()[['saleprice']].sort_values(by='saleprice', ascending=False);\n",
    "#NEIGHBORHOOD"
   ]
  },
  {
   "cell_type": "code",
   "execution_count": 21,
   "metadata": {},
   "outputs": [],
   "source": [
    "nicehood = ('NridgHt','NoRidge','StoneBr','Somerst',\n",
    "    'Timber','Veenker','CollgCr','Crawfor','ClearCr')\n",
    "okhood = ('Crawfor','ClearCr','GrnHill','NWAmes',\n",
    "          'Blmngtn','Gilbert','SawyerW','Greens',\n",
    "          'Landmrk','Blueste','Mitchel','NPkVill')\t\n",
    "badhood = ('SWISU','BrDale','MeadowV','Sawyer','BrkSide',\n",
    "           'Edwards','IDOTRR','NAmes','OldTown')"
   ]
  },
  {
   "cell_type": "code",
   "execution_count": 22,
   "metadata": {},
   "outputs": [
    {
     "name": "stdout",
     "output_type": "stream",
     "text": [
      "0.16798675372099847 0.0022341839293463775 -0.14585244112872248\n"
     ]
    }
   ],
   "source": [
    "nicehood_cor =[]\n",
    "okhood_cor = []\n",
    "badhood_cor = []\n",
    "for col in dumheat.columns:\n",
    "    if col != 'saleprice':\n",
    "        if dumheat[col].corr(dumheat['saleprice']) > 0.05:\n",
    "            nicehood_cor.append(dumheat[col].corr(dumheat['saleprice']))\n",
    "        elif dumheat[col].corr(dumheat['saleprice']) < -0.05:\n",
    "            badhood_cor.append(dumheat[col].corr(dumheat['saleprice']))\n",
    "        else:\n",
    "            okhood_cor.append(dumheat[col].corr(dumheat['saleprice']))\n",
    "\n",
    "print(\n",
    "    np.mean(nicehood_cor),\n",
    "    np.mean(okhood_cor),\n",
    "    np.mean(badhood_cor))\n"
   ]
  },
  {
   "cell_type": "code",
   "execution_count": 25,
   "metadata": {},
   "outputs": [
    {
     "data": {
      "text/plain": [
       "0       1\n",
       "1       2\n",
       "2       1\n",
       "3       3\n",
       "4       2\n",
       "       ..\n",
       "2046    3\n",
       "2047    1\n",
       "2048    3\n",
       "2049    1\n",
       "2050    2\n",
       "Name: neighborhood, Length: 2051, dtype: int64"
      ]
     },
     "execution_count": 25,
     "metadata": {},
     "output_type": "execute_result"
    }
   ],
   "source": [
    "[iowatrain['neighborhood'].replace(to_replace=col, value = 3, inplace=True) \n",
    " for col in iowatrain['neighborhood'] if col in nicehood]\n",
    "\n",
    "[iowatrain['neighborhood'].replace(to_replace=col, value = 2, inplace=True) \n",
    " for col in iowatrain['neighborhood'] if col in okhood]\n",
    "\n",
    "[iowatrain['neighborhood'].replace(to_replace=col, value = 1, inplace=True) \n",
    " for col in iowatrain['neighborhood'] if col in badhood]\n",
    "iowatrain['neighborhood']\n",
    "\n",
    "### I just made this a bucketed list (more organized than dummies)"
   ]
  },
  {
   "cell_type": "code",
   "execution_count": 26,
   "metadata": {},
   "outputs": [],
   "source": [
    "# # Now I should go through and change the Nominal Values to be Dummy and   \n",
    "# # make sure the Nominal values are not numerical unless dummied. \n",
    "# nominal = [ 'ms_subclass', 'ms_zoning', 'street', 'alley', 'land_contour', 'lot_config', \n",
    "#            'neighborhood', 'condition_1', 'condition_2', 'bldg_type', 'house_style',\n",
    "#            'roof_style', 'roof_matl', 'exterior_1st', 'exterior_2nd', 'mas_vnr_type',\n",
    "#            'foundation', 'heating', 'central_air', 'garage_type', 'misc_feature', 'sale_type' ]\n"
   ]
  },
  {
   "cell_type": "code",
   "execution_count": 35,
   "metadata": {},
   "outputs": [
    {
     "data": {
      "image/png": "[encoded data removed]",
      "text/plain": [
       "<Figure size 432x288 with 2 Axes>"
      ]
     },
     "metadata": {
      "needs_background": "light"
     },
     "output_type": "display_data"
    }
   ],
   "source": [
    "dumheat = pd.get_dummies(iowatrain['exterior_1st']) #BUcket the Exterior_1\n",
    "dumheat['saleprice'] = iowatrain['saleprice']\n",
    "\n",
    "sns.heatmap(dumheat.corr()[['saleprice']].sort_values(by='saleprice', ascending=False),\n",
    "           annot = True, cmap='coolwarm');\n",
    "\n",
    "# sns.heatmap(iowatrain.corr()[['saleprice']].sort_values(by='saleprice', ascending=False),\n",
    "#             annot=True, vmin=-1, vmax=1,\n",
    "#            cmap='coolwarm', ax=ax);"
   ]
  },
  {
   "cell_type": "code",
   "execution_count": 36,
   "metadata": {},
   "outputs": [],
   "source": [
    "dumheat.corr()[['saleprice']].sort_values(by='saleprice', ascending=False);\n",
    "#SALE_TYPE"
   ]
  },
  {
   "cell_type": "code",
   "execution_count": 37,
   "metadata": {},
   "outputs": [],
   "source": [
    "good_ext = ('VinylSd','CemntBd')\n",
    "ok_etr = ('Stone', 'BrkFace','ImStucc','BrkComm',\n",
    "          'AsphShn','CBlock','Plywood','WdShing','Stucco')\n",
    "bad_ext = ('HdBoard', 'AsbShng', 'MetalSd','Wd Sdng')\n"
   ]
  },
  {
   "cell_type": "code",
   "execution_count": 38,
   "metadata": {},
   "outputs": [],
   "source": [
    "[iowatrain['exterior_1st'].replace(to_replace=col, value = 3, inplace=True) \n",
    " for col in iowatrain['exterior_1st'] if col in good_ext]\n",
    "\n",
    "[iowatrain['exterior_1st'].replace(to_replace=col, value = 2, inplace=True) \n",
    " for col in iowatrain['exterior_1st'] if col in ok_etr]\n",
    "\n",
    "[iowatrain['exterior_1st'].replace(to_replace=col, value = 1, inplace=True) \n",
    " for col in iowatrain['exterior_1st'] if col in bad_ext]\n",
    "# WE JUST MADE ANOTHER BUCKET! \n",
    "iowatrain['exterior_1st'];"
   ]
  },
  {
   "cell_type": "code",
   "execution_count": 39,
   "metadata": {},
   "outputs": [],
   "source": [
    "dumheat = pd.get_dummies(iowatrain['sale_type']) # Bucket the sale Type\n",
    "dumheat['saleprice'] = iowatrain['saleprice']\n",
    "\n",
    "dumheat.corr()[['saleprice']].sort_values(by='saleprice', ascending=False);"
   ]
  },
  {
   "cell_type": "code",
   "execution_count": 40,
   "metadata": {},
   "outputs": [],
   "source": [
    "iowatrain['sale_type'].value_counts();"
   ]
  },
  {
   "cell_type": "code",
   "execution_count": 41,
   "metadata": {},
   "outputs": [],
   "source": [
    "garagemap = iowatrain['sale_type'].map( \n",
    "    {'WD ' : 1, 'New':3,'COD':1,'NA':2,'ConLD':2,'CWD':2, 'ConLI':2,'ConLw':2,'Oth':2,'Con' :2 })\n"
   ]
  },
  {
   "cell_type": "code",
   "execution_count": 42,
   "metadata": {},
   "outputs": [
    {
     "data": {
      "text/plain": [
       "1    1844\n",
       "3     160\n",
       "2      47\n",
       "Name: sale_type, dtype: int64"
      ]
     },
     "execution_count": 42,
     "metadata": {},
     "output_type": "execute_result"
    }
   ],
   "source": [
    "garagemap.value_counts()"
   ]
  },
  {
   "cell_type": "code",
   "execution_count": 43,
   "metadata": {},
   "outputs": [
    {
     "data": {
      "text/plain": [
       "0       3\n",
       "1       3\n",
       "2       3\n",
       "3       3\n",
       "4       3\n",
       "       ..\n",
       "2046    3\n",
       "2047    3\n",
       "2048    3\n",
       "2049    3\n",
       "2050    3\n",
       "Name: sale_type, Length: 2051, dtype: int64"
      ]
     },
     "execution_count": 43,
     "metadata": {},
     "output_type": "execute_result"
    }
   ],
   "source": [
    "iowatrain['sale_type']= garagemap\n",
    "iowatrain['sale_type']"
   ]
  },
  {
   "cell_type": "code",
   "execution_count": 44,
   "metadata": {},
   "outputs": [],
   "source": [
    "#Items to dummify because they actually kinda matter! \n",
    "pleasedummifyme = ('central_air', 'house_style', 'roof_style', 'mas_vnr_type',\n",
    "                   'foundation', 'heating')"
   ]
  },
  {
   "cell_type": "code",
   "execution_count": 45,
   "metadata": {},
   "outputs": [],
   "source": [
    "dummified_dflist = [pd.get_dummies(iowatrain[i]) for i in iowatrain.columns \n",
    "                    if i in pleasedummifyme ]\n",
    "dummified_dflist = pd.concat(dummified_dflist,axis = 1)\n"
   ]
  },
  {
   "cell_type": "code",
   "execution_count": 46,
   "metadata": {},
   "outputs": [],
   "source": [
    "# Okay cool , so we have the dummified columns and we have fixed all the ordinal as well as make 3 buckets. \n",
    "\n",
    "# We still need to check the numerical columns and select the largest influencers, \n",
    "# then we must check for outliars. \n",
    "\n",
    "#Then we will make a DF with all the columns we care about. "
   ]
  },
  {
   "cell_type": "code",
   "execution_count": 48,
   "metadata": {},
   "outputs": [
    {
     "data": {
      "text/html": [
       "<div>\n",
       "<style scoped>\n",
       "    .dataframe tbody tr th:only-of-type {\n",
       "        vertical-align: middle;\n",
       "    }\n",
       "\n",
       "    .dataframe tbody tr th {\n",
       "        vertical-align: top;\n",
       "    }\n",
       "\n",
       "    .dataframe thead th {\n",
       "        text-align: right;\n",
       "    }\n",
       "</style>\n",
       "<table border=\"1\" class=\"dataframe\">\n",
       "  <thead>\n",
       "    <tr style=\"text-align: right;\">\n",
       "      <th></th>\n",
       "      <th>saleprice</th>\n",
       "    </tr>\n",
       "  </thead>\n",
       "  <tbody>\n",
       "    <tr>\n",
       "      <th>saleprice</th>\n",
       "      <td>1.000000</td>\n",
       "    </tr>\n",
       "    <tr>\n",
       "      <th>overall_qual</th>\n",
       "      <td>0.800207</td>\n",
       "    </tr>\n",
       "    <tr>\n",
       "      <th>exter_qual</th>\n",
       "      <td>0.712146</td>\n",
       "    </tr>\n",
       "    <tr>\n",
       "      <th>gr_liv_area</th>\n",
       "      <td>0.697038</td>\n",
       "    </tr>\n",
       "    <tr>\n",
       "      <th>kitchen_qual</th>\n",
       "      <td>0.692336</td>\n",
       "    </tr>\n",
       "    <tr>\n",
       "      <th>garage_area</th>\n",
       "      <td>0.650246</td>\n",
       "    </tr>\n",
       "    <tr>\n",
       "      <th>garage_cars</th>\n",
       "      <td>0.648197</td>\n",
       "    </tr>\n",
       "    <tr>\n",
       "      <th>total_bsmt_sf</th>\n",
       "      <td>0.628668</td>\n",
       "    </tr>\n",
       "    <tr>\n",
       "      <th>1st_flr_sf</th>\n",
       "      <td>0.618486</td>\n",
       "    </tr>\n",
       "    <tr>\n",
       "      <th>bsmt_qual</th>\n",
       "      <td>0.612188</td>\n",
       "    </tr>\n",
       "    <tr>\n",
       "      <th>year_built</th>\n",
       "      <td>0.571849</td>\n",
       "    </tr>\n",
       "    <tr>\n",
       "      <th>garage_finish</th>\n",
       "      <td>0.557839</td>\n",
       "    </tr>\n",
       "    <tr>\n",
       "      <th>year_remod/add</th>\n",
       "      <td>0.550370</td>\n",
       "    </tr>\n",
       "    <tr>\n",
       "      <th>fireplace_qu</th>\n",
       "      <td>0.538925</td>\n",
       "    </tr>\n",
       "    <tr>\n",
       "      <th>full_bath</th>\n",
       "      <td>0.537969</td>\n",
       "    </tr>\n",
       "  </tbody>\n",
       "</table>\n",
       "</div>"
      ],
      "text/plain": [
       "                saleprice\n",
       "saleprice        1.000000\n",
       "overall_qual     0.800207\n",
       "exter_qual       0.712146\n",
       "gr_liv_area      0.697038\n",
       "kitchen_qual     0.692336\n",
       "garage_area      0.650246\n",
       "garage_cars      0.648197\n",
       "total_bsmt_sf    0.628668\n",
       "1st_flr_sf       0.618486\n",
       "bsmt_qual        0.612188\n",
       "year_built       0.571849\n",
       "garage_finish    0.557839\n",
       "year_remod/add   0.550370\n",
       "fireplace_qu     0.538925\n",
       "full_bath        0.537969"
      ]
     },
     "execution_count": 48,
     "metadata": {},
     "output_type": "execute_result"
    }
   ],
   "source": [
    "iowatrain.corr()[['saleprice']].sort_values(by='saleprice', ascending=False).head(15)"
   ]
  },
  {
   "cell_type": "code",
   "execution_count": null,
   "metadata": {},
   "outputs": [],
   "source": [
    "['overall_qual', 'exter_qual'] #Discrete\n",
    "\n",
    "\n",
    "['overall_qual','gr_liv_area','garage_area','total_bsmt_sf',\n",
    "'1st_flr_sf','year_remod/add','full_bath','totrms_abvgrd',\t\n",
    "'fireplaces','heating_qc','bsmt_qual','kitchen_qual','exter_qual'] # numericals\n",
    "\n",
    "['central_air', 'house_style', 'roof_style', 'mas_vnr_type','foundation'] #dummies\n",
    "['sale_type', 'exterior_1st', 'neighborhood'] buckets"
   ]
  },
  {
   "cell_type": "code",
   "execution_count": 50,
   "metadata": {},
   "outputs": [
    {
     "data": {
      "text/plain": [
       "<matplotlib.collections.PathCollection at 0x29250b5d340>"
      ]
     },
     "execution_count": 50,
     "metadata": {},
     "output_type": "execute_result"
    },
    {
     "data": {
      "image/png": "[encoded data removed]",
      "text/plain": [
       "<Figure size 432x288 with 1 Axes>"
      ]
     },
     "metadata": {
      "needs_background": "light"
     },
     "output_type": "display_data"
    }
   ],
   "source": [
    "plt.scatter(x=iowatrain['exterior_1st'], y=iowatrain['saleprice'])"
   ]
  },
  {
   "cell_type": "code",
   "execution_count": null,
   "metadata": {},
   "outputs": [],
   "source": [
    "# remove outliners over 5000! gr_liv_area, total_bsmt_sf\n",
    "# remove outliners over 4000! 1st_flr_sf"
   ]
  },
  {
   "cell_type": "code",
   "execution_count": null,
   "metadata": {},
   "outputs": [],
   "source": []
  },
  {
   "cell_type": "code",
   "execution_count": null,
   "metadata": {},
   "outputs": [],
   "source": []
  },
  {
   "cell_type": "code",
   "execution_count": 76,
   "metadata": {},
   "outputs": [],
   "source": [
    "# HAHAHHAHA YES FINALLLY WE CAN GO ON! #############################################################\n",
    "####################################################################################################"
   ]
  },
  {
   "cell_type": "code",
   "execution_count": 78,
   "metadata": {},
   "outputs": [
    {
     "name": "stdout",
     "output_type": "stream",
     "text": [
      "<class 'pandas.core.frame.DataFrame'>\n",
      "RangeIndex: 2051 entries, 0 to 2050\n",
      "Columns: 208 entries, lot_area to sale_type_WD \n",
      "dtypes: float64(8), int64(45), uint8(155)\n",
      "memory usage: 1.1 MB\n"
     ]
    }
   ],
   "source": [
    "# features = \n",
    "# Here I am removing items I don't want to include in my test\n",
    "\n",
    "X = iowatrain_clean.drop(['saleprice', \n",
    "                          'lot_frontage' , 'mas_vnr_area' , \n",
    "                          'garage_yr_blt', 'pid'], axis = 1)\n",
    "\n",
    "y = iowatrain_clean['saleprice']\n",
    "X.info()"
   ]
  },
  {
   "cell_type": "code",
   "execution_count": 79,
   "metadata": {},
   "outputs": [],
   "source": [
    "lr = LinearRegression()\n",
    "sc = StandardScaler()\n",
    "# poly = PolynomialFeatures(degree=2, interaction_only=False, include_bias=False )\n",
    "# X_overfit = poly.fit_transform(X)"
   ]
  },
  {
   "cell_type": "code",
   "execution_count": 80,
   "metadata": {},
   "outputs": [],
   "source": [
    "# X_overfit.shape"
   ]
  },
  {
   "cell_type": "code",
   "execution_count": null,
   "metadata": {},
   "outputs": [],
   "source": []
  },
  {
   "cell_type": "code",
   "execution_count": 81,
   "metadata": {},
   "outputs": [],
   "source": [
    "X_train, X_test, y_train, y_test = train_test_split( X, \n",
    "                                                    y, \n",
    "                                                    train_size=0.8,\n",
    "                                                    random_state=42)"
   ]
  },
  {
   "cell_type": "code",
   "execution_count": 82,
   "metadata": {},
   "outputs": [],
   "source": [
    "Z_train = sc.fit_transform(X_train)\n",
    "Z_test = sc.fit_transform(X_test)"
   ]
  },
  {
   "cell_type": "code",
   "execution_count": 83,
   "metadata": {},
   "outputs": [
    {
     "name": "stdout",
     "output_type": "stream",
     "text": [
      "0.9249610696041054\n",
      "0.880476845611328\n"
     ]
    }
   ],
   "source": [
    "# Instantiate.\n",
    "ridge_model = Ridge(alpha=10)\n",
    "\n",
    "# Fit.\n",
    "ridge_model.fit(Z_train, y_train)\n",
    "\n",
    "# Evaluate model using R2.\n",
    "print(ridge_model.score(Z_train, y_train))\n",
    "print(ridge_model.score(Z_test, y_test))"
   ]
  },
  {
   "cell_type": "code",
   "execution_count": 84,
   "metadata": {},
   "outputs": [
    {
     "name": "stdout",
     "output_type": "stream",
     "text": [
      "(1640, 208)\n",
      "(411, 208)\n"
     ]
    }
   ],
   "source": [
    "print(Z_train.shape)\n",
    "print(Z_test.shape)"
   ]
  },
  {
   "cell_type": "code",
   "execution_count": 85,
   "metadata": {},
   "outputs": [],
   "source": [
    "# lr.fit(Z_train, y_train)\n",
    "# lr.score(Z_test, y_test)\n",
    "# lr.score(Z_train, y_train)"
   ]
  },
  {
   "cell_type": "code",
   "execution_count": null,
   "metadata": {},
   "outputs": [],
   "source": []
  },
  {
   "cell_type": "code",
   "execution_count": null,
   "metadata": {},
   "outputs": [],
   "source": []
  },
  {
   "cell_type": "code",
   "execution_count": 86,
   "metadata": {},
   "outputs": [],
   "source": [
    "#################################################################################################################################"
   ]
  },
  {
   "cell_type": "code",
   "execution_count": 87,
   "metadata": {},
   "outputs": [],
   "source": [
    "iowatest = pd.read_csv('./datasets/test.csv')"
   ]
  },
  {
   "cell_type": "code",
   "execution_count": 88,
   "metadata": {},
   "outputs": [
    {
     "data": {
      "text/plain": [
       "Id                0\n",
       "PID               0\n",
       "MS SubClass       0\n",
       "MS Zoning         0\n",
       "Lot Frontage    160\n",
       "               ... \n",
       "Misc Feature    837\n",
       "Misc Val          0\n",
       "Mo Sold           0\n",
       "Yr Sold           0\n",
       "Sale Type         0\n",
       "Length: 80, dtype: int64"
      ]
     },
     "execution_count": 88,
     "metadata": {},
     "output_type": "execute_result"
    }
   ],
   "source": [
    "iowatest.isnull().sum()"
   ]
  },
  {
   "cell_type": "code",
   "execution_count": 89,
   "metadata": {},
   "outputs": [],
   "source": [
    "iowatest[\"Bsmt Cond\"].fillna('NA', inplace=True)\n",
    "iowatest['Bsmt Qual'].fillna('NA', inplace=True)\n",
    "iowatest['Bsmt Exposure'].fillna('NA', inplace=True)\n",
    "iowatest['BsmtFin Type 1'].fillna('NA', inplace=True)\n",
    "iowatest['BsmtFin Type 2'].fillna('NA', inplace=True)\n",
    "iowatest['Electrical'].fillna(0, inplace=True)\n",
    "iowatest['Fireplace Qu'].fillna('NA', inplace=True)\n",
    "iowatest['Garage Finish'].fillna('NA', inplace=True)\n",
    "iowatest['Garage Qual'].fillna('NA', inplace=True)\n",
    "iowatest['Garage Cond'].fillna('NA', inplace=True)\n",
    "iowatest['Pool QC'].fillna('NA', inplace=True)\n",
    "iowatest['Fence'].fillna('NA', inplace=True)"
   ]
  },
  {
   "cell_type": "code",
   "execution_count": 90,
   "metadata": {},
   "outputs": [],
   "source": [
    "iowatest.columns = [x.lower() for x in iowatest.columns]\n",
    "iowatest.columns = [x.strip().replace(' ', '_') for x in iowatest.columns]"
   ]
  },
  {
   "cell_type": "code",
   "execution_count": 91,
   "metadata": {},
   "outputs": [],
   "source": [
    "iowatest['ms_subclass'] = iowatest['ms_subclass'].astype(str)"
   ]
  },
  {
   "cell_type": "code",
   "execution_count": 92,
   "metadata": {},
   "outputs": [],
   "source": [
    "iowatest.replace({\n",
    "            'lot_shape': {'Reg':1 , 'IR1':2 , 'IR2':3 , 'IR3':4 },\n",
    "            'utilities': {'AllPub':1, 'NoSeWa':2, 'NoSewr':3 },\n",
    "            'land_slope': {'Gtl':1,  'Mod':2, 'Sev':3},\n",
    "            'exter_qual': {'NA':0, 'Ex':1,'Gd':2, 'TA':3, 'Fa':4, 'Po':5},\n",
    "            'exter_cond': {'NA':0, 'Ex':1,'Gd':2, 'TA':3, 'Fa':4, 'Po':5},\n",
    "            'bsmt_qual':  {'NA':0, 'Ex':1,'Gd':2, 'TA':3, 'Fa':4, 'Po':5},\n",
    "            'bsmt_cond':  {'NA':0, 'Ex':1,'Gd':2, 'TA':3, 'Fa':4, 'Po':5},\n",
    "            'bsmt_exposure': {'NA': 0, 'Gd':1 , 'Av':2, 'Mn':3, 'No':4},\n",
    "            'bsmtfin_type_1': {'NA':0, 'GLQ':1, 'ALQ':2, 'BLQ':3,\n",
    "                                      'Rec':4, 'LwQ':5, 'Unf':6},\n",
    "            'bsmtfin_type_2': {'NA':0, 'GLQ':1, 'ALQ':2, 'BLQ':3,\n",
    "                                      'Rec':4, 'LwQ':5, 'Unf':6},\n",
    "            'heating_qc': {'NA':0, 'Ex':1,'Gd':2, 'TA':3, 'Fa':4, 'Po':5},\n",
    "            'electrical': {'SBrkr':1, 'FuseA':2, 'FuseF':3, 'FuseP':4, 'Mix':5},\n",
    "            'kitchen_qual':  {'NA':0, 'Ex':1,'Gd':2, 'TA':3, 'Fa':4, 'Po':5},\n",
    "            'functional':{'Typ':1, 'Min1':2, 'Min2':3, 'Mod':4, \n",
    "                                   'Maj1':5, 'Maj2':6, 'Sev':7, 'Sal':8 },\n",
    "            'fireplace_qu':  {'NA':0, 'Ex':1,'Gd':2, 'TA':3, 'Fa':4, 'Po':5},\n",
    "            'garage_finish': {'NA':0, 'Fin':1, 'RFn':2, 'Unf':3},\n",
    "            'garage_qual':   {'NA':0, 'Ex':1,'Gd':2, 'TA':3, 'Fa':4, 'Po':5},\n",
    "            'garage_cond':    {'NA':0, 'Ex':1,'Gd':2, 'TA':3, 'Fa':4, 'Po':5},\n",
    "            'paved_drive':   {'Y':1, 'P':2, 'N':3},\n",
    "            'pool_qc':   {'NA':0, 'Ex':1,'Gd':2, 'TA':3, 'Fa':4, 'Po':5},\n",
    "            'fence':  {'NA':0, 'GdPrv':1, 'MnPrv':2, 'GdWo':3, 'MnWw':4}\n",
    "            }, inplace=True)"
   ]
  },
  {
   "cell_type": "code",
   "execution_count": 93,
   "metadata": {},
   "outputs": [],
   "source": [
    "numerical_iowa_TEST = iowatest.drop(nominal, axis = 1) # Getting only the numerical values! \n",
    "\n",
    "# numerical_iowaTEST = numerical_iowa_1.drop([ 'lot_frontage' , 'mas_vnr_area' , \n",
    "#                                              'garage_yr_blt', 'pid'], axis = 1)\n",
    "# # Here I am removing items I don't want to include in my test and polytransform.\n",
    "                                          \n",
    "\n",
    "# # Here I am poly fit transforming, to see if some of these have dependencies on each other. \n",
    "# poly = PolynomialFeatures(degree=2, interaction_only=False, include_bias=False )\n",
    "\n",
    "# numiowa_TEST_overfit = poly.fit_transform(numerical_iowaTEST)\n",
    "# polyfit_num_TEST = pd.DataFrame(numiowa_TEST_overfit)\n",
    "# polyfit_num_TEST.shape"
   ]
  },
  {
   "cell_type": "code",
   "execution_count": null,
   "metadata": {},
   "outputs": [],
   "source": []
  },
  {
   "cell_type": "code",
   "execution_count": 94,
   "metadata": {},
   "outputs": [],
   "source": [
    "iowatest_dummy = pd.get_dummies(iowatest[nominal], drop_first=True)"
   ]
  },
  {
   "cell_type": "code",
   "execution_count": 101,
   "metadata": {},
   "outputs": [
    {
     "data": {
      "text/plain": [
       "(878, 140)"
      ]
     },
     "execution_count": 101,
     "metadata": {},
     "output_type": "execute_result"
    }
   ],
   "source": [
    "for col in iowatest_dummy.columns:\n",
    "    if iowatest_dummy[col].isnull().sum() >0:\n",
    "        print(col) \n",
    "# no nulls. \n",
    "iowatest_dummy.shape"
   ]
  },
  {
   "cell_type": "code",
   "execution_count": 96,
   "metadata": {},
   "outputs": [],
   "source": [
    "iowatest_clean = pd.concat([numerical_iowa_TEST , iowatest_dummy], axis=1)\n",
    "\n"
   ]
  },
  {
   "cell_type": "code",
   "execution_count": 97,
   "metadata": {},
   "outputs": [],
   "source": [
    "for col in polyfit_num_TEST.columns:\n",
    "    if polyfit_num_TEST[col].isnull().sum() >0:\n",
    "        print(col)"
   ]
  },
  {
   "cell_type": "code",
   "execution_count": 98,
   "metadata": {},
   "outputs": [],
   "source": [
    "XX = iowatest_clean.drop(['lot_frontage' , 'mas_vnr_area' , 'garage_yr_blt', 'pid'], axis = 1)\n",
    "\n",
    "\n",
    "# iowatest[numericalcols2].info()\n",
    "# We have extra null values in a few columns ( lot_frontage , mas_vnr_area , garage_yr_blt )\n",
    "# We will have to remove these values from the test before we fit it I think. \n",
    "# Might as well take 'pid' out too.\n",
    "\n",
    "# XX_overfit = poly.fit_transform(XX)"
   ]
  },
  {
   "cell_type": "code",
   "execution_count": 99,
   "metadata": {},
   "outputs": [
    {
     "data": {
      "text/plain": [
       "(878, 194)"
      ]
     },
     "execution_count": 99,
     "metadata": {},
     "output_type": "execute_result"
    }
   ],
   "source": [
    "# XX = iowatest[numericalcols2]\n",
    "# XX.isnull().sum()\n",
    "XX_test = sc.fit_transform(XX)\n",
    "# ridge_model.predict()\n",
    "XX_test.shape"
   ]
  },
  {
   "cell_type": "code",
   "execution_count": 100,
   "metadata": {},
   "outputs": [
    {
     "ename": "ValueError",
     "evalue": "matmul: Input operand 1 has a mismatch in its core dimension 0, with gufunc signature (n?,k),(k,m?)->(n?,m?) (size 208 is different from 194)",
     "output_type": "error",
     "traceback": [
      "\u001b[1;31m---------------------------------------------------------------------------\u001b[0m",
      "\u001b[1;31mValueError\u001b[0m                                Traceback (most recent call last)",
      "\u001b[1;32m<ipython-input-100-3d53f0a3f910>\u001b[0m in \u001b[0;36m<module>\u001b[1;34m\u001b[0m\n\u001b[1;32m----> 1\u001b[1;33m \u001b[0mridge_model\u001b[0m\u001b[1;33m.\u001b[0m\u001b[0mpredict\u001b[0m\u001b[1;33m(\u001b[0m\u001b[0mXX_test\u001b[0m\u001b[1;33m)\u001b[0m\u001b[1;33m;\u001b[0m\u001b[1;33m\u001b[0m\u001b[1;33m\u001b[0m\u001b[0m\n\u001b[0m",
      "\u001b[1;32m~\\anaconda3\\lib\\site-packages\\sklearn\\linear_model\\_base.py\u001b[0m in \u001b[0;36mpredict\u001b[1;34m(self, X)\u001b[0m\n\u001b[0;32m    234\u001b[0m             \u001b[0mReturns\u001b[0m \u001b[0mpredicted\u001b[0m \u001b[0mvalues\u001b[0m\u001b[1;33m.\u001b[0m\u001b[1;33m\u001b[0m\u001b[1;33m\u001b[0m\u001b[0m\n\u001b[0;32m    235\u001b[0m         \"\"\"\n\u001b[1;32m--> 236\u001b[1;33m         \u001b[1;32mreturn\u001b[0m \u001b[0mself\u001b[0m\u001b[1;33m.\u001b[0m\u001b[0m_decision_function\u001b[0m\u001b[1;33m(\u001b[0m\u001b[0mX\u001b[0m\u001b[1;33m)\u001b[0m\u001b[1;33m\u001b[0m\u001b[1;33m\u001b[0m\u001b[0m\n\u001b[0m\u001b[0;32m    237\u001b[0m \u001b[1;33m\u001b[0m\u001b[0m\n\u001b[0;32m    238\u001b[0m     \u001b[0m_preprocess_data\u001b[0m \u001b[1;33m=\u001b[0m \u001b[0mstaticmethod\u001b[0m\u001b[1;33m(\u001b[0m\u001b[0m_preprocess_data\u001b[0m\u001b[1;33m)\u001b[0m\u001b[1;33m\u001b[0m\u001b[1;33m\u001b[0m\u001b[0m\n",
      "\u001b[1;32m~\\anaconda3\\lib\\site-packages\\sklearn\\linear_model\\_base.py\u001b[0m in \u001b[0;36m_decision_function\u001b[1;34m(self, X)\u001b[0m\n\u001b[0;32m    217\u001b[0m \u001b[1;33m\u001b[0m\u001b[0m\n\u001b[0;32m    218\u001b[0m         \u001b[0mX\u001b[0m \u001b[1;33m=\u001b[0m \u001b[0mcheck_array\u001b[0m\u001b[1;33m(\u001b[0m\u001b[0mX\u001b[0m\u001b[1;33m,\u001b[0m \u001b[0maccept_sparse\u001b[0m\u001b[1;33m=\u001b[0m\u001b[1;33m[\u001b[0m\u001b[1;34m'csr'\u001b[0m\u001b[1;33m,\u001b[0m \u001b[1;34m'csc'\u001b[0m\u001b[1;33m,\u001b[0m \u001b[1;34m'coo'\u001b[0m\u001b[1;33m]\u001b[0m\u001b[1;33m)\u001b[0m\u001b[1;33m\u001b[0m\u001b[1;33m\u001b[0m\u001b[0m\n\u001b[1;32m--> 219\u001b[1;33m         return safe_sparse_dot(X, self.coef_.T,\n\u001b[0m\u001b[0;32m    220\u001b[0m                                dense_output=True) + self.intercept_\n\u001b[0;32m    221\u001b[0m \u001b[1;33m\u001b[0m\u001b[0m\n",
      "\u001b[1;32m~\\anaconda3\\lib\\site-packages\\sklearn\\utils\\validation.py\u001b[0m in \u001b[0;36minner_f\u001b[1;34m(*args, **kwargs)\u001b[0m\n\u001b[0;32m     71\u001b[0m                           FutureWarning)\n\u001b[0;32m     72\u001b[0m         \u001b[0mkwargs\u001b[0m\u001b[1;33m.\u001b[0m\u001b[0mupdate\u001b[0m\u001b[1;33m(\u001b[0m\u001b[1;33m{\u001b[0m\u001b[0mk\u001b[0m\u001b[1;33m:\u001b[0m \u001b[0marg\u001b[0m \u001b[1;32mfor\u001b[0m \u001b[0mk\u001b[0m\u001b[1;33m,\u001b[0m \u001b[0marg\u001b[0m \u001b[1;32min\u001b[0m \u001b[0mzip\u001b[0m\u001b[1;33m(\u001b[0m\u001b[0msig\u001b[0m\u001b[1;33m.\u001b[0m\u001b[0mparameters\u001b[0m\u001b[1;33m,\u001b[0m \u001b[0margs\u001b[0m\u001b[1;33m)\u001b[0m\u001b[1;33m}\u001b[0m\u001b[1;33m)\u001b[0m\u001b[1;33m\u001b[0m\u001b[1;33m\u001b[0m\u001b[0m\n\u001b[1;32m---> 73\u001b[1;33m         \u001b[1;32mreturn\u001b[0m \u001b[0mf\u001b[0m\u001b[1;33m(\u001b[0m\u001b[1;33m**\u001b[0m\u001b[0mkwargs\u001b[0m\u001b[1;33m)\u001b[0m\u001b[1;33m\u001b[0m\u001b[1;33m\u001b[0m\u001b[0m\n\u001b[0m\u001b[0;32m     74\u001b[0m     \u001b[1;32mreturn\u001b[0m \u001b[0minner_f\u001b[0m\u001b[1;33m\u001b[0m\u001b[1;33m\u001b[0m\u001b[0m\n\u001b[0;32m     75\u001b[0m \u001b[1;33m\u001b[0m\u001b[0m\n",
      "\u001b[1;32m~\\anaconda3\\lib\\site-packages\\sklearn\\utils\\extmath.py\u001b[0m in \u001b[0;36msafe_sparse_dot\u001b[1;34m(a, b, dense_output)\u001b[0m\n\u001b[0;32m    151\u001b[0m             \u001b[0mret\u001b[0m \u001b[1;33m=\u001b[0m \u001b[0mnp\u001b[0m\u001b[1;33m.\u001b[0m\u001b[0mdot\u001b[0m\u001b[1;33m(\u001b[0m\u001b[0ma\u001b[0m\u001b[1;33m,\u001b[0m \u001b[0mb\u001b[0m\u001b[1;33m)\u001b[0m\u001b[1;33m\u001b[0m\u001b[1;33m\u001b[0m\u001b[0m\n\u001b[0;32m    152\u001b[0m     \u001b[1;32melse\u001b[0m\u001b[1;33m:\u001b[0m\u001b[1;33m\u001b[0m\u001b[1;33m\u001b[0m\u001b[0m\n\u001b[1;32m--> 153\u001b[1;33m         \u001b[0mret\u001b[0m \u001b[1;33m=\u001b[0m \u001b[0ma\u001b[0m \u001b[1;33m@\u001b[0m \u001b[0mb\u001b[0m\u001b[1;33m\u001b[0m\u001b[1;33m\u001b[0m\u001b[0m\n\u001b[0m\u001b[0;32m    154\u001b[0m \u001b[1;33m\u001b[0m\u001b[0m\n\u001b[0;32m    155\u001b[0m     if (sparse.issparse(a) and sparse.issparse(b)\n",
      "\u001b[1;31mValueError\u001b[0m: matmul: Input operand 1 has a mismatch in its core dimension 0, with gufunc signature (n?,k),(k,m?)->(n?,m?) (size 208 is different from 194)"
     ]
    }
   ],
   "source": [
    "ridge_model.predict(XX_test);"
   ]
  },
  {
   "cell_type": "code",
   "execution_count": null,
   "metadata": {},
   "outputs": [],
   "source": [
    "iowatest['saleprice'] = ridge_model.predict(XX_test)"
   ]
  },
  {
   "cell_type": "code",
   "execution_count": null,
   "metadata": {},
   "outputs": [],
   "source": [
    "submission = iowatest[['id', 'saleprice']].copy()"
   ]
  },
  {
   "cell_type": "code",
   "execution_count": null,
   "metadata": {},
   "outputs": [],
   "source": [
    "submission"
   ]
  },
  {
   "cell_type": "code",
   "execution_count": null,
   "metadata": {},
   "outputs": [],
   "source": [
    "submission.to_csv('./datasets/submission_04.csv', index=False)"
   ]
  },
  {
   "cell_type": "code",
   "execution_count": null,
   "metadata": {},
   "outputs": [],
   "source": [
    "\n",
    "\n",
    "#  HAVE TO MATCH THE COLUMNS OF MY DUMMY SET, BECAUSE I HAVE MORE OR LESS COLUMNS IN MY TRAIN SET THAN TEST SET. "
   ]
  }
 ],
 "metadata": {
  "kernelspec": {
   "display_name": "Python 3",
   "language": "python",
   "name": "python3"
  },
  "language_info": {
   "codemirror_mode": {
    "name": "ipython",
    "version": 3
   },
   "file_extension": ".py",
   "mimetype": "text/x-python",
   "name": "python",
   "nbconvert_exporter": "python",
   "pygments_lexer": "ipython3",
   "version": "3.8.3"
  }
 },
 "nbformat": 4,
 "nbformat_minor": 4
}
