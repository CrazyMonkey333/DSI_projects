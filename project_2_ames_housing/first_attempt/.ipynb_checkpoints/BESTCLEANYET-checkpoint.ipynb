{
 "cells": [
  {
   "cell_type": "code",
   "execution_count": null,
   "metadata": {},
   "outputs": [],
   "source": []
  },
  {
   "cell_type": "code",
   "execution_count": 1,
   "metadata": {},
   "outputs": [],
   "source": [
    "import pandas as pd \n",
    "import numpy as np \n",
    "import seaborn as sns\n",
    "import matplotlib.pyplot as plt\n",
    "from sklearn.model_selection import train_test_split, cross_val_score\n",
    "from sklearn.linear_model import LinearRegression, Ridge\n",
    "from sklearn.metrics import r2_score, mean_squared_error\n",
    "from sklearn.preprocessing import StandardScaler, PolynomialFeatures\n",
    "from sklearn.neighbors import KNeighborsClassifier"
   ]
  },
  {
   "cell_type": "code",
   "execution_count": 2,
   "metadata": {},
   "outputs": [],
   "source": [
    "iowatrain = pd.read_csv('./datasets/train.csv')"
   ]
  },
  {
   "cell_type": "code",
   "execution_count": 3,
   "metadata": {},
   "outputs": [],
   "source": [
    "iowatrain.head();"
   ]
  },
  {
   "cell_type": "code",
   "execution_count": 4,
   "metadata": {},
   "outputs": [],
   "source": [
    "iowatrain.isnull().sum();"
   ]
  },
  {
   "cell_type": "code",
   "execution_count": 5,
   "metadata": {},
   "outputs": [],
   "source": [
    "iowatrain.describe().T;"
   ]
  },
  {
   "cell_type": "code",
   "execution_count": 6,
   "metadata": {},
   "outputs": [
    {
     "name": "stdout",
     "output_type": "stream",
     "text": [
      "<class 'pandas.core.frame.DataFrame'>\n",
      "RangeIndex: 2051 entries, 0 to 2050\n",
      "Data columns (total 81 columns):\n",
      " #   Column           Non-Null Count  Dtype  \n",
      "---  ------           --------------  -----  \n",
      " 0   Id               2051 non-null   int64  \n",
      " 1   PID              2051 non-null   int64  \n",
      " 2   MS SubClass      2051 non-null   int64  \n",
      " 3   MS Zoning        2051 non-null   object \n",
      " 4   Lot Frontage     1721 non-null   float64\n",
      " 5   Lot Area         2051 non-null   int64  \n",
      " 6   Street           2051 non-null   object \n",
      " 7   Alley            140 non-null    object \n",
      " 8   Lot Shape        2051 non-null   object \n",
      " 9   Land Contour     2051 non-null   object \n",
      " 10  Utilities        2051 non-null   object \n",
      " 11  Lot Config       2051 non-null   object \n",
      " 12  Land Slope       2051 non-null   object \n",
      " 13  Neighborhood     2051 non-null   object \n",
      " 14  Condition 1      2051 non-null   object \n",
      " 15  Condition 2      2051 non-null   object \n",
      " 16  Bldg Type        2051 non-null   object \n",
      " 17  House Style      2051 non-null   object \n",
      " 18  Overall Qual     2051 non-null   int64  \n",
      " 19  Overall Cond     2051 non-null   int64  \n",
      " 20  Year Built       2051 non-null   int64  \n",
      " 21  Year Remod/Add   2051 non-null   int64  \n",
      " 22  Roof Style       2051 non-null   object \n",
      " 23  Roof Matl        2051 non-null   object \n",
      " 24  Exterior 1st     2051 non-null   object \n",
      " 25  Exterior 2nd     2051 non-null   object \n",
      " 26  Mas Vnr Type     2029 non-null   object \n",
      " 27  Mas Vnr Area     2029 non-null   float64\n",
      " 28  Exter Qual       2051 non-null   object \n",
      " 29  Exter Cond       2051 non-null   object \n",
      " 30  Foundation       2051 non-null   object \n",
      " 31  Bsmt Qual        1996 non-null   object \n",
      " 32  Bsmt Cond        1996 non-null   object \n",
      " 33  Bsmt Exposure    1993 non-null   object \n",
      " 34  BsmtFin Type 1   1996 non-null   object \n",
      " 35  BsmtFin SF 1     2050 non-null   float64\n",
      " 36  BsmtFin Type 2   1995 non-null   object \n",
      " 37  BsmtFin SF 2     2050 non-null   float64\n",
      " 38  Bsmt Unf SF      2050 non-null   float64\n",
      " 39  Total Bsmt SF    2050 non-null   float64\n",
      " 40  Heating          2051 non-null   object \n",
      " 41  Heating QC       2051 non-null   object \n",
      " 42  Central Air      2051 non-null   object \n",
      " 43  Electrical       2051 non-null   object \n",
      " 44  1st Flr SF       2051 non-null   int64  \n",
      " 45  2nd Flr SF       2051 non-null   int64  \n",
      " 46  Low Qual Fin SF  2051 non-null   int64  \n",
      " 47  Gr Liv Area      2051 non-null   int64  \n",
      " 48  Bsmt Full Bath   2049 non-null   float64\n",
      " 49  Bsmt Half Bath   2049 non-null   float64\n",
      " 50  Full Bath        2051 non-null   int64  \n",
      " 51  Half Bath        2051 non-null   int64  \n",
      " 52  Bedroom AbvGr    2051 non-null   int64  \n",
      " 53  Kitchen AbvGr    2051 non-null   int64  \n",
      " 54  Kitchen Qual     2051 non-null   object \n",
      " 55  TotRms AbvGrd    2051 non-null   int64  \n",
      " 56  Functional       2051 non-null   object \n",
      " 57  Fireplaces       2051 non-null   int64  \n",
      " 58  Fireplace Qu     1051 non-null   object \n",
      " 59  Garage Type      1938 non-null   object \n",
      " 60  Garage Yr Blt    1937 non-null   float64\n",
      " 61  Garage Finish    1937 non-null   object \n",
      " 62  Garage Cars      2050 non-null   float64\n",
      " 63  Garage Area      2050 non-null   float64\n",
      " 64  Garage Qual      1937 non-null   object \n",
      " 65  Garage Cond      1937 non-null   object \n",
      " 66  Paved Drive      2051 non-null   object \n",
      " 67  Wood Deck SF     2051 non-null   int64  \n",
      " 68  Open Porch SF    2051 non-null   int64  \n",
      " 69  Enclosed Porch   2051 non-null   int64  \n",
      " 70  3Ssn Porch       2051 non-null   int64  \n",
      " 71  Screen Porch     2051 non-null   int64  \n",
      " 72  Pool Area        2051 non-null   int64  \n",
      " 73  Pool QC          9 non-null      object \n",
      " 74  Fence            400 non-null    object \n",
      " 75  Misc Feature     65 non-null     object \n",
      " 76  Misc Val         2051 non-null   int64  \n",
      " 77  Mo Sold          2051 non-null   int64  \n",
      " 78  Yr Sold          2051 non-null   int64  \n",
      " 79  Sale Type        2051 non-null   object \n",
      " 80  SalePrice        2051 non-null   int64  \n",
      "dtypes: float64(11), int64(28), object(42)\n",
      "memory usage: 1.3+ MB\n"
     ]
    }
   ],
   "source": [
    "iowatrain.info()"
   ]
  },
  {
   "cell_type": "code",
   "execution_count": 7,
   "metadata": {},
   "outputs": [],
   "source": [
    "iowatrain.drop('Id', axis = 1, inplace=True) #Don't need this. "
   ]
  },
  {
   "cell_type": "code",
   "execution_count": 8,
   "metadata": {},
   "outputs": [
    {
     "data": {
      "image/png": "[encoded data removed]",
      "text/plain": [
       "<Figure size 720x720 with 2 Axes>"
      ]
     },
     "metadata": {
      "needs_background": "light"
     },
     "output_type": "display_data"
    }
   ],
   "source": [
    "fig, ax = plt.subplots(figsize=(10,10))  # Sample figsize in inches\n",
    "\n",
    "sns.heatmap(iowatrain.corr()[['SalePrice']].sort_values(\n",
    "                                                        by='SalePrice', \n",
    "                                                        ascending=False),\n",
    "            annot=True, vmin=-1, vmax=1,\n",
    "           cmap='coolwarm', ax=ax);\n",
    "\n",
    "# https://stackoverflow.com/questions/38913965/make-the-size-of-a-heatmap-bigger-with-seaborn\n",
    "# This is a link that showed me how to get my heatmap bigger!\n",
    "\n",
    "# Important to note that the heat map only shows corrrelations \n",
    "# with numerical columns. \n",
    "\n",
    "# I\"MA HAVE TO GET DUMB!! I also need to make sure to remove outliners from ones I want"
   ]
  },
  {
   "cell_type": "code",
   "execution_count": 9,
   "metadata": {},
   "outputs": [],
   "source": [
    "iowatrain[\"Bsmt Cond\"].fillna('NA', inplace=True)\n",
    "iowatrain['Bsmt Qual'].fillna('NA', inplace=True)\n",
    "iowatrain['Bsmt Exposure'].fillna('NA', inplace=True)\n",
    "iowatrain['BsmtFin Type 1'].fillna('NA', inplace=True)\n",
    "iowatrain['BsmtFin Type 2'].fillna('NA', inplace=True)\n",
    "\n",
    "iowatrain['Fireplace Qu'].fillna('NA', inplace=True)\n",
    "iowatrain['Garage Finish'].fillna('NA', inplace=True)\n",
    "iowatrain['Garage Qual'].fillna('NA', inplace=True)\n",
    "iowatrain['Garage Cond'].fillna('NA', inplace=True)\n",
    "iowatrain['Pool QC'].fillna('NA', inplace=True)\n",
    "iowatrain['Fence'].fillna('NA', inplace=True)"
   ]
  },
  {
   "cell_type": "code",
   "execution_count": 10,
   "metadata": {},
   "outputs": [],
   "source": [
    "# This is a reeeeeeeeeeeeallllly big data set. Let's rethink this.\n",
    "# How about we take all the ordinal variables and make them ranked! \n",
    "ordinalcols = [ 'Lot Shape', 'Utilities' , 'Land Slope', 'Exter Qual',\n",
    "               'Exter Cond', 'Bsmt Qual', 'Bsmt Cond', 'Bsmt Exposure', \n",
    "               'BsmtFin Type 1', 'BsmtFin Type 2' , 'Heating QC',\n",
    "               'Electrical', 'Kitchen Qual' , \"Functional\", \n",
    "               'Fireplace Qu', 'Garage Finish','Garage Qual', \n",
    "               'Garage Cond', 'Paved Drive', 'Pool QC', 'Fence' ]\n",
    "# ordinal_df = iowatrain[ordinalcols]\n",
    "\n",
    "# ordinal_df.columns = [x.lower() for x in ordinal_df.columns]\n",
    "# ordinal_df.columns = [x.strip().replace(' ', '_') for x in ordinal_df.columns]\n",
    "iowatrain.columns = [x.lower() for x in iowatrain.columns]\n",
    "iowatrain.columns = [x.strip().replace(' ', '_') for x in iowatrain.columns]\n",
    "ordinalcols = [x.lower() for x in ordinalcols]\n",
    "ordinalcols = [x.strip().replace(' ', '_') for x in ordinalcols]"
   ]
  },
  {
   "cell_type": "code",
   "execution_count": 11,
   "metadata": {},
   "outputs": [],
   "source": [
    "# # I'm organizing these from good to bad, as best as I know. I'm not a realitor but hey -_O_-\n",
    "# replist01 = ['Reg', 'IR1', 'IR2', 'IR3'] #LotShape\n",
    "# replist02 = ['AllPub', 'NoSeWa', 'NoSewr'] #Utilities\n",
    "# replist03 = ['Gtl',  'Mod', 'Sev'] #LandSlope\n",
    "# replist04 = ['NA', 'Ex','Gd', 'TA', 'Fa', 'Po'] #ExtQual, ExtrCond, BsmtQual, BsmtCond,,HeatingQC, KitchenQual:\n",
    "#                                                #FireplaceQu, GarageQual, GarageCond, PoolQC,  \n",
    "# replist05 = ['Gd', 'Av', 'Mn', 'No', 'NA'] #Bsmt Exposure\n",
    "# replist06 = ['NA', 'GLQ', 'ALQ', 'BLQ', 'Rec', 'LwQ', 'Unf'] #BsmtFinType1&2, \n",
    "# replist07 = ['SBrkr', 'FuseA', 'FuseF', 'FuseP', 'Mix'] #Electrical\n",
    "# replist08 = ['Typ', 'Min1', 'Min2', 'Mod', 'Maj1', 'Maj2', 'Sev', 'Sal'] #Functional(Home), \n",
    "# replist09 = ['NA', 'Fin', 'RFn', 'Unf'] # GarageFinish, \n",
    "# replist10 = ['Y', 'P', 'N'] #Paved Drive\n",
    "# replist11 = ['NA', 'GdPrv', 'MnPrv', 'GdWo', 'MnWw'] #Fence"
   ]
  },
  {
   "cell_type": "code",
   "execution_count": 12,
   "metadata": {},
   "outputs": [],
   "source": [
    "iowatrain.replace({\n",
    "            'lot_shape': {'Reg':4 , 'IR1':3 , 'IR2':2 , 'IR3':1 },\n",
    "            'utilities': {'AllPub':3, 'NoSeWa':2, 'NoSewr':1 },\n",
    "            'land_slope': {'Gtl':3,  'Mod':2, 'Sev':1},\n",
    "            'exter_qual': {'NA':0, 'Ex':5,'Gd':4, 'TA':3, 'Fa':2, 'Po':1},\n",
    "            'exter_cond': {'NA':0, 'Ex':5,'Gd':4, 'TA':3, 'Fa':2, 'Po':1},\n",
    "            'bsmt_qual':  {'NA':0, 'Ex':5,'Gd':4, 'TA':3, 'Fa':2, 'Po':1},\n",
    "            'bsmt_cond':  {'NA':0, 'Ex':5,'Gd':4, 'TA':3, 'Fa':2, 'Po':1},\n",
    "            'bsmt_exposure': {'NA': 0, 'Gd':4 , 'Av':3, 'Mn':2, 'No':1},\n",
    "            'bsmtfin_type_1': {'NA':0, 'GLQ':6, 'ALQ':5, 'BLQ':4,\n",
    "                                      'Rec':3, 'LwQ':2, 'Unf':1},\n",
    "            'bsmtfin_type_2': {'NA':0, 'GLQ':6, 'ALQ':5, 'BLQ':4,\n",
    "                                      'Rec':3, 'LwQ':2, 'Unf':1},\n",
    "            'heating_qc': {'NA':0, 'Ex':5,'Gd':4, 'TA':3, 'Fa':2, 'Po':1},\n",
    "            'electrical': {'SBrkr':5, 'FuseA':4, 'FuseF':3, 'FuseP':2, 'Mix':1},\n",
    "            'kitchen_qual':  {'NA':0, 'Ex':5,'Gd':4, 'TA':3, 'Fa':2, 'Po':1},\n",
    "            'functional':{'Typ':8, 'Min1':7, 'Min2':6, 'Mod':5, \n",
    "                                   'Maj1':4, 'Maj2':3, 'Sev':2, 'Sal':1 },\n",
    "            'fireplace_qu': {'NA':0, 'Ex':5,'Gd':4, 'TA':3, 'Fa':2, 'Po':1},\n",
    "            'garage_finish': {'NA':0, 'Fin':3, 'RFn':2, 'Unf':1},\n",
    "            'garage_qual':   {'NA':0, 'Ex':5,'Gd':4, 'TA':3, 'Fa':2, 'Po':1},\n",
    "            'garage_cond':    {'NA':0, 'Ex':5,'Gd':4, 'TA':3, 'Fa':2, 'Po':1},\n",
    "            'paved_drive':   {'Y':3, 'P':2, 'N':1},\n",
    "            'pool_qc':   {'NA':0, 'Ex':5,'Gd':4, 'TA':3, 'Fa':2, 'Po':1},\n",
    "            'fence':  {'NA':0, 'GdPrv':4, 'MnPrv':3, 'GdWo':2, 'MnWw':1}\n",
    "            }, inplace=True)\n",
    "#Okay The ordinal Values are now fixed and numbered!!!"
   ]
  },
  {
   "cell_type": "code",
   "execution_count": 13,
   "metadata": {},
   "outputs": [],
   "source": [
    "iowatrain['alley'].fillna('NA', inplace=True)\n",
    "iowatrain['mas_vnr_type'].fillna('NA', inplace=True)\n",
    "iowatrain['garage_type'].fillna('NA', inplace=True)\n",
    "iowatrain['misc_feature'].fillna('NA', inplace=True)\n",
    "\n",
    "# HERE THERE IS ONLY ONE NULL VALUE FOR THESE, SO I'M USING THE MEAN SO NOT TO SQEW\n",
    "# THE DATA.\n",
    "iowatrain['garage_yr_blt'].fillna(iowatrain['garage_yr_blt'].mean(), inplace=True)\n",
    "iowatrain['bsmtfin_sf_1'].fillna(iowatrain['bsmtfin_sf_1'].mean(), inplace=True)\n",
    "iowatrain['bsmtfin_sf_2'].fillna(iowatrain['bsmtfin_sf_2'].mean(), inplace=True)\n",
    "iowatrain['mas_vnr_area'].fillna(iowatrain['mas_vnr_area'].mean(), inplace=True)\n",
    "iowatrain['bsmt_unf_sf'].fillna(iowatrain['bsmt_unf_sf'].mean(), inplace=True)\n",
    "iowatrain['total_bsmt_sf'].fillna(iowatrain['total_bsmt_sf'].mean(), inplace=True)\n",
    "iowatrain['bsmt_full_bath'].fillna(iowatrain['bsmt_full_bath'].mean(), inplace=True)\n",
    "iowatrain['bsmt_half_bath'].fillna(iowatrain['bsmt_half_bath'].mean(), inplace=True)\n",
    "iowatrain['garage_cars'].fillna(iowatrain['garage_cars'].mean(), inplace=True)\n",
    "iowatrain['garage_area'].fillna(iowatrain['garage_area'].mean(), inplace=True)\n",
    "# I don't know why there are no 0 values for lot_frontage, so I'm going to \n",
    "# assume that they have no lottage by a street. \n",
    "iowatrain['lot_frontage'].fillna(0, inplace= True)"
   ]
  },
  {
   "cell_type": "code",
   "execution_count": 14,
   "metadata": {},
   "outputs": [],
   "source": [
    "numericalcols = [col for col in iowatrain.columns if iowatrain[col].dtype != 'O']\n",
    "#These are all the columsn that have numerical values. Now includind the\n",
    "# Ordinal and Continuous and Discrete numerically."
   ]
  },
  {
   "cell_type": "code",
   "execution_count": 15,
   "metadata": {},
   "outputs": [
    {
     "name": "stdout",
     "output_type": "stream",
     "text": [
      "<class 'pandas.core.frame.DataFrame'>\n",
      "RangeIndex: 2051 entries, 0 to 2050\n",
      "Data columns (total 59 columns):\n",
      " #   Column           Non-Null Count  Dtype  \n",
      "---  ------           --------------  -----  \n",
      " 0   pid              2051 non-null   int64  \n",
      " 1   ms_subclass      2051 non-null   int64  \n",
      " 2   lot_frontage     2051 non-null   float64\n",
      " 3   lot_area         2051 non-null   int64  \n",
      " 4   lot_shape        2051 non-null   int64  \n",
      " 5   utilities        2051 non-null   int64  \n",
      " 6   land_slope       2051 non-null   int64  \n",
      " 7   overall_qual     2051 non-null   int64  \n",
      " 8   overall_cond     2051 non-null   int64  \n",
      " 9   year_built       2051 non-null   int64  \n",
      " 10  year_remod/add   2051 non-null   int64  \n",
      " 11  mas_vnr_area     2051 non-null   float64\n",
      " 12  exter_qual       2051 non-null   int64  \n",
      " 13  exter_cond       2051 non-null   int64  \n",
      " 14  bsmt_qual        2051 non-null   int64  \n",
      " 15  bsmt_cond        2051 non-null   int64  \n",
      " 16  bsmt_exposure    2051 non-null   int64  \n",
      " 17  bsmtfin_type_1   2051 non-null   int64  \n",
      " 18  bsmtfin_sf_1     2051 non-null   float64\n",
      " 19  bsmtfin_type_2   2051 non-null   int64  \n",
      " 20  bsmtfin_sf_2     2051 non-null   float64\n",
      " 21  bsmt_unf_sf      2051 non-null   float64\n",
      " 22  total_bsmt_sf    2051 non-null   float64\n",
      " 23  heating_qc       2051 non-null   int64  \n",
      " 24  electrical       2051 non-null   int64  \n",
      " 25  1st_flr_sf       2051 non-null   int64  \n",
      " 26  2nd_flr_sf       2051 non-null   int64  \n",
      " 27  low_qual_fin_sf  2051 non-null   int64  \n",
      " 28  gr_liv_area      2051 non-null   int64  \n",
      " 29  bsmt_full_bath   2051 non-null   float64\n",
      " 30  bsmt_half_bath   2051 non-null   float64\n",
      " 31  full_bath        2051 non-null   int64  \n",
      " 32  half_bath        2051 non-null   int64  \n",
      " 33  bedroom_abvgr    2051 non-null   int64  \n",
      " 34  kitchen_abvgr    2051 non-null   int64  \n",
      " 35  kitchen_qual     2051 non-null   int64  \n",
      " 36  totrms_abvgrd    2051 non-null   int64  \n",
      " 37  functional       2051 non-null   int64  \n",
      " 38  fireplaces       2051 non-null   int64  \n",
      " 39  fireplace_qu     2051 non-null   int64  \n",
      " 40  garage_yr_blt    2051 non-null   float64\n",
      " 41  garage_finish    2051 non-null   int64  \n",
      " 42  garage_cars      2051 non-null   float64\n",
      " 43  garage_area      2051 non-null   float64\n",
      " 44  garage_qual      2051 non-null   int64  \n",
      " 45  garage_cond      2051 non-null   int64  \n",
      " 46  paved_drive      2051 non-null   int64  \n",
      " 47  wood_deck_sf     2051 non-null   int64  \n",
      " 48  open_porch_sf    2051 non-null   int64  \n",
      " 49  enclosed_porch   2051 non-null   int64  \n",
      " 50  3ssn_porch       2051 non-null   int64  \n",
      " 51  screen_porch     2051 non-null   int64  \n",
      " 52  pool_area        2051 non-null   int64  \n",
      " 53  pool_qc          2051 non-null   int64  \n",
      " 54  fence            2051 non-null   int64  \n",
      " 55  misc_val         2051 non-null   int64  \n",
      " 56  mo_sold          2051 non-null   int64  \n",
      " 57  yr_sold          2051 non-null   int64  \n",
      " 58  saleprice        2051 non-null   int64  \n",
      "dtypes: float64(11), int64(48)\n",
      "memory usage: 945.5 KB\n"
     ]
    }
   ],
   "source": [
    "iowatrain[numericalcols].info()"
   ]
  },
  {
   "cell_type": "code",
   "execution_count": 16,
   "metadata": {},
   "outputs": [],
   "source": [
    "iowatrain.columns;"
   ]
  },
  {
   "cell_type": "code",
   "execution_count": 17,
   "metadata": {},
   "outputs": [
    {
     "data": {
      "image/png": "[encoded data removed]",
      "text/plain": [
       "<Figure size 720x1080 with 2 Axes>"
      ]
     },
     "metadata": {
      "needs_background": "light"
     },
     "output_type": "display_data"
    }
   ],
   "source": [
    "fig, ax = plt.subplots(figsize=(10,15))\n",
    "\n",
    "sns.heatmap(iowatrain.corr()[['saleprice']].sort_values(by='saleprice', ascending=False),\n",
    "            annot=True, vmin=-1, vmax=1,\n",
    "           cmap='coolwarm', ax=ax);"
   ]
  },
  {
   "cell_type": "code",
   "execution_count": 18,
   "metadata": {},
   "outputs": [],
   "source": [
    "iowatrain['ms_subclass'] = iowatrain['ms_subclass'].astype(str)"
   ]
  },
  {
   "cell_type": "markdown",
   "metadata": {},
   "source": [
    "OK LETS RE-EVALUATE. WE ONLY NEED SOME DUMMIES. BUT WITCH ONES??\n",
    "first lets bucket (Neighborhood, Exterior_1 and Sale Type"
   ]
  },
  {
   "cell_type": "code",
   "execution_count": 28,
   "metadata": {},
   "outputs": [
    {
     "data": {
      "text/plain": [
       "<matplotlib.axes._subplots.AxesSubplot at 0x1a732914580>"
      ]
     },
     "execution_count": 28,
     "metadata": {},
     "output_type": "execute_result"
    },
    {
     "data": {
      "image/png": "[encoded data removed]",
      "text/plain": [
       "<Figure size 432x288 with 2 Axes>"
      ]
     },
     "metadata": {
      "needs_background": "light"
     },
     "output_type": "display_data"
    }
   ],
   "source": [
    "dumheat = pd.get_dummies(iowatrain['neighborhood']) #BUCKET THE HOOD\n",
    "dumheat['saleprice'] = iowatrain['saleprice']\n",
    "\n",
    "sns.heatmap(dumheat.corr()[['saleprice']].sort_values(by='saleprice', ascending=False),\n",
    "           annot = True, cmap='coolwarm')\n",
    "\n",
    "# sns.heatmap(iowatrain.corr()[['saleprice']].sort_values(by='saleprice', ascending=False),\n",
    "#             annot=True, vmin=-1, vmax=1,\n",
    "#            cmap='coolwarm', ax=ax);"
   ]
  },
  {
   "cell_type": "code",
   "execution_count": 29,
   "metadata": {},
   "outputs": [],
   "source": [
    "dumheat.corr()[['saleprice']].sort_values(by='saleprice', ascending=False);\n",
    "#NEIGHBORHOOD"
   ]
  },
  {
   "cell_type": "code",
   "execution_count": 30,
   "metadata": {},
   "outputs": [],
   "source": [
    "nicehood = ('NridgHt','NoRidge','StoneBr','Somerst',\n",
    "    'Timber','Veenker','CollgCr','Crawfor','ClearCr')\n",
    "okhood = ('Crawfor','ClearCr','GrnHill','NWAmes',\n",
    "          'Blmngtn','Gilbert','SawyerW','Greens',\n",
    "          'Landmrk','Blueste','Mitchel','NPkVill')\t\n",
    "badhood = ('SWISU','BrDale','MeadowV','Sawyer','BrkSide',\n",
    "           'Edwards','IDOTRR','NAmes','OldTown')"
   ]
  },
  {
   "cell_type": "code",
   "execution_count": 31,
   "metadata": {},
   "outputs": [
    {
     "name": "stdout",
     "output_type": "stream",
     "text": [
      "0.16798675372099847 0.0022341839293463775 -0.14585244112872248\n"
     ]
    }
   ],
   "source": [
    "nicehood_cor =[]\n",
    "okhood_cor = []\n",
    "badhood_cor = []\n",
    "for col in dumheat.columns:\n",
    "    if col != 'saleprice':\n",
    "        if dumheat[col].corr(dumheat['saleprice']) > 0.05:\n",
    "            nicehood_cor.append(dumheat[col].corr(dumheat['saleprice']))\n",
    "        elif dumheat[col].corr(dumheat['saleprice']) < -0.05:\n",
    "            badhood_cor.append(dumheat[col].corr(dumheat['saleprice']))\n",
    "        else:\n",
    "            okhood_cor.append(dumheat[col].corr(dumheat['saleprice']))\n",
    "\n",
    "print(\n",
    "    np.mean(nicehood_cor),\n",
    "    np.mean(okhood_cor),\n",
    "    np.mean(badhood_cor))\n"
   ]
  },
  {
   "cell_type": "code",
   "execution_count": 32,
   "metadata": {},
   "outputs": [
    {
     "data": {
      "text/plain": [
       "0       1\n",
       "1       2\n",
       "2       1\n",
       "3       3\n",
       "4       2\n",
       "       ..\n",
       "2046    3\n",
       "2047    1\n",
       "2048    3\n",
       "2049    1\n",
       "2050    2\n",
       "Name: neighborhood, Length: 2051, dtype: int64"
      ]
     },
     "execution_count": 32,
     "metadata": {},
     "output_type": "execute_result"
    }
   ],
   "source": [
    "[iowatrain['neighborhood'].replace(to_replace=col, value = 3, inplace=True) \n",
    " for col in iowatrain['neighborhood'] if col in nicehood]\n",
    "\n",
    "[iowatrain['neighborhood'].replace(to_replace=col, value = 2, inplace=True) \n",
    " for col in iowatrain['neighborhood'] if col in okhood]\n",
    "\n",
    "[iowatrain['neighborhood'].replace(to_replace=col, value = 1, inplace=True) \n",
    " for col in iowatrain['neighborhood'] if col in badhood]\n",
    "iowatrain['neighborhood']\n",
    "\n",
    "### I just made this a bucketed list (more organized than dummies)"
   ]
  },
  {
   "cell_type": "code",
   "execution_count": 33,
   "metadata": {},
   "outputs": [],
   "source": [
    "# # Now I should go through and change the Nominal Values to be Dummy and   \n",
    "# # make sure the Nominal values are not numerical unless dummied. \n",
    "# nominal = [ 'ms_subclass', 'ms_zoning', 'street', 'alley', 'land_contour', 'lot_config', \n",
    "#            'neighborhood', 'condition_1', 'condition_2', 'bldg_type', 'house_style',\n",
    "#            'roof_style', 'roof_matl', 'exterior_1st', 'exterior_2nd', 'mas_vnr_type',\n",
    "#            'foundation', 'heating', 'central_air', 'garage_type', 'misc_feature', 'sale_type' ]\n"
   ]
  },
  {
   "cell_type": "code",
   "execution_count": 34,
   "metadata": {},
   "outputs": [
    {
     "data": {
      "image/png": "[encoded data removed]",
      "text/plain": [
       "<Figure size 432x288 with 2 Axes>"
      ]
     },
     "metadata": {
      "needs_background": "light"
     },
     "output_type": "display_data"
    }
   ],
   "source": [
    "dumheat = pd.get_dummies(iowatrain['exterior_1st']) #BUcket the Exterior_1\n",
    "dumheat['saleprice'] = iowatrain['saleprice']\n",
    "\n",
    "sns.heatmap(dumheat.corr()[['saleprice']].sort_values(by='saleprice', ascending=False),\n",
    "           annot = True, cmap='coolwarm');\n",
    "\n",
    "# sns.heatmap(iowatrain.corr()[['saleprice']].sort_values(by='saleprice', ascending=False),\n",
    "#             annot=True, vmin=-1, vmax=1,\n",
    "#            cmap='coolwarm', ax=ax);"
   ]
  },
  {
   "cell_type": "code",
   "execution_count": 35,
   "metadata": {},
   "outputs": [],
   "source": [
    "dumheat.corr()[['saleprice']].sort_values(by='saleprice', ascending=False);\n",
    "#EXTERIOR 1"
   ]
  },
  {
   "cell_type": "code",
   "execution_count": 36,
   "metadata": {},
   "outputs": [],
   "source": [
    "good_ext = ('VinylSd','CemntBd')\n",
    "ok_etr = ('Stone', 'BrkFace','ImStucc','BrkComm',\n",
    "          'AsphShn','CBlock','Plywood','WdShing','Stucco')\n",
    "bad_ext = ('HdBoard', 'AsbShng', 'MetalSd','Wd Sdng')\n"
   ]
  },
  {
   "cell_type": "code",
   "execution_count": 37,
   "metadata": {},
   "outputs": [],
   "source": [
    "[iowatrain['exterior_1st'].replace(to_replace=col, value = 3, inplace=True) \n",
    " for col in iowatrain['exterior_1st'] if col in good_ext]\n",
    "\n",
    "[iowatrain['exterior_1st'].replace(to_replace=col, value = 2, inplace=True) \n",
    " for col in iowatrain['exterior_1st'] if col in ok_etr]\n",
    "\n",
    "[iowatrain['exterior_1st'].replace(to_replace=col, value = 1, inplace=True) \n",
    " for col in iowatrain['exterior_1st'] if col in bad_ext]\n",
    "# WE JUST MADE ANOTHER BUCKET! \n",
    "iowatrain['exterior_1st'];"
   ]
  },
  {
   "cell_type": "code",
   "execution_count": 38,
   "metadata": {},
   "outputs": [
    {
     "data": {
      "text/plain": [
       "0       1\n",
       "1       1\n",
       "2       1\n",
       "3       1\n",
       "4       1\n",
       "       ..\n",
       "2046    1\n",
       "2047    1\n",
       "2048    1\n",
       "2049    1\n",
       "2050    1\n",
       "Name: sale_type, Length: 2051, dtype: int64"
      ]
     },
     "execution_count": 38,
     "metadata": {},
     "output_type": "execute_result"
    }
   ],
   "source": [
    "dumheat = pd.get_dummies(iowatrain['sale_type']) # Bucket the sale Type\n",
    "dumheat['saleprice'] = iowatrain['saleprice']\n",
    "garagemap = iowatrain['sale_type'].map( \n",
    "    {'WD ' : 1, 'New':3,'COD':1,'NA':2,'ConLD':2,'CWD':2, 'ConLI':2,'ConLw':2,'Oth':2,'Con' :2 })\n",
    "iowatrain['sale_type']= garagemap\n",
    "iowatrain['sale_type']"
   ]
  },
  {
   "cell_type": "code",
   "execution_count": 39,
   "metadata": {},
   "outputs": [],
   "source": [
    "#Items to dummify because they actually kinda matter! # DUMMIES!!!!\n",
    "pleasedummifyme = ('central_air', 'house_style', 'roof_style',\n",
    "                   'foundation', 'heating')"
   ]
  },
  {
   "cell_type": "code",
   "execution_count": 40,
   "metadata": {},
   "outputs": [],
   "source": [
    "dummified_dflist = [pd.get_dummies(iowatrain[i]) for i in iowatrain.columns \n",
    "                    if i in pleasedummifyme ]\n",
    "dummified_dflist = pd.concat(dummified_dflist,axis = 1)\n"
   ]
  },
  {
   "cell_type": "code",
   "execution_count": 41,
   "metadata": {},
   "outputs": [],
   "source": [
    "# Okay cool , so we have the dummified columns and we have fixed all the ordinal as well as make 3 buckets. \n",
    "\n",
    "# We still need to check the numerical columns and select the largest influencers, \n",
    "# then we must check for outliars. \n",
    "\n",
    "#Then we will make a DF with all the columns we care about. "
   ]
  },
  {
   "cell_type": "code",
   "execution_count": 42,
   "metadata": {},
   "outputs": [
    {
     "data": {
      "text/html": [
       "<div>\n",
       "<style scoped>\n",
       "    .dataframe tbody tr th:only-of-type {\n",
       "        vertical-align: middle;\n",
       "    }\n",
       "\n",
       "    .dataframe tbody tr th {\n",
       "        vertical-align: top;\n",
       "    }\n",
       "\n",
       "    .dataframe thead th {\n",
       "        text-align: right;\n",
       "    }\n",
       "</style>\n",
       "<table border=\"1\" class=\"dataframe\">\n",
       "  <thead>\n",
       "    <tr style=\"text-align: right;\">\n",
       "      <th></th>\n",
       "      <th>saleprice</th>\n",
       "    </tr>\n",
       "  </thead>\n",
       "  <tbody>\n",
       "    <tr>\n",
       "      <th>saleprice</th>\n",
       "      <td>1.000000</td>\n",
       "    </tr>\n",
       "    <tr>\n",
       "      <th>overall_qual</th>\n",
       "      <td>0.800207</td>\n",
       "    </tr>\n",
       "    <tr>\n",
       "      <th>exter_qual</th>\n",
       "      <td>0.712146</td>\n",
       "    </tr>\n",
       "    <tr>\n",
       "      <th>gr_liv_area</th>\n",
       "      <td>0.697038</td>\n",
       "    </tr>\n",
       "    <tr>\n",
       "      <th>kitchen_qual</th>\n",
       "      <td>0.692336</td>\n",
       "    </tr>\n",
       "    <tr>\n",
       "      <th>garage_area</th>\n",
       "      <td>0.650246</td>\n",
       "    </tr>\n",
       "    <tr>\n",
       "      <th>neighborhood</th>\n",
       "      <td>0.648311</td>\n",
       "    </tr>\n",
       "    <tr>\n",
       "      <th>garage_cars</th>\n",
       "      <td>0.648197</td>\n",
       "    </tr>\n",
       "    <tr>\n",
       "      <th>total_bsmt_sf</th>\n",
       "      <td>0.628668</td>\n",
       "    </tr>\n",
       "    <tr>\n",
       "      <th>1st_flr_sf</th>\n",
       "      <td>0.618486</td>\n",
       "    </tr>\n",
       "    <tr>\n",
       "      <th>bsmt_qual</th>\n",
       "      <td>0.612188</td>\n",
       "    </tr>\n",
       "    <tr>\n",
       "      <th>year_built</th>\n",
       "      <td>0.571849</td>\n",
       "    </tr>\n",
       "    <tr>\n",
       "      <th>garage_finish</th>\n",
       "      <td>0.557839</td>\n",
       "    </tr>\n",
       "    <tr>\n",
       "      <th>year_remod/add</th>\n",
       "      <td>0.550370</td>\n",
       "    </tr>\n",
       "    <tr>\n",
       "      <th>fireplace_qu</th>\n",
       "      <td>0.538925</td>\n",
       "    </tr>\n",
       "    <tr>\n",
       "      <th>full_bath</th>\n",
       "      <td>0.537969</td>\n",
       "    </tr>\n",
       "    <tr>\n",
       "      <th>garage_yr_blt</th>\n",
       "      <td>0.516738</td>\n",
       "    </tr>\n",
       "    <tr>\n",
       "      <th>mas_vnr_area</th>\n",
       "      <td>0.508602</td>\n",
       "    </tr>\n",
       "    <tr>\n",
       "      <th>totrms_abvgrd</th>\n",
       "      <td>0.504014</td>\n",
       "    </tr>\n",
       "    <tr>\n",
       "      <th>fireplaces</th>\n",
       "      <td>0.471093</td>\n",
       "    </tr>\n",
       "    <tr>\n",
       "      <th>heating_qc</th>\n",
       "      <td>0.458354</td>\n",
       "    </tr>\n",
       "    <tr>\n",
       "      <th>bsmt_exposure</th>\n",
       "      <td>0.424863</td>\n",
       "    </tr>\n",
       "    <tr>\n",
       "      <th>bsmtfin_sf_1</th>\n",
       "      <td>0.423346</td>\n",
       "    </tr>\n",
       "  </tbody>\n",
       "</table>\n",
       "</div>"
      ],
      "text/plain": [
       "                saleprice\n",
       "saleprice        1.000000\n",
       "overall_qual     0.800207\n",
       "exter_qual       0.712146\n",
       "gr_liv_area      0.697038\n",
       "kitchen_qual     0.692336\n",
       "garage_area      0.650246\n",
       "neighborhood     0.648311\n",
       "garage_cars      0.648197\n",
       "total_bsmt_sf    0.628668\n",
       "1st_flr_sf       0.618486\n",
       "bsmt_qual        0.612188\n",
       "year_built       0.571849\n",
       "garage_finish    0.557839\n",
       "year_remod/add   0.550370\n",
       "fireplace_qu     0.538925\n",
       "full_bath        0.537969\n",
       "garage_yr_blt    0.516738\n",
       "mas_vnr_area     0.508602\n",
       "totrms_abvgrd    0.504014\n",
       "fireplaces       0.471093\n",
       "heating_qc       0.458354\n",
       "bsmt_exposure    0.424863\n",
       "bsmtfin_sf_1     0.423346"
      ]
     },
     "execution_count": 42,
     "metadata": {},
     "output_type": "execute_result"
    }
   ],
   "source": [
    "iowatrain.corr()[['saleprice']].sort_values(by='saleprice', ascending=False).head(23)"
   ]
  },
  {
   "cell_type": "raw",
   "metadata": {},
   "source": [
    "DATA COLUMNS I AM INCLUDING IN MY TEST ! \n",
    "\n",
    "    # 'overall_qual'\t0.800207 Discrete\n",
    "    # 'exter_qual'\t    0.712146 Discrete\n",
    "    # 'gr_liv_area'  \t0.697038\n",
    "    # 'kitchen_qual'\t0.692336 Discrete\n",
    "    # 'garage_area'\t    0.650246\n",
    "    # 'neighborhood'\t0.648311 THIS IS MY BUCKET!!\n",
    "    # 'garage_cars' \t0.648197 Discrete / REDUNDANT W GARAGE AREA\n",
    "    # 'total_bsmt_sf'\t0.628668\n",
    "    # '1st_flr_sf'  \t0.618486\n",
    "    # 'bsmt_qual'   \t0.612188 Discrete / REDUNDANT W BSMT_SF\n",
    "    # 'year_built'  \t0.571849 Discrete / REDUNDANT W YEAR_REMODEL\n",
    "    # 'garage_finish'\t0.557839 Discrete / Redudant w garage_area\n",
    "    # 'year_remod/add'\t0.550370 Discrete\n",
    "    # 'fireplace_qu'\t0.538925 Discrete\n",
    "    # 'full_bath'   \t0.537969 Discrete\n",
    "    # 'garage_yr_blt'\t0.516738 Discrete / Redudant w garage_area\n",
    "    # 'mas_vnr_area'\t0.508602          / Redudant w mas_vnr_type\n",
    "    # 'totrms_abvgrd'\t0.504014 Discrete\n",
    "    # 'fireplaces'  \t0.471093 Disctete / Redudant wi fire_qual\n",
    "    # 'heating_qc'  \t0.458354 Discrete\n",
    "\n",
    "    # ['central_air', 'house_style', 'roof_style', 'mas_vnr_type','foundation'] \n",
    "#dummies\n",
    "\n",
    "    # ['sale_type', 'exterior_1st', 'neighborhood'] \n",
    "#buckets"
   ]
  },
  {
   "cell_type": "code",
   "execution_count": 43,
   "metadata": {},
   "outputs": [
    {
     "data": {
      "image/png": "[encoded data removed]",
      "text/plain": [
       "<Figure size 432x288 with 1 Axes>"
      ]
     },
     "metadata": {
      "needs_background": "light"
     },
     "output_type": "display_data"
    }
   ],
   "source": [
    "plt.scatter(x=iowatrain['mas_vnr_type'], y=iowatrain['saleprice']);"
   ]
  },
  {
   "cell_type": "markdown",
   "metadata": {},
   "source": [
    "  remove outliners over 5000! gr_liv_area, total_bsmt_sf.\n",
    "  \n",
    "remove outliners over 3500! 1st_flr_sf"
   ]
  },
  {
   "cell_type": "code",
   "execution_count": 44,
   "metadata": {},
   "outputs": [
    {
     "name": "stdout",
     "output_type": "stream",
     "text": [
      "960\n",
      "1885\n"
     ]
    }
   ],
   "source": [
    "for i in iowatrain.index:\n",
    "    if iowatrain['gr_liv_area'][i]>5000:\n",
    "        print(i)"
   ]
  },
  {
   "cell_type": "code",
   "execution_count": 45,
   "metadata": {},
   "outputs": [
    {
     "name": "stdout",
     "output_type": "stream",
     "text": [
      "960\n",
      "1885\n"
     ]
    }
   ],
   "source": [
    "for i in iowatrain.index:\n",
    "    if iowatrain['total_bsmt_sf'][i]>5000:\n",
    "        print(i)"
   ]
  },
  {
   "cell_type": "code",
   "execution_count": 46,
   "metadata": {},
   "outputs": [
    {
     "name": "stdout",
     "output_type": "stream",
     "text": [
      "616\n",
      "960\n",
      "1885\n"
     ]
    }
   ],
   "source": [
    "for i in iowatrain.index:\n",
    "    if iowatrain['1st_flr_sf'][i]>3500:\n",
    "        print(i)"
   ]
  },
  {
   "cell_type": "code",
   "execution_count": 47,
   "metadata": {},
   "outputs": [
    {
     "data": {
      "text/html": [
       "<div>\n",
       "<style scoped>\n",
       "    .dataframe tbody tr th:only-of-type {\n",
       "        vertical-align: middle;\n",
       "    }\n",
       "\n",
       "    .dataframe tbody tr th {\n",
       "        vertical-align: top;\n",
       "    }\n",
       "\n",
       "    .dataframe thead th {\n",
       "        text-align: right;\n",
       "    }\n",
       "</style>\n",
       "<table border=\"1\" class=\"dataframe\">\n",
       "  <thead>\n",
       "    <tr style=\"text-align: right;\">\n",
       "      <th></th>\n",
       "      <th>index</th>\n",
       "      <th>1.5Fin</th>\n",
       "      <th>1.5Unf</th>\n",
       "      <th>1Story</th>\n",
       "      <th>2.5Fin</th>\n",
       "      <th>2.5Unf</th>\n",
       "      <th>2Story</th>\n",
       "      <th>SFoyer</th>\n",
       "      <th>SLvl</th>\n",
       "      <th>Flat</th>\n",
       "      <th>...</th>\n",
       "      <th>Slab</th>\n",
       "      <th>Stone</th>\n",
       "      <th>Wood</th>\n",
       "      <th>GasA</th>\n",
       "      <th>GasW</th>\n",
       "      <th>Grav</th>\n",
       "      <th>OthW</th>\n",
       "      <th>Wall</th>\n",
       "      <th>N</th>\n",
       "      <th>Y</th>\n",
       "    </tr>\n",
       "  </thead>\n",
       "  <tbody>\n",
       "    <tr>\n",
       "      <th>0</th>\n",
       "      <td>0</td>\n",
       "      <td>0</td>\n",
       "      <td>0</td>\n",
       "      <td>0</td>\n",
       "      <td>0</td>\n",
       "      <td>0</td>\n",
       "      <td>1</td>\n",
       "      <td>0</td>\n",
       "      <td>0</td>\n",
       "      <td>0</td>\n",
       "      <td>...</td>\n",
       "      <td>0</td>\n",
       "      <td>0</td>\n",
       "      <td>0</td>\n",
       "      <td>1</td>\n",
       "      <td>0</td>\n",
       "      <td>0</td>\n",
       "      <td>0</td>\n",
       "      <td>0</td>\n",
       "      <td>0</td>\n",
       "      <td>1</td>\n",
       "    </tr>\n",
       "    <tr>\n",
       "      <th>1</th>\n",
       "      <td>1</td>\n",
       "      <td>0</td>\n",
       "      <td>0</td>\n",
       "      <td>0</td>\n",
       "      <td>0</td>\n",
       "      <td>0</td>\n",
       "      <td>1</td>\n",
       "      <td>0</td>\n",
       "      <td>0</td>\n",
       "      <td>0</td>\n",
       "      <td>...</td>\n",
       "      <td>0</td>\n",
       "      <td>0</td>\n",
       "      <td>0</td>\n",
       "      <td>1</td>\n",
       "      <td>0</td>\n",
       "      <td>0</td>\n",
       "      <td>0</td>\n",
       "      <td>0</td>\n",
       "      <td>0</td>\n",
       "      <td>1</td>\n",
       "    </tr>\n",
       "    <tr>\n",
       "      <th>2</th>\n",
       "      <td>2</td>\n",
       "      <td>0</td>\n",
       "      <td>0</td>\n",
       "      <td>1</td>\n",
       "      <td>0</td>\n",
       "      <td>0</td>\n",
       "      <td>0</td>\n",
       "      <td>0</td>\n",
       "      <td>0</td>\n",
       "      <td>0</td>\n",
       "      <td>...</td>\n",
       "      <td>0</td>\n",
       "      <td>0</td>\n",
       "      <td>0</td>\n",
       "      <td>1</td>\n",
       "      <td>0</td>\n",
       "      <td>0</td>\n",
       "      <td>0</td>\n",
       "      <td>0</td>\n",
       "      <td>0</td>\n",
       "      <td>1</td>\n",
       "    </tr>\n",
       "    <tr>\n",
       "      <th>3</th>\n",
       "      <td>3</td>\n",
       "      <td>0</td>\n",
       "      <td>0</td>\n",
       "      <td>0</td>\n",
       "      <td>0</td>\n",
       "      <td>0</td>\n",
       "      <td>1</td>\n",
       "      <td>0</td>\n",
       "      <td>0</td>\n",
       "      <td>0</td>\n",
       "      <td>...</td>\n",
       "      <td>0</td>\n",
       "      <td>0</td>\n",
       "      <td>0</td>\n",
       "      <td>1</td>\n",
       "      <td>0</td>\n",
       "      <td>0</td>\n",
       "      <td>0</td>\n",
       "      <td>0</td>\n",
       "      <td>0</td>\n",
       "      <td>1</td>\n",
       "    </tr>\n",
       "    <tr>\n",
       "      <th>4</th>\n",
       "      <td>4</td>\n",
       "      <td>1</td>\n",
       "      <td>0</td>\n",
       "      <td>0</td>\n",
       "      <td>0</td>\n",
       "      <td>0</td>\n",
       "      <td>0</td>\n",
       "      <td>0</td>\n",
       "      <td>0</td>\n",
       "      <td>0</td>\n",
       "      <td>...</td>\n",
       "      <td>0</td>\n",
       "      <td>0</td>\n",
       "      <td>0</td>\n",
       "      <td>1</td>\n",
       "      <td>0</td>\n",
       "      <td>0</td>\n",
       "      <td>0</td>\n",
       "      <td>0</td>\n",
       "      <td>0</td>\n",
       "      <td>1</td>\n",
       "    </tr>\n",
       "    <tr>\n",
       "      <th>...</th>\n",
       "      <td>...</td>\n",
       "      <td>...</td>\n",
       "      <td>...</td>\n",
       "      <td>...</td>\n",
       "      <td>...</td>\n",
       "      <td>...</td>\n",
       "      <td>...</td>\n",
       "      <td>...</td>\n",
       "      <td>...</td>\n",
       "      <td>...</td>\n",
       "      <td>...</td>\n",
       "      <td>...</td>\n",
       "      <td>...</td>\n",
       "      <td>...</td>\n",
       "      <td>...</td>\n",
       "      <td>...</td>\n",
       "      <td>...</td>\n",
       "      <td>...</td>\n",
       "      <td>...</td>\n",
       "      <td>...</td>\n",
       "      <td>...</td>\n",
       "    </tr>\n",
       "    <tr>\n",
       "      <th>2043</th>\n",
       "      <td>2046</td>\n",
       "      <td>0</td>\n",
       "      <td>0</td>\n",
       "      <td>1</td>\n",
       "      <td>0</td>\n",
       "      <td>0</td>\n",
       "      <td>0</td>\n",
       "      <td>0</td>\n",
       "      <td>0</td>\n",
       "      <td>0</td>\n",
       "      <td>...</td>\n",
       "      <td>0</td>\n",
       "      <td>0</td>\n",
       "      <td>0</td>\n",
       "      <td>1</td>\n",
       "      <td>0</td>\n",
       "      <td>0</td>\n",
       "      <td>0</td>\n",
       "      <td>0</td>\n",
       "      <td>0</td>\n",
       "      <td>1</td>\n",
       "    </tr>\n",
       "    <tr>\n",
       "      <th>2044</th>\n",
       "      <td>2047</td>\n",
       "      <td>0</td>\n",
       "      <td>0</td>\n",
       "      <td>1</td>\n",
       "      <td>0</td>\n",
       "      <td>0</td>\n",
       "      <td>0</td>\n",
       "      <td>0</td>\n",
       "      <td>0</td>\n",
       "      <td>0</td>\n",
       "      <td>...</td>\n",
       "      <td>0</td>\n",
       "      <td>0</td>\n",
       "      <td>0</td>\n",
       "      <td>1</td>\n",
       "      <td>0</td>\n",
       "      <td>0</td>\n",
       "      <td>0</td>\n",
       "      <td>0</td>\n",
       "      <td>0</td>\n",
       "      <td>1</td>\n",
       "    </tr>\n",
       "    <tr>\n",
       "      <th>2045</th>\n",
       "      <td>2048</td>\n",
       "      <td>1</td>\n",
       "      <td>0</td>\n",
       "      <td>0</td>\n",
       "      <td>0</td>\n",
       "      <td>0</td>\n",
       "      <td>0</td>\n",
       "      <td>0</td>\n",
       "      <td>0</td>\n",
       "      <td>0</td>\n",
       "      <td>...</td>\n",
       "      <td>0</td>\n",
       "      <td>0</td>\n",
       "      <td>0</td>\n",
       "      <td>1</td>\n",
       "      <td>0</td>\n",
       "      <td>0</td>\n",
       "      <td>0</td>\n",
       "      <td>0</td>\n",
       "      <td>0</td>\n",
       "      <td>1</td>\n",
       "    </tr>\n",
       "    <tr>\n",
       "      <th>2046</th>\n",
       "      <td>2049</td>\n",
       "      <td>0</td>\n",
       "      <td>0</td>\n",
       "      <td>1</td>\n",
       "      <td>0</td>\n",
       "      <td>0</td>\n",
       "      <td>0</td>\n",
       "      <td>0</td>\n",
       "      <td>0</td>\n",
       "      <td>0</td>\n",
       "      <td>...</td>\n",
       "      <td>0</td>\n",
       "      <td>0</td>\n",
       "      <td>0</td>\n",
       "      <td>1</td>\n",
       "      <td>0</td>\n",
       "      <td>0</td>\n",
       "      <td>0</td>\n",
       "      <td>0</td>\n",
       "      <td>0</td>\n",
       "      <td>1</td>\n",
       "    </tr>\n",
       "    <tr>\n",
       "      <th>2047</th>\n",
       "      <td>2050</td>\n",
       "      <td>0</td>\n",
       "      <td>0</td>\n",
       "      <td>0</td>\n",
       "      <td>0</td>\n",
       "      <td>0</td>\n",
       "      <td>1</td>\n",
       "      <td>0</td>\n",
       "      <td>0</td>\n",
       "      <td>0</td>\n",
       "      <td>...</td>\n",
       "      <td>0</td>\n",
       "      <td>0</td>\n",
       "      <td>0</td>\n",
       "      <td>1</td>\n",
       "      <td>0</td>\n",
       "      <td>0</td>\n",
       "      <td>0</td>\n",
       "      <td>0</td>\n",
       "      <td>0</td>\n",
       "      <td>1</td>\n",
       "    </tr>\n",
       "  </tbody>\n",
       "</table>\n",
       "<p>2048 rows × 28 columns</p>\n",
       "</div>"
      ],
      "text/plain": [
       "      index  1.5Fin  1.5Unf  1Story  2.5Fin  2.5Unf  2Story  SFoyer  SLvl  \\\n",
       "0         0       0       0       0       0       0       1       0     0   \n",
       "1         1       0       0       0       0       0       1       0     0   \n",
       "2         2       0       0       1       0       0       0       0     0   \n",
       "3         3       0       0       0       0       0       1       0     0   \n",
       "4         4       1       0       0       0       0       0       0     0   \n",
       "...     ...     ...     ...     ...     ...     ...     ...     ...   ...   \n",
       "2043   2046       0       0       1       0       0       0       0     0   \n",
       "2044   2047       0       0       1       0       0       0       0     0   \n",
       "2045   2048       1       0       0       0       0       0       0     0   \n",
       "2046   2049       0       0       1       0       0       0       0     0   \n",
       "2047   2050       0       0       0       0       0       1       0     0   \n",
       "\n",
       "      Flat  ...  Slab  Stone  Wood  GasA  GasW  Grav  OthW  Wall  N  Y  \n",
       "0        0  ...     0      0     0     1     0     0     0     0  0  1  \n",
       "1        0  ...     0      0     0     1     0     0     0     0  0  1  \n",
       "2        0  ...     0      0     0     1     0     0     0     0  0  1  \n",
       "3        0  ...     0      0     0     1     0     0     0     0  0  1  \n",
       "4        0  ...     0      0     0     1     0     0     0     0  0  1  \n",
       "...    ...  ...   ...    ...   ...   ...   ...   ...   ...   ... .. ..  \n",
       "2043     0  ...     0      0     0     1     0     0     0     0  0  1  \n",
       "2044     0  ...     0      0     0     1     0     0     0     0  0  1  \n",
       "2045     0  ...     0      0     0     1     0     0     0     0  0  1  \n",
       "2046     0  ...     0      0     0     1     0     0     0     0  0  1  \n",
       "2047     0  ...     0      0     0     1     0     0     0     0  0  1  \n",
       "\n",
       "[2048 rows x 28 columns]"
      ]
     },
     "execution_count": 47,
     "metadata": {},
     "output_type": "execute_result"
    }
   ],
   "source": [
    "iowatrain = iowatrain.drop(index= [616,960,1885], axis = 0)\n",
    "iowatrain.reset_index()\n",
    "dummified_dflist = dummified_dflist.drop(index= [616,960,1885], axis = 0)\n",
    "dummified_dflist.reset_index()"
   ]
  },
  {
   "cell_type": "code",
   "execution_count": 48,
   "metadata": {},
   "outputs": [],
   "source": [
    "includedcolumns = ['overall_qual','exter_qual','gr_liv_area', 'kitchen_qual',\n",
    "                   'garage_area', 'total_bsmt_sf', '1st_flr_sf','year_remod/add',\n",
    "                   'fireplace_qu', 'full_bath', 'totrms_abvgrd','heating_qc',\n",
    "                   'sale_type', 'exterior_1st', 'neighborhood'] \n",
    "#Removed the redudant ones and made sure to include the buckets! \n",
    "\n",
    "# ['central_air', 'house_style', 'roof_style', 'mas_vnr_type','foundation'] \n",
    "# dummies\n"
   ]
  },
  {
   "cell_type": "code",
   "execution_count": 51,
   "metadata": {},
   "outputs": [
    {
     "data": {
      "text/plain": [
       "(2048, 15)"
      ]
     },
     "execution_count": 51,
     "metadata": {},
     "output_type": "execute_result"
    }
   ],
   "source": [
    "iowatrain_clean = iowatrain[includedcolumns]\n",
    "iowatrain_clean.shape"
   ]
  },
  {
   "cell_type": "code",
   "execution_count": 52,
   "metadata": {},
   "outputs": [
    {
     "data": {
      "text/plain": [
       "(2048, 27)"
      ]
     },
     "execution_count": 52,
     "metadata": {},
     "output_type": "execute_result"
    }
   ],
   "source": [
    "dummified_dflist.shape"
   ]
  },
  {
   "cell_type": "code",
   "execution_count": 56,
   "metadata": {},
   "outputs": [],
   "source": [
    "iowatrain_clean = pd.concat([iowatrain_clean, dummified_dflist],axis=1, join='outer')"
   ]
  },
  {
   "cell_type": "code",
   "execution_count": 57,
   "metadata": {},
   "outputs": [],
   "source": [
    "iowatrain_clean.to_csv('./datasets/iowatrain_clean_OHYEAH.csv')"
   ]
  }
 ],
 "metadata": {
  "kernelspec": {
   "display_name": "Python 3",
   "language": "python",
   "name": "python3"
  },
  "language_info": {
   "codemirror_mode": {
    "name": "ipython",
    "version": 3
   },
   "file_extension": ".py",
   "mimetype": "text/x-python",
   "name": "python",
   "nbconvert_exporter": "python",
   "pygments_lexer": "ipython3",
   "version": "3.8.3"
  }
 },
 "nbformat": 4,
 "nbformat_minor": 4
}
